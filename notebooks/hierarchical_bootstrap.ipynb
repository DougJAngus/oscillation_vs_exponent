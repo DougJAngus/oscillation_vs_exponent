{
 "cells": [
  {
   "cell_type": "markdown",
   "id": "ce4c183d",
   "metadata": {},
   "source": [
    "# Hierarchical bootsrap"
   ]
  },
  {
   "attachments": {},
   "cell_type": "markdown",
   "id": "50e6baec",
   "metadata": {},
   "source": [
    "### Set path"
   ]
  },
  {
   "cell_type": "code",
   "execution_count": 1,
   "id": "8f321197",
   "metadata": {},
   "outputs": [],
   "source": [
    "PROJECT_PATH = 'C:/Users/micha/projects/oscillation_vs_exponent/'"
   ]
  },
  {
   "attachments": {},
   "cell_type": "markdown",
   "id": "cb35a6c8",
   "metadata": {},
   "source": [
    "## Set-up"
   ]
  },
  {
   "attachments": {},
   "cell_type": "markdown",
   "id": "bd8c029b",
   "metadata": {},
   "source": [
    "### Imports"
   ]
  },
  {
   "cell_type": "code",
   "execution_count": 2,
   "id": "f4ff781d",
   "metadata": {},
   "outputs": [],
   "source": [
    "import os\n",
    "import numpy as np\n",
    "import pandas as pd\n",
    "import matplotlib.pyplot as plt\n",
    "from time import time"
   ]
  },
  {
   "attachments": {},
   "cell_type": "markdown",
   "id": "8beac22f",
   "metadata": {},
   "source": [
    "### Settings"
   ]
  },
  {
   "cell_type": "code",
   "execution_count": 3,
   "id": "26882fd1",
   "metadata": {},
   "outputs": [],
   "source": [
    "N_ITERATIONS = 1000 # number of iterations for bootstrapping\n",
    "VAR = 'exponent' # variable to analyze"
   ]
  },
  {
   "cell_type": "markdown",
   "id": "1e3b65e5",
   "metadata": {},
   "source": [
    "### functions"
   ]
  },
  {
   "cell_type": "code",
   "execution_count": 4,
   "id": "876a4afd",
   "metadata": {},
   "outputs": [],
   "source": [
    "# hierarchical bootstrap function\n",
    "\n",
    "def hierarchical_bootstrap(df, variable, condition, level_2, level_3, iterations, verbose=True):\n",
    "    \"\"\"\n",
    "    Perform hierarchical bootstrap on data. \n",
    "    \n",
    "    Parameters\n",
    "    ----------\n",
    "    df : pandas.DataFrame\n",
    "        Dataframe containing data to resample.\n",
    "    variable : str\n",
    "        Variable to resample.\n",
    "    condition : str\n",
    "        Experimental condition of interest (level 1 of hierarchy).\n",
    "    level_2 : str\n",
    "        Level 2 of hierarchy.\n",
    "    level_3 : str\n",
    "        Level 3 of hierarchy.\n",
    "    iterations : int\n",
    "        Number of iterations for resampling.\n",
    "    verbose : bool\n",
    "        If True, print results.\n",
    "\n",
    "    Returns\n",
    "    -------\n",
    "    distribution : numpy.ndarray\n",
    "        Resampled distribution of differences between experimental conditions.\n",
    "    true_diff : float\n",
    "        True difference between experimental conditions.\n",
    "\n",
    "    \"\"\"\n",
    "    # check that there are only two experimental conditions\n",
    "    conditions = df[condition].unique()\n",
    "    if len(conditions) != 2:\n",
    "        raise ValueError(\"More than two experimental conditions detected.\")\n",
    "\n",
    "    # get cluster info\n",
    "    clusters = df[level_2].unique()\n",
    "    n_clusters = len(clusters)\n",
    "    \n",
    "    # compute true difference between experimental conditions \n",
    "    true_diff = np.nanmean(df.loc[df[condition]==conditions[1], variable]) - \\\n",
    "        np.nanmean(df.loc[df[condition]==conditions[0], variable])\n",
    "\n",
    "    # loop through iterations\n",
    "    distribution = np.zeros(iterations)\n",
    "    for i_iteration in range(iterations):\n",
    "        # display progress\n",
    "        # print(f\"Iteration {i_iteration+1}/{iterations}\")\n",
    "\n",
    "        # Resample level 2 \n",
    "        clusters_resampled = np.random.choice(clusters, size=n_clusters)\n",
    "\n",
    "        # resample level 3 and get data for each cluster\n",
    "        values = np.zeros(n_clusters)\n",
    "        for i_cluster, cluster_i in enumerate(clusters_resampled):\n",
    "            # resample level 3\n",
    "            instances = df.loc[df[level_2]==cluster_i, level_3].unique()\n",
    "            instances_resampled = np.random.choice(instances, size=len(instances))\n",
    "\n",
    "            # get data for each instance within cluster and average\n",
    "            values_cluster = np.zeros(len(instances))\n",
    "            for i_instance, instance_i in enumerate(instances_resampled):\n",
    "                values_cluster[i_instance] = df.loc[(df[level_2]==cluster_i) \\\n",
    "                    & (df[level_3]==instance_i), variable].values[0]\n",
    "            values[i_cluster] = np.nanmean(values_cluster)\n",
    "\n",
    "        # compute difference between surrogate groups\n",
    "        distribution[i_iteration] = np.nanmean(values[len(values)//2:]) - np.nanmean(values[:len(values)//2])\n",
    "\n",
    "    # compute p-value (proportion of surrogate differences greater than true difference)\n",
    "    p_value = np.sum(np.abs(distribution) > np.abs(true_diff)) / len(distribution)\n",
    "\n",
    "    # print results\n",
    "    if verbose:\n",
    "        print(f\"True difference: {true_diff :0.3f}\")\n",
    "        print(f\"p-value: {p_value :0.3f}\")\n",
    "\n",
    "    return p_value, distribution, true_diff\n",
    "\n",
    "\n",
    "def plot_permutation_results(distribution, true_diff):\n",
    "    fig, ax = plt.subplots(figsize=(6,4))\n",
    "    ax.hist(distribution, bins=20, color='k', label='resampled difference')\n",
    "    ax.axvline(true_diff, color='k', linestyle='--', label='true difference')\n",
    "    ax.set_xlabel('difference')\n",
    "    ax.set_ylabel('count')\n",
    "    ax.set_title('Permutation test results')\n",
    "    ax.legend()\n",
    "    plt.show()"
   ]
  },
  {
   "cell_type": "markdown",
   "id": "cb5020cc",
   "metadata": {},
   "source": [
    "## demo hierarchical bootstrap function on simulted data"
   ]
  },
  {
   "cell_type": "code",
   "execution_count": 5,
   "id": "862ff8d6",
   "metadata": {},
   "outputs": [
    {
     "name": "stdout",
     "output_type": "stream",
     "text": [
      "True difference: 0.180\n",
      "p-value: 0.530\n"
     ]
    },
    {
     "data": {
      "image/png": "[encoded data removed]",
      "text/plain": [
       "<Figure size 432x288 with 1 Axes>"
      ]
     },
     "metadata": {
      "needs_background": "light"
     },
     "output_type": "display_data"
    },
    {
     "data": {
      "image/png": "[encoded data removed]",
      "text/plain": [
       "<Figure size 432x288 with 1 Axes>"
      ]
     },
     "metadata": {
      "needs_background": "light"
     },
     "output_type": "display_data"
    },
    {
     "name": "stdout",
     "output_type": "stream",
     "text": [
      "True difference: 0.524\n",
      "p-value: 0.040\n"
     ]
    },
    {
     "data": {
      "image/png": "[encoded data removed]",
      "text/plain": [
       "<Figure size 432x288 with 1 Axes>"
      ]
     },
     "metadata": {
      "needs_background": "light"
     },
     "output_type": "display_data"
    },
    {
     "data": {
      "image/png": "[encoded data removed]",
      "text/plain": [
       "<Figure size 432x288 with 1 Axes>"
      ]
     },
     "metadata": {
      "needs_background": "light"
     },
     "output_type": "display_data"
    },
    {
     "name": "stdout",
     "output_type": "stream",
     "text": [
      "True difference: 1.060\n",
      "p-value: 0.020\n"
     ]
    },
    {
     "data": {
      "image/png": "[encoded data removed]",
      "text/plain": [
       "<Figure size 432x288 with 1 Axes>"
      ]
     },
     "metadata": {
      "needs_background": "light"
     },
     "output_type": "display_data"
    },
    {
     "data": {
      "image/png": "[encoded data removed]",
      "text/plain": [
       "<Figure size 432x288 with 1 Axes>"
      ]
     },
     "metadata": {
      "needs_background": "light"
     },
     "output_type": "display_data"
    }
   ],
   "source": [
    "# test hierarchical bootstrap function on simulted data\n",
    "\n",
    "# create simulated data\n",
    "n_clusters = 10\n",
    "n_instances = 10\n",
    "\n",
    "# \n",
    "for shift in [0, 0.5, 1]:\n",
    "    # create dataframe\n",
    "    df = pd.DataFrame(columns=['condition','cluster','instance','value'])\n",
    "    for i_cluster in range(n_clusters):\n",
    "        for i_instance in range(n_instances):\n",
    "            df_i = pd.DataFrame(columns=['condition','cluster','instance','value'])\n",
    "            df_i['condition'] = np.random.choice([0,1], size=1)\n",
    "            df_i['cluster'] = i_cluster\n",
    "            df_i['instance'] = i_instance\n",
    "            df_i['value'] = np.random.randn()\n",
    "            df = pd.concat([df, df_i], ignore_index=True)\n",
    "\n",
    "    # shift values for condition 1\n",
    "    df.loc[df['condition']==1, 'value'] += shift\n",
    "\n",
    "    # convert value column to float\n",
    "    df['value'] = df['value'].astype(float)\n",
    "\n",
    "    # plot\n",
    "    fig, ax = plt.subplots(figsize=(6,4))\n",
    "    ax.hist(df.loc[df['condition']==0, 'value'], bins=20, color='k', alpha=0.5)\n",
    "    ax.hist(df.loc[df['condition']==1, 'value'], bins=20, color='b', alpha=0.5)\n",
    "\n",
    "    # apply hierarchical bootstrap\n",
    "    p_value, distribution, true_diff = hierarchical_bootstrap(df, 'value', 'condition', 'cluster', 'instance', 100)\n",
    "    plot_permutation_results(distribution, true_diff)"
   ]
  },
  {
   "attachments": {},
   "cell_type": "markdown",
   "id": "45e8f7c2",
   "metadata": {},
   "source": [
    "## Main"
   ]
  },
  {
   "cell_type": "markdown",
   "id": "2fe41d9e",
   "metadata": {},
   "source": [
    "### load specparam results"
   ]
  },
  {
   "cell_type": "code",
   "execution_count": 6,
   "id": "7d14605e",
   "metadata": {},
   "outputs": [
    {
     "name": "stdout",
     "output_type": "stream",
     "text": [
      "(5560, 19)\n",
      "695.0\n"
     ]
    },
    {
     "data": {
      "text/html": [
       "<div>\n",
       "<style scoped>\n",
       "    .dataframe tbody tr th:only-of-type {\n",
       "        vertical-align: middle;\n",
       "    }\n",
       "\n",
       "    .dataframe tbody tr th {\n",
       "        vertical-align: top;\n",
       "    }\n",
       "\n",
       "    .dataframe thead th {\n",
       "        text-align: right;\n",
       "    }\n",
       "</style>\n",
       "<table border=\"1\" class=\"dataframe\">\n",
       "  <thead>\n",
       "    <tr style=\"text-align: right;\">\n",
       "      <th></th>\n",
       "      <th>patient</th>\n",
       "      <th>chan_idx</th>\n",
       "      <th>label</th>\n",
       "      <th>pos_y</th>\n",
       "      <th>pos_x</th>\n",
       "      <th>pos_z</th>\n",
       "      <th>unique_id</th>\n",
       "      <th>material</th>\n",
       "      <th>memory</th>\n",
       "      <th>epoch</th>\n",
       "      <th>offset</th>\n",
       "      <th>knee</th>\n",
       "      <th>exponent</th>\n",
       "      <th>f_rotation</th>\n",
       "      <th>alpha_cf</th>\n",
       "      <th>alpha_pw</th>\n",
       "      <th>alpha_bw</th>\n",
       "      <th>alpha_bp</th>\n",
       "      <th>alpha_adj</th>\n",
       "    </tr>\n",
       "  </thead>\n",
       "  <tbody>\n",
       "    <tr>\n",
       "      <th>0</th>\n",
       "      <td>pat02</td>\n",
       "      <td>0</td>\n",
       "      <td>A01-A02</td>\n",
       "      <td>-65.43100</td>\n",
       "      <td>61.94490</td>\n",
       "      <td>3.55955</td>\n",
       "      <td>pat02_0</td>\n",
       "      <td>words</td>\n",
       "      <td>hit</td>\n",
       "      <td>prestim</td>\n",
       "      <td>8.451107</td>\n",
       "      <td>12.903272</td>\n",
       "      <td>3.542673</td>\n",
       "      <td>10.978558</td>\n",
       "      <td>NaN</td>\n",
       "      <td>NaN</td>\n",
       "      <td>NaN</td>\n",
       "      <td>27777.899824</td>\n",
       "      <td>5664.172994</td>\n",
       "    </tr>\n",
       "    <tr>\n",
       "      <th>1</th>\n",
       "      <td>pat02</td>\n",
       "      <td>1</td>\n",
       "      <td>A02-A03</td>\n",
       "      <td>-70.93895</td>\n",
       "      <td>57.17765</td>\n",
       "      <td>12.15540</td>\n",
       "      <td>pat02_1</td>\n",
       "      <td>words</td>\n",
       "      <td>hit</td>\n",
       "      <td>prestim</td>\n",
       "      <td>7.595982</td>\n",
       "      <td>12.332651</td>\n",
       "      <td>3.052480</td>\n",
       "      <td>83.836257</td>\n",
       "      <td>10.839096</td>\n",
       "      <td>0.210785</td>\n",
       "      <td>2.000000</td>\n",
       "      <td>14445.161672</td>\n",
       "      <td>2948.320508</td>\n",
       "    </tr>\n",
       "    <tr>\n",
       "      <th>2</th>\n",
       "      <td>pat02</td>\n",
       "      <td>2</td>\n",
       "      <td>A03-A04</td>\n",
       "      <td>-75.39550</td>\n",
       "      <td>51.39440</td>\n",
       "      <td>20.94335</td>\n",
       "      <td>pat02_2</td>\n",
       "      <td>words</td>\n",
       "      <td>hit</td>\n",
       "      <td>prestim</td>\n",
       "      <td>7.056773</td>\n",
       "      <td>8.787521</td>\n",
       "      <td>2.774045</td>\n",
       "      <td>89.824561</td>\n",
       "      <td>12.850783</td>\n",
       "      <td>0.276397</td>\n",
       "      <td>2.000000</td>\n",
       "      <td>15085.969728</td>\n",
       "      <td>4269.780182</td>\n",
       "    </tr>\n",
       "    <tr>\n",
       "      <th>3</th>\n",
       "      <td>pat02</td>\n",
       "      <td>3</td>\n",
       "      <td>A04-A05</td>\n",
       "      <td>-78.91950</td>\n",
       "      <td>43.90980</td>\n",
       "      <td>30.13485</td>\n",
       "      <td>pat02_3</td>\n",
       "      <td>words</td>\n",
       "      <td>hit</td>\n",
       "      <td>prestim</td>\n",
       "      <td>7.595080</td>\n",
       "      <td>10.177476</td>\n",
       "      <td>2.940543</td>\n",
       "      <td>59.883041</td>\n",
       "      <td>NaN</td>\n",
       "      <td>NaN</td>\n",
       "      <td>NaN</td>\n",
       "      <td>23672.502537</td>\n",
       "      <td>2726.078761</td>\n",
       "    </tr>\n",
       "    <tr>\n",
       "      <th>4</th>\n",
       "      <td>pat02</td>\n",
       "      <td>4</td>\n",
       "      <td>A05-A06</td>\n",
       "      <td>-80.96735</td>\n",
       "      <td>35.21485</td>\n",
       "      <td>38.13475</td>\n",
       "      <td>pat02_4</td>\n",
       "      <td>words</td>\n",
       "      <td>hit</td>\n",
       "      <td>prestim</td>\n",
       "      <td>7.399935</td>\n",
       "      <td>9.126477</td>\n",
       "      <td>2.872949</td>\n",
       "      <td>65.871345</td>\n",
       "      <td>11.565201</td>\n",
       "      <td>0.227912</td>\n",
       "      <td>2.671217</td>\n",
       "      <td>21742.063343</td>\n",
       "      <td>3556.630628</td>\n",
       "    </tr>\n",
       "  </tbody>\n",
       "</table>\n",
       "</div>"
      ],
      "text/plain": [
       "  patient  chan_idx    label     pos_y     pos_x     pos_z unique_id material  \\\n",
       "0   pat02         0  A01-A02 -65.43100  61.94490   3.55955   pat02_0    words   \n",
       "1   pat02         1  A02-A03 -70.93895  57.17765  12.15540   pat02_1    words   \n",
       "2   pat02         2  A03-A04 -75.39550  51.39440  20.94335   pat02_2    words   \n",
       "3   pat02         3  A04-A05 -78.91950  43.90980  30.13485   pat02_3    words   \n",
       "4   pat02         4  A05-A06 -80.96735  35.21485  38.13475   pat02_4    words   \n",
       "\n",
       "  memory    epoch    offset       knee  exponent  f_rotation   alpha_cf  \\\n",
       "0    hit  prestim  8.451107  12.903272  3.542673   10.978558        NaN   \n",
       "1    hit  prestim  7.595982  12.332651  3.052480   83.836257  10.839096   \n",
       "2    hit  prestim  7.056773   8.787521  2.774045   89.824561  12.850783   \n",
       "3    hit  prestim  7.595080  10.177476  2.940543   59.883041        NaN   \n",
       "4    hit  prestim  7.399935   9.126477  2.872949   65.871345  11.565201   \n",
       "\n",
       "   alpha_pw  alpha_bw      alpha_bp    alpha_adj  \n",
       "0       NaN       NaN  27777.899824  5664.172994  \n",
       "1  0.210785  2.000000  14445.161672  2948.320508  \n",
       "2  0.276397  2.000000  15085.969728  4269.780182  \n",
       "3       NaN       NaN  23672.502537  2726.078761  \n",
       "4  0.227912  2.671217  21742.063343  3556.630628  "
      ]
     },
     "execution_count": 6,
     "metadata": {},
     "output_type": "execute_result"
    }
   ],
   "source": [
    "# load spectral parameterization results\n",
    "results = pd.read_csv(f\"{PROJECT_PATH}/data/results/spectral_parameters.csv\", index_col=0)\n",
    "\n",
    "# show\n",
    "print(results.shape)\n",
    "print(len(results)/8)\n",
    "results.head()"
   ]
  },
  {
   "cell_type": "code",
   "execution_count": 7,
   "id": "eb8f7258",
   "metadata": {},
   "outputs": [
    {
     "data": {
      "text/html": [
       "<div>\n",
       "<style scoped>\n",
       "    .dataframe tbody tr th:only-of-type {\n",
       "        vertical-align: middle;\n",
       "    }\n",
       "\n",
       "    .dataframe tbody tr th {\n",
       "        vertical-align: top;\n",
       "    }\n",
       "\n",
       "    .dataframe thead th {\n",
       "        text-align: right;\n",
       "    }\n",
       "</style>\n",
       "<table border=\"1\" class=\"dataframe\">\n",
       "  <thead>\n",
       "    <tr style=\"text-align: right;\">\n",
       "      <th></th>\n",
       "      <th>patient</th>\n",
       "      <th>chan_idx</th>\n",
       "      <th>label</th>\n",
       "      <th>pos_y</th>\n",
       "      <th>pos_x</th>\n",
       "      <th>pos_z</th>\n",
       "      <th>unique_id</th>\n",
       "      <th>material</th>\n",
       "      <th>memory</th>\n",
       "      <th>epoch</th>\n",
       "      <th>...</th>\n",
       "      <th>f_rotation</th>\n",
       "      <th>alpha_cf</th>\n",
       "      <th>alpha_pw</th>\n",
       "      <th>alpha_bw</th>\n",
       "      <th>alpha_bp</th>\n",
       "      <th>alpha_adj</th>\n",
       "      <th>p_val</th>\n",
       "      <th>sign</th>\n",
       "      <th>sig_tm</th>\n",
       "      <th>sig</th>\n",
       "    </tr>\n",
       "  </thead>\n",
       "  <tbody>\n",
       "    <tr>\n",
       "      <th>2</th>\n",
       "      <td>pat02</td>\n",
       "      <td>1</td>\n",
       "      <td>A02-A03</td>\n",
       "      <td>-70.93895</td>\n",
       "      <td>57.17765</td>\n",
       "      <td>12.15540</td>\n",
       "      <td>pat02_1</td>\n",
       "      <td>words</td>\n",
       "      <td>hit</td>\n",
       "      <td>prestim</td>\n",
       "      <td>...</td>\n",
       "      <td>83.836257</td>\n",
       "      <td>10.839096</td>\n",
       "      <td>0.210785</td>\n",
       "      <td>2.000000</td>\n",
       "      <td>14445.161672</td>\n",
       "      <td>2948.320508</td>\n",
       "      <td>0.0460</td>\n",
       "      <td>-1</td>\n",
       "      <td>True</td>\n",
       "      <td>True</td>\n",
       "    </tr>\n",
       "    <tr>\n",
       "      <th>3</th>\n",
       "      <td>pat02</td>\n",
       "      <td>1</td>\n",
       "      <td>A02-A03</td>\n",
       "      <td>-70.93895</td>\n",
       "      <td>57.17765</td>\n",
       "      <td>12.15540</td>\n",
       "      <td>pat02_1</td>\n",
       "      <td>words</td>\n",
       "      <td>hit</td>\n",
       "      <td>poststim</td>\n",
       "      <td>...</td>\n",
       "      <td>83.836257</td>\n",
       "      <td>NaN</td>\n",
       "      <td>NaN</td>\n",
       "      <td>NaN</td>\n",
       "      <td>17070.159190</td>\n",
       "      <td>1877.064258</td>\n",
       "      <td>0.0460</td>\n",
       "      <td>-1</td>\n",
       "      <td>True</td>\n",
       "      <td>True</td>\n",
       "    </tr>\n",
       "    <tr>\n",
       "      <th>8</th>\n",
       "      <td>pat02</td>\n",
       "      <td>4</td>\n",
       "      <td>A05-A06</td>\n",
       "      <td>-80.96735</td>\n",
       "      <td>35.21485</td>\n",
       "      <td>38.13475</td>\n",
       "      <td>pat02_4</td>\n",
       "      <td>words</td>\n",
       "      <td>hit</td>\n",
       "      <td>prestim</td>\n",
       "      <td>...</td>\n",
       "      <td>65.871345</td>\n",
       "      <td>11.565201</td>\n",
       "      <td>0.227912</td>\n",
       "      <td>2.671217</td>\n",
       "      <td>21742.063343</td>\n",
       "      <td>3556.630628</td>\n",
       "      <td>0.0000</td>\n",
       "      <td>1</td>\n",
       "      <td>True</td>\n",
       "      <td>True</td>\n",
       "    </tr>\n",
       "    <tr>\n",
       "      <th>9</th>\n",
       "      <td>pat02</td>\n",
       "      <td>4</td>\n",
       "      <td>A05-A06</td>\n",
       "      <td>-80.96735</td>\n",
       "      <td>35.21485</td>\n",
       "      <td>38.13475</td>\n",
       "      <td>pat02_4</td>\n",
       "      <td>words</td>\n",
       "      <td>hit</td>\n",
       "      <td>poststim</td>\n",
       "      <td>...</td>\n",
       "      <td>65.871345</td>\n",
       "      <td>NaN</td>\n",
       "      <td>NaN</td>\n",
       "      <td>NaN</td>\n",
       "      <td>13166.935700</td>\n",
       "      <td>-647.224520</td>\n",
       "      <td>0.0000</td>\n",
       "      <td>1</td>\n",
       "      <td>True</td>\n",
       "      <td>True</td>\n",
       "    </tr>\n",
       "    <tr>\n",
       "      <th>18</th>\n",
       "      <td>pat04</td>\n",
       "      <td>0</td>\n",
       "      <td>A01-A09</td>\n",
       "      <td>-58.30120</td>\n",
       "      <td>52.43075</td>\n",
       "      <td>-26.23685</td>\n",
       "      <td>pat04_0</td>\n",
       "      <td>words</td>\n",
       "      <td>hit</td>\n",
       "      <td>prestim</td>\n",
       "      <td>...</td>\n",
       "      <td>36.927875</td>\n",
       "      <td>9.468345</td>\n",
       "      <td>0.655227</td>\n",
       "      <td>2.200840</td>\n",
       "      <td>147381.091963</td>\n",
       "      <td>92616.547726</td>\n",
       "      <td>0.0012</td>\n",
       "      <td>1</td>\n",
       "      <td>True</td>\n",
       "      <td>True</td>\n",
       "    </tr>\n",
       "    <tr>\n",
       "      <th>...</th>\n",
       "      <td>...</td>\n",
       "      <td>...</td>\n",
       "      <td>...</td>\n",
       "      <td>...</td>\n",
       "      <td>...</td>\n",
       "      <td>...</td>\n",
       "      <td>...</td>\n",
       "      <td>...</td>\n",
       "      <td>...</td>\n",
       "      <td>...</td>\n",
       "      <td>...</td>\n",
       "      <td>...</td>\n",
       "      <td>...</td>\n",
       "      <td>...</td>\n",
       "      <td>...</td>\n",
       "      <td>...</td>\n",
       "      <td>...</td>\n",
       "      <td>...</td>\n",
       "      <td>...</td>\n",
       "      <td>...</td>\n",
       "      <td>...</td>\n",
       "    </tr>\n",
       "    <tr>\n",
       "      <th>5317</th>\n",
       "      <td>pat22</td>\n",
       "      <td>25</td>\n",
       "      <td>PI_05-PI_06</td>\n",
       "      <td>-10.50000</td>\n",
       "      <td>-40.00000</td>\n",
       "      <td>32.50000</td>\n",
       "      <td>pat22_25</td>\n",
       "      <td>faces</td>\n",
       "      <td>miss</td>\n",
       "      <td>poststim</td>\n",
       "      <td>...</td>\n",
       "      <td>NaN</td>\n",
       "      <td>7.303599</td>\n",
       "      <td>0.441313</td>\n",
       "      <td>2.000000</td>\n",
       "      <td>2353.031222</td>\n",
       "      <td>218.392527</td>\n",
       "      <td>0.0286</td>\n",
       "      <td>-1</td>\n",
       "      <td>True</td>\n",
       "      <td>True</td>\n",
       "    </tr>\n",
       "    <tr>\n",
       "      <th>5324</th>\n",
       "      <td>pat22</td>\n",
       "      <td>29</td>\n",
       "      <td>PI_09-PI_10</td>\n",
       "      <td>-11.50000</td>\n",
       "      <td>-41.00000</td>\n",
       "      <td>60.50000</td>\n",
       "      <td>pat22_29</td>\n",
       "      <td>faces</td>\n",
       "      <td>miss</td>\n",
       "      <td>prestim</td>\n",
       "      <td>...</td>\n",
       "      <td>55.890838</td>\n",
       "      <td>NaN</td>\n",
       "      <td>NaN</td>\n",
       "      <td>NaN</td>\n",
       "      <td>20708.678733</td>\n",
       "      <td>1308.590509</td>\n",
       "      <td>0.3236</td>\n",
       "      <td>-1</td>\n",
       "      <td>False</td>\n",
       "      <td>True</td>\n",
       "    </tr>\n",
       "    <tr>\n",
       "      <th>5325</th>\n",
       "      <td>pat22</td>\n",
       "      <td>29</td>\n",
       "      <td>PI_09-PI_10</td>\n",
       "      <td>-11.50000</td>\n",
       "      <td>-41.00000</td>\n",
       "      <td>60.50000</td>\n",
       "      <td>pat22_29</td>\n",
       "      <td>faces</td>\n",
       "      <td>miss</td>\n",
       "      <td>poststim</td>\n",
       "      <td>...</td>\n",
       "      <td>55.890838</td>\n",
       "      <td>NaN</td>\n",
       "      <td>NaN</td>\n",
       "      <td>NaN</td>\n",
       "      <td>24299.172337</td>\n",
       "      <td>-7349.650002</td>\n",
       "      <td>0.3236</td>\n",
       "      <td>-1</td>\n",
       "      <td>False</td>\n",
       "      <td>True</td>\n",
       "    </tr>\n",
       "    <tr>\n",
       "      <th>5368</th>\n",
       "      <td>pat22</td>\n",
       "      <td>51</td>\n",
       "      <td>MOF_08-MOF_09</td>\n",
       "      <td>48.00000</td>\n",
       "      <td>-14.00000</td>\n",
       "      <td>23.50000</td>\n",
       "      <td>pat22_51</td>\n",
       "      <td>faces</td>\n",
       "      <td>miss</td>\n",
       "      <td>prestim</td>\n",
       "      <td>...</td>\n",
       "      <td>43.914230</td>\n",
       "      <td>NaN</td>\n",
       "      <td>NaN</td>\n",
       "      <td>NaN</td>\n",
       "      <td>3829.861430</td>\n",
       "      <td>-176.791341</td>\n",
       "      <td>0.0006</td>\n",
       "      <td>-1</td>\n",
       "      <td>True</td>\n",
       "      <td>True</td>\n",
       "    </tr>\n",
       "    <tr>\n",
       "      <th>5369</th>\n",
       "      <td>pat22</td>\n",
       "      <td>51</td>\n",
       "      <td>MOF_08-MOF_09</td>\n",
       "      <td>48.00000</td>\n",
       "      <td>-14.00000</td>\n",
       "      <td>23.50000</td>\n",
       "      <td>pat22_51</td>\n",
       "      <td>faces</td>\n",
       "      <td>miss</td>\n",
       "      <td>poststim</td>\n",
       "      <td>...</td>\n",
       "      <td>43.914230</td>\n",
       "      <td>NaN</td>\n",
       "      <td>NaN</td>\n",
       "      <td>NaN</td>\n",
       "      <td>6701.218565</td>\n",
       "      <td>-123.642327</td>\n",
       "      <td>0.0006</td>\n",
       "      <td>-1</td>\n",
       "      <td>True</td>\n",
       "      <td>True</td>\n",
       "    </tr>\n",
       "  </tbody>\n",
       "</table>\n",
       "<p>860 rows × 23 columns</p>\n",
       "</div>"
      ],
      "text/plain": [
       "     patient  chan_idx          label     pos_y     pos_x     pos_z unique_id  \\\n",
       "2      pat02         1        A02-A03 -70.93895  57.17765  12.15540   pat02_1   \n",
       "3      pat02         1        A02-A03 -70.93895  57.17765  12.15540   pat02_1   \n",
       "8      pat02         4        A05-A06 -80.96735  35.21485  38.13475   pat02_4   \n",
       "9      pat02         4        A05-A06 -80.96735  35.21485  38.13475   pat02_4   \n",
       "18     pat04         0        A01-A09 -58.30120  52.43075 -26.23685   pat04_0   \n",
       "...      ...       ...            ...       ...       ...       ...       ...   \n",
       "5317   pat22        25    PI_05-PI_06 -10.50000 -40.00000  32.50000  pat22_25   \n",
       "5324   pat22        29    PI_09-PI_10 -11.50000 -41.00000  60.50000  pat22_29   \n",
       "5325   pat22        29    PI_09-PI_10 -11.50000 -41.00000  60.50000  pat22_29   \n",
       "5368   pat22        51  MOF_08-MOF_09  48.00000 -14.00000  23.50000  pat22_51   \n",
       "5369   pat22        51  MOF_08-MOF_09  48.00000 -14.00000  23.50000  pat22_51   \n",
       "\n",
       "     material memory     epoch  ...  f_rotation   alpha_cf  alpha_pw  \\\n",
       "2       words    hit   prestim  ...   83.836257  10.839096  0.210785   \n",
       "3       words    hit  poststim  ...   83.836257        NaN       NaN   \n",
       "8       words    hit   prestim  ...   65.871345  11.565201  0.227912   \n",
       "9       words    hit  poststim  ...   65.871345        NaN       NaN   \n",
       "18      words    hit   prestim  ...   36.927875   9.468345  0.655227   \n",
       "...       ...    ...       ...  ...         ...        ...       ...   \n",
       "5317    faces   miss  poststim  ...         NaN   7.303599  0.441313   \n",
       "5324    faces   miss   prestim  ...   55.890838        NaN       NaN   \n",
       "5325    faces   miss  poststim  ...   55.890838        NaN       NaN   \n",
       "5368    faces   miss   prestim  ...   43.914230        NaN       NaN   \n",
       "5369    faces   miss  poststim  ...   43.914230        NaN       NaN   \n",
       "\n",
       "      alpha_bw       alpha_bp     alpha_adj   p_val  sign  sig_tm   sig  \n",
       "2     2.000000   14445.161672   2948.320508  0.0460    -1    True  True  \n",
       "3          NaN   17070.159190   1877.064258  0.0460    -1    True  True  \n",
       "8     2.671217   21742.063343   3556.630628  0.0000     1    True  True  \n",
       "9          NaN   13166.935700   -647.224520  0.0000     1    True  True  \n",
       "18    2.200840  147381.091963  92616.547726  0.0012     1    True  True  \n",
       "...        ...            ...           ...     ...   ...     ...   ...  \n",
       "5317  2.000000    2353.031222    218.392527  0.0286    -1    True  True  \n",
       "5324       NaN   20708.678733   1308.590509  0.3236    -1   False  True  \n",
       "5325       NaN   24299.172337  -7349.650002  0.3236    -1   False  True  \n",
       "5368       NaN    3829.861430   -176.791341  0.0006    -1    True  True  \n",
       "5369       NaN    6701.218565   -123.642327  0.0006    -1    True  True  \n",
       "\n",
       "[860 rows x 23 columns]"
      ]
     },
     "execution_count": 7,
     "metadata": {},
     "output_type": "execute_result"
    }
   ],
   "source": [
    "# get results for task-modulated channels only\n",
    "\n",
    "# load task-modulated channel info\n",
    "task_modulated_channels = pd.read_csv(f\"{PROJECT_PATH}/data/results/ieeg_modulated_channels.csv\", index_col=0)\n",
    "\n",
    "# join info with results\n",
    "df_merge = pd.merge(results, task_modulated_channels, on=['patient','chan_idx','material','memory'])\n",
    "\n",
    "# get task-modulated channel results only\n",
    "results = df_merge.loc[df_merge['sig']]\n",
    "results"
   ]
  },
  {
   "cell_type": "code",
   "execution_count": 8,
   "id": "87eafb65",
   "metadata": {},
   "outputs": [],
   "source": [
    "# split results by trial type (words/faces) and take successful trials only (memory==hit)\n",
    "df_w = results.loc[((results['memory']=='hit')&(results['material']=='words'))]\n",
    "df_f = results.loc[((results['memory']=='hit')&(results['material']=='faces'))]\n",
    "\n",
    "# start with one trial type\n",
    "df = df_w.copy()\n"
   ]
  },
  {
   "cell_type": "markdown",
   "id": "91296cd1",
   "metadata": {},
   "source": [
    "### perform hierarchical bootsrap\n",
    "level 1: epoch (experimental condition)  \n",
    "level 2: patient  \n",
    "level 3: channel"
   ]
  },
  {
   "cell_type": "code",
   "execution_count": 9,
   "id": "df15d062",
   "metadata": {},
   "outputs": [
    {
     "name": "stdout",
     "output_type": "stream",
     "text": [
      "#############################################\n",
      "word-encoding\n",
      "#############################################\n",
      "\n",
      "Variable: exponent\n"
     ]
    },
    {
     "name": "stdout",
     "output_type": "stream",
     "text": [
      "True difference: -0.176\n",
      "p-value: 0.230\n"
     ]
    },
    {
     "data": {
      "image/png": "[encoded data removed]",
      "text/plain": [
       "<Figure size 432x288 with 1 Axes>"
      ]
     },
     "metadata": {
      "needs_background": "light"
     },
     "output_type": "display_data"
    },
    {
     "name": "stdout",
     "output_type": "stream",
     "text": [
      "\n",
      "Variable: alpha_bp\n",
      "True difference: -4788.481\n",
      "p-value: 0.600\n"
     ]
    },
    {
     "data": {
      "image/png": "[encoded data removed]",
      "text/plain": [
       "<Figure size 432x288 with 1 Axes>"
      ]
     },
     "metadata": {
      "needs_background": "light"
     },
     "output_type": "display_data"
    },
    {
     "name": "stdout",
     "output_type": "stream",
     "text": [
      "\n",
      "Variable: alpha_adj\n",
      "True difference: -2961.657\n",
      "p-value: 0.650\n"
     ]
    },
    {
     "data": {
      "image/png": "[encoded data removed]",
      "text/plain": [
       "<Figure size 432x288 with 1 Axes>"
      ]
     },
     "metadata": {
      "needs_background": "light"
     },
     "output_type": "display_data"
    },
    {
     "name": "stdout",
     "output_type": "stream",
     "text": [
      "#############################################\n",
      "face-encoding\n",
      "#############################################\n",
      "\n",
      "Variable: exponent\n",
      "True difference: -0.171\n",
      "p-value: 0.150\n"
     ]
    },
    {
     "data": {
      "image/png": "[encoded data removed]",
      "text/plain": [
       "<Figure size 432x288 with 1 Axes>"
      ]
     },
     "metadata": {
      "needs_background": "light"
     },
     "output_type": "display_data"
    },
    {
     "name": "stdout",
     "output_type": "stream",
     "text": [
      "\n",
      "Variable: alpha_bp\n",
      "True difference: -1643.991\n",
      "p-value: 0.940\n"
     ]
    },
    {
     "data": {
      "image/png": "[encoded data removed]",
      "text/plain": [
       "<Figure size 432x288 with 1 Axes>"
      ]
     },
     "metadata": {
      "needs_background": "light"
     },
     "output_type": "display_data"
    },
    {
     "name": "stdout",
     "output_type": "stream",
     "text": [
      "\n",
      "Variable: alpha_adj\n",
      "True difference: -323.450\n",
      "p-value: 0.980\n"
     ]
    },
    {
     "data": {
      "image/png": "[encoded data removed]",
      "text/plain": [
       "<Figure size 432x288 with 1 Axes>"
      ]
     },
     "metadata": {
      "needs_background": "light"
     },
     "output_type": "display_data"
    }
   ],
   "source": [
    "# apply hierarchical bootstrap for each trial type and variable OF interest\n",
    "for df, material in zip([df_w, df_f],['word-encoding','face-encoding']):\n",
    "    # display progress\n",
    "    print(\"#############################################\")\n",
    "    print(material)\n",
    "    print(\"#############################################\")\n",
    "\n",
    "    for variable in ['exponent', 'alpha_bp','alpha_adj']:\n",
    "        # display progress\n",
    "        print(f\"\\nVariable: {variable}\")\n",
    "\n",
    "        # create unique_id column\n",
    "        df_r = df.copy()\n",
    "        df_r['unique_id'] = df_r['patient'] + '_' + df_r['epoch']\n",
    "\n",
    "        # apply hierarchical bootstrap\n",
    "        p_value, distribution, true_diff = hierarchical_bootstrap(df_r, variable, 'epoch', 'unique_id', 'chan_idx', 100)\n",
    "        plot_permutation_results(distribution, true_diff)"
   ]
  },
  {
   "cell_type": "code",
   "execution_count": null,
   "id": "1a7b3269",
   "metadata": {},
   "outputs": [],
   "source": []
  }
 ],
 "metadata": {
  "kernelspec": {
   "display_name": "Python 3",
   "language": "python",
   "name": "python3"
  },
  "language_info": {
   "codemirror_mode": {
    "name": "ipython",
    "version": 3
   },
   "file_extension": ".py",
   "mimetype": "text/x-python",
   "name": "python",
   "nbconvert_exporter": "python",
   "pygments_lexer": "ipython3",
   "version": "3.9.12"
  }
 },
 "nbformat": 4,
 "nbformat_minor": 5
}
