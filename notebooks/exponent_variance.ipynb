{
 "cells": [
  {
   "attachments": {},
   "cell_type": "markdown",
   "id": "ce4c183d",
   "metadata": {},
   "source": [
    "# Aperiodic exponent variance v. memory performance\n",
    "This notebook investigates the realtionship between the variance of the aperiodic exponent during the post-stimulus period and memory performance?"
   ]
  },
  {
   "cell_type": "code",
   "execution_count": 1,
   "id": "5b591a9b",
   "metadata": {},
   "outputs": [],
   "source": [
    "# FOOOF is causing some warnings about ragged arrays\n",
    "import warnings\n",
    "warnings.filterwarnings(\"ignore\")"
   ]
  },
  {
   "attachments": {},
   "cell_type": "markdown",
   "id": "df195a69",
   "metadata": {},
   "source": [
    "## Set-up"
   ]
  },
  {
   "attachments": {},
   "cell_type": "markdown",
   "id": "50e6baec",
   "metadata": {},
   "source": [
    "### Set path"
   ]
  },
  {
   "cell_type": "code",
   "execution_count": 2,
   "id": "8f321197",
   "metadata": {},
   "outputs": [],
   "source": [
    "PROJECT_PATH = 'C:/Users/micha/projects/oscillation_vs_exponent/'"
   ]
  },
  {
   "attachments": {},
   "cell_type": "markdown",
   "id": "bd8c029b",
   "metadata": {},
   "source": [
    "### Imports"
   ]
  },
  {
   "cell_type": "code",
   "execution_count": 3,
   "id": "f4ff781d",
   "metadata": {},
   "outputs": [],
   "source": [
    "# general\n",
    "import os\n",
    "import numpy as np\n",
    "import pandas as pd\n",
    "import matplotlib.pyplot as plt\n",
    "from scipy.stats import ttest_rel\n",
    "\n",
    "# voytek\n",
    "from fooof import FOOOFGroup"
   ]
  },
  {
   "cell_type": "code",
   "execution_count": 4,
   "id": "7097dd7b",
   "metadata": {},
   "outputs": [],
   "source": [
    "# custom/project-specific\n",
    "import sys\n",
    "sys.path.append(f\"{PROJECT_PATH}/code\")\n",
    "# from plots import \n",
    "from specparam_utils import load_ap_params"
   ]
  },
  {
   "attachments": {},
   "cell_type": "markdown",
   "id": "8beac22f",
   "metadata": {},
   "source": [
    "### Settings"
   ]
  },
  {
   "cell_type": "code",
   "execution_count": 5,
   "id": "26882fd1",
   "metadata": {},
   "outputs": [],
   "source": [
    "# dataset details\n",
    "FS = 512 # sampling frequency\n",
    "TMIN = -1.5 # epoch start time\n",
    "PATIENTS = ['pat02','pat04','pat05','pat08','pat10','pat11','pat15','pat16',\n",
    "            'pat17','pat19','pat20','pat21','pat22'] # subject IDs\n",
    "TIME = np.linspace(-1.5, 2.5, 128)\n",
    "\n"
   ]
  },
  {
   "cell_type": "code",
   "execution_count": 6,
   "id": "3e011b5a",
   "metadata": {},
   "outputs": [],
   "source": [
    "# analysis settings\n",
    "\n",
    "# power analysis settings\n",
    "WINDOW = 0.3 # for spectral decomp\n",
    "TFR_METHOD = 'multitaper'\n",
    "\n",
    "# band anlysis\n",
    "ALPHA_BAND = [8, 20]\n",
    "\n",
    "# Specparam parameters\n",
    "N_JOBS = -1 # number of jobs for parallel processing\n",
    "SPEC_PARAM_SETTINGS = {\n",
    "    'peak_width_limits' :   [4, 20], # default: (0.5, 12.0)) - reccomends at least frequency resolution * 2\n",
    "    'min_peak_height'   :   0.1, \n",
    "    'max_n_peaks'       :   4, # (default: inf)\n",
    "    'peak_threshold'    :   2.0, # (default: 2.0)\n",
    "    'aperiodic_mode'           :   'knee'}\n",
    "AP_MODE = 'knee'"
   ]
  },
  {
   "attachments": {},
   "cell_type": "markdown",
   "id": "418806e5",
   "metadata": {},
   "source": [
    "### Functions"
   ]
  },
  {
   "cell_type": "code",
   "execution_count": 7,
   "id": "30d2adb4",
   "metadata": {},
   "outputs": [],
   "source": [
    "def trim_edge_effects(signal, time, edge):\n",
    "    \"\"\"Trim signal and time to remove edge effects from spectral decomposition\n",
    "    \n",
    "    Parameters\n",
    "    ----------\n",
    "    signal : 1d array\n",
    "        signal to trim\n",
    "    time : 1d array\n",
    "        associated time vector to trim\n",
    "    edge : float\n",
    "        duration of time to trim from start and end of signal\n",
    "\n",
    "    Returns\n",
    "    -------\n",
    "    signal : 1d array\n",
    "        trimmed signal\n",
    "    time : 1d array\n",
    "        trimmed time vector\n",
    "    \"\"\"\n",
    "    \n",
    "    idx = np.where((time > time[0]+edge) & (time < (time[-1] - edge)))[0]\n",
    "    \n",
    "    return signal[idx], time[idx]"
   ]
  },
  {
   "attachments": {},
   "cell_type": "markdown",
   "id": "45e8f7c2",
   "metadata": {},
   "source": [
    "## Main"
   ]
  },
  {
   "attachments": {},
   "cell_type": "markdown",
   "id": "5960cfc8",
   "metadata": {},
   "source": [
    "### Load data"
   ]
  },
  {
   "cell_type": "code",
   "execution_count": 8,
   "id": "9481b46b",
   "metadata": {},
   "outputs": [
    {
     "data": {
      "text/html": [
       "<div>\n",
       "<style scoped>\n",
       "    .dataframe tbody tr th:only-of-type {\n",
       "        vertical-align: middle;\n",
       "    }\n",
       "\n",
       "    .dataframe tbody tr th {\n",
       "        vertical-align: top;\n",
       "    }\n",
       "\n",
       "    .dataframe thead th {\n",
       "        text-align: right;\n",
       "    }\n",
       "</style>\n",
       "<table border=\"1\" class=\"dataframe\">\n",
       "  <thead>\n",
       "    <tr style=\"text-align: right;\">\n",
       "      <th></th>\n",
       "      <th>patient</th>\n",
       "      <th>chan_idx</th>\n",
       "      <th>material</th>\n",
       "      <th>memory</th>\n",
       "      <th>epoch</th>\n",
       "      <th>exponent_mean</th>\n",
       "      <th>exponent_std</th>\n",
       "    </tr>\n",
       "  </thead>\n",
       "  <tbody>\n",
       "    <tr>\n",
       "      <th>0</th>\n",
       "      <td>pat02</td>\n",
       "      <td>0</td>\n",
       "      <td>faces</td>\n",
       "      <td>hit</td>\n",
       "      <td>pre</td>\n",
       "      <td>3.456050</td>\n",
       "      <td>0.223455</td>\n",
       "    </tr>\n",
       "    <tr>\n",
       "      <th>0</th>\n",
       "      <td>pat02</td>\n",
       "      <td>0</td>\n",
       "      <td>faces</td>\n",
       "      <td>hit</td>\n",
       "      <td>post</td>\n",
       "      <td>3.165035</td>\n",
       "      <td>0.237729</td>\n",
       "    </tr>\n",
       "    <tr>\n",
       "      <th>0</th>\n",
       "      <td>pat02</td>\n",
       "      <td>1</td>\n",
       "      <td>faces</td>\n",
       "      <td>hit</td>\n",
       "      <td>pre</td>\n",
       "      <td>2.913060</td>\n",
       "      <td>0.203932</td>\n",
       "    </tr>\n",
       "    <tr>\n",
       "      <th>0</th>\n",
       "      <td>pat02</td>\n",
       "      <td>1</td>\n",
       "      <td>faces</td>\n",
       "      <td>hit</td>\n",
       "      <td>post</td>\n",
       "      <td>2.796689</td>\n",
       "      <td>0.153656</td>\n",
       "    </tr>\n",
       "    <tr>\n",
       "      <th>0</th>\n",
       "      <td>pat02</td>\n",
       "      <td>2</td>\n",
       "      <td>faces</td>\n",
       "      <td>hit</td>\n",
       "      <td>pre</td>\n",
       "      <td>2.707182</td>\n",
       "      <td>0.129842</td>\n",
       "    </tr>\n",
       "    <tr>\n",
       "      <th>...</th>\n",
       "      <td>...</td>\n",
       "      <td>...</td>\n",
       "      <td>...</td>\n",
       "      <td>...</td>\n",
       "      <td>...</td>\n",
       "      <td>...</td>\n",
       "      <td>...</td>\n",
       "    </tr>\n",
       "    <tr>\n",
       "      <th>0</th>\n",
       "      <td>pat22</td>\n",
       "      <td>7</td>\n",
       "      <td>words</td>\n",
       "      <td>miss</td>\n",
       "      <td>post</td>\n",
       "      <td>2.682176</td>\n",
       "      <td>0.362176</td>\n",
       "    </tr>\n",
       "    <tr>\n",
       "      <th>0</th>\n",
       "      <td>pat22</td>\n",
       "      <td>8</td>\n",
       "      <td>words</td>\n",
       "      <td>miss</td>\n",
       "      <td>pre</td>\n",
       "      <td>3.677691</td>\n",
       "      <td>0.197213</td>\n",
       "    </tr>\n",
       "    <tr>\n",
       "      <th>0</th>\n",
       "      <td>pat22</td>\n",
       "      <td>8</td>\n",
       "      <td>words</td>\n",
       "      <td>miss</td>\n",
       "      <td>post</td>\n",
       "      <td>2.742818</td>\n",
       "      <td>0.330806</td>\n",
       "    </tr>\n",
       "    <tr>\n",
       "      <th>0</th>\n",
       "      <td>pat22</td>\n",
       "      <td>9</td>\n",
       "      <td>words</td>\n",
       "      <td>miss</td>\n",
       "      <td>pre</td>\n",
       "      <td>3.231569</td>\n",
       "      <td>0.272140</td>\n",
       "    </tr>\n",
       "    <tr>\n",
       "      <th>0</th>\n",
       "      <td>pat22</td>\n",
       "      <td>9</td>\n",
       "      <td>words</td>\n",
       "      <td>miss</td>\n",
       "      <td>post</td>\n",
       "      <td>2.481712</td>\n",
       "      <td>0.439070</td>\n",
       "    </tr>\n",
       "  </tbody>\n",
       "</table>\n",
       "<p>1160 rows × 7 columns</p>\n",
       "</div>"
      ],
      "text/plain": [
       "   patient chan_idx material memory epoch  exponent_mean  exponent_std\n",
       "0    pat02        0    faces    hit   pre       3.456050      0.223455\n",
       "0    pat02        0    faces    hit  post       3.165035      0.237729\n",
       "0    pat02        1    faces    hit   pre       2.913060      0.203932\n",
       "0    pat02        1    faces    hit  post       2.796689      0.153656\n",
       "0    pat02        2    faces    hit   pre       2.707182      0.129842\n",
       "..     ...      ...      ...    ...   ...            ...           ...\n",
       "0    pat22        7    words   miss  post       2.682176      0.362176\n",
       "0    pat22        8    words   miss   pre       3.677691      0.197213\n",
       "0    pat22        8    words   miss  post       2.742818      0.330806\n",
       "0    pat22        9    words   miss   pre       3.231569      0.272140\n",
       "0    pat22        9    words   miss  post       2.481712      0.439070\n",
       "\n",
       "[1160 rows x 7 columns]"
      ]
     },
     "execution_count": 8,
     "metadata": {},
     "output_type": "execute_result"
    }
   ],
   "source": [
    "# load spectral results and extract exponent; compute mean and std for pre and post stimulus epochs\n",
    "\n",
    "# id files\n",
    "dir_input = os.path.join(PROJECT_PATH, 'data/ieeg_tfr_param')\n",
    "files = os.listdir(dir_input)\n",
    "files = [f for f in files if f.endswith('.json')]\n",
    "\n",
    "# init\n",
    "dfs = []\n",
    "mask_pre = (TIME<=(-WINDOW/2)) & (TIME>=(-1-(WINDOW/2)))\n",
    "mask_post = (TIME>(WINDOW/2)) & (TIME<=(1+(WINDOW/2)))\n",
    "# mask_pre = (TIME<=0) & (TIME>=-1)\n",
    "# mask_post = (TIME>0) & (TIME<=1)\n",
    "\n",
    "# loop files\n",
    "for fname in files:\n",
    "    \n",
    "    # load data\n",
    "    params = FOOOFGroup()\n",
    "    params.load(f\"{dir_input}/{fname}\")\n",
    "    exponent = params.get_params('aperiodic','exponent')\n",
    "    exponent[exponent<=0] = np.nan\n",
    "    \n",
    "    # add results to df\n",
    "    fparts = fname.split('_')\n",
    "    for epoch, mask in zip(['pre', 'post'], [mask_pre, mask_post]):\n",
    "        df = pd.DataFrame(\n",
    "            {\n",
    "                'patient'  :   fparts[0],\n",
    "                'chan_idx' :   fparts[3].replace('chan',''),\n",
    "                'material' :   fparts[1],\n",
    "                'memory'   :   fparts[2],\n",
    "                'epoch'    :   epoch,\n",
    "                'exponent_mean' :   [np.nanmean(exponent[mask])],\n",
    "                'exponent_std'  :   [np.nanstd(exponent[mask])]  \n",
    "            }\n",
    "        )\n",
    "        dfs.append(df)\n",
    "\n",
    "# concat dfs\n",
    "df_all = pd.concat(dfs)\n",
    "\n",
    "# # save to file\n",
    "df_all.to_csv(f\"{PROJECT_PATH}/data/results/ieeg_tfr_param.csv\")\n",
    "\n",
    "df_all"
   ]
  },
  {
   "attachments": {},
   "cell_type": "markdown",
   "id": "d7f17fa2",
   "metadata": {},
   "source": [
    "### Print results for each condition"
   ]
  },
  {
   "cell_type": "code",
   "execution_count": 16,
   "id": "467f40fa",
   "metadata": {},
   "outputs": [
    {
     "data": {
      "text/html": [
       "<div>\n",
       "<style scoped>\n",
       "    .dataframe tbody tr th:only-of-type {\n",
       "        vertical-align: middle;\n",
       "    }\n",
       "\n",
       "    .dataframe tbody tr th {\n",
       "        vertical-align: top;\n",
       "    }\n",
       "\n",
       "    .dataframe thead th {\n",
       "        text-align: right;\n",
       "    }\n",
       "</style>\n",
       "<table border=\"1\" class=\"dataframe\">\n",
       "  <thead>\n",
       "    <tr style=\"text-align: right;\">\n",
       "      <th></th>\n",
       "      <th>memory</th>\n",
       "      <th>material</th>\n",
       "      <th>epoch</th>\n",
       "      <th>exponent_mean</th>\n",
       "      <th>exponent_std</th>\n",
       "    </tr>\n",
       "  </thead>\n",
       "  <tbody>\n",
       "    <tr>\n",
       "      <th>0</th>\n",
       "      <td>hit</td>\n",
       "      <td>faces</td>\n",
       "      <td>post</td>\n",
       "      <td>3.117225</td>\n",
       "      <td>0.200370</td>\n",
       "    </tr>\n",
       "    <tr>\n",
       "      <th>1</th>\n",
       "      <td>hit</td>\n",
       "      <td>faces</td>\n",
       "      <td>pre</td>\n",
       "      <td>3.389568</td>\n",
       "      <td>0.159718</td>\n",
       "    </tr>\n",
       "    <tr>\n",
       "      <th>2</th>\n",
       "      <td>hit</td>\n",
       "      <td>words</td>\n",
       "      <td>post</td>\n",
       "      <td>3.172193</td>\n",
       "      <td>0.196184</td>\n",
       "    </tr>\n",
       "    <tr>\n",
       "      <th>3</th>\n",
       "      <td>hit</td>\n",
       "      <td>words</td>\n",
       "      <td>pre</td>\n",
       "      <td>3.409859</td>\n",
       "      <td>0.145633</td>\n",
       "    </tr>\n",
       "    <tr>\n",
       "      <th>4</th>\n",
       "      <td>miss</td>\n",
       "      <td>faces</td>\n",
       "      <td>post</td>\n",
       "      <td>3.122777</td>\n",
       "      <td>0.219122</td>\n",
       "    </tr>\n",
       "    <tr>\n",
       "      <th>5</th>\n",
       "      <td>miss</td>\n",
       "      <td>faces</td>\n",
       "      <td>pre</td>\n",
       "      <td>3.414354</td>\n",
       "      <td>0.159243</td>\n",
       "    </tr>\n",
       "    <tr>\n",
       "      <th>6</th>\n",
       "      <td>miss</td>\n",
       "      <td>words</td>\n",
       "      <td>post</td>\n",
       "      <td>3.209476</td>\n",
       "      <td>0.218143</td>\n",
       "    </tr>\n",
       "    <tr>\n",
       "      <th>7</th>\n",
       "      <td>miss</td>\n",
       "      <td>words</td>\n",
       "      <td>pre</td>\n",
       "      <td>3.450900</td>\n",
       "      <td>0.180553</td>\n",
       "    </tr>\n",
       "  </tbody>\n",
       "</table>\n",
       "</div>"
      ],
      "text/plain": [
       "  memory material epoch  exponent_mean  exponent_std\n",
       "0    hit    faces  post       3.117225      0.200370\n",
       "1    hit    faces   pre       3.389568      0.159718\n",
       "2    hit    words  post       3.172193      0.196184\n",
       "3    hit    words   pre       3.409859      0.145633\n",
       "4   miss    faces  post       3.122777      0.219122\n",
       "5   miss    faces   pre       3.414354      0.159243\n",
       "6   miss    words  post       3.209476      0.218143\n",
       "7   miss    words   pre       3.450900      0.180553"
      ]
     },
     "execution_count": 16,
     "metadata": {},
     "output_type": "execute_result"
    }
   ],
   "source": [
    "# average across channels for each condition/epoch\n",
    "df = df_all.groupby(['memory','material','epoch']).mean().reset_index()\n",
    "df"
   ]
  },
  {
   "cell_type": "code",
   "execution_count": 17,
   "id": "80ec99ca",
   "metadata": {},
   "outputs": [
    {
     "data": {
      "text/html": [
       "<div>\n",
       "<style scoped>\n",
       "    .dataframe tbody tr th:only-of-type {\n",
       "        vertical-align: middle;\n",
       "    }\n",
       "\n",
       "    .dataframe tbody tr th {\n",
       "        vertical-align: top;\n",
       "    }\n",
       "\n",
       "    .dataframe thead th {\n",
       "        text-align: right;\n",
       "    }\n",
       "</style>\n",
       "<table border=\"1\" class=\"dataframe\">\n",
       "  <thead>\n",
       "    <tr style=\"text-align: right;\">\n",
       "      <th></th>\n",
       "      <th>memory</th>\n",
       "      <th>material</th>\n",
       "      <th>exponent_mean</th>\n",
       "      <th>exponent_std</th>\n",
       "    </tr>\n",
       "  </thead>\n",
       "  <tbody>\n",
       "    <tr>\n",
       "      <th>0</th>\n",
       "      <td>hit</td>\n",
       "      <td>faces</td>\n",
       "      <td>3.117225</td>\n",
       "      <td>0.200370</td>\n",
       "    </tr>\n",
       "    <tr>\n",
       "      <th>2</th>\n",
       "      <td>hit</td>\n",
       "      <td>words</td>\n",
       "      <td>3.172193</td>\n",
       "      <td>0.196184</td>\n",
       "    </tr>\n",
       "    <tr>\n",
       "      <th>4</th>\n",
       "      <td>miss</td>\n",
       "      <td>faces</td>\n",
       "      <td>3.122777</td>\n",
       "      <td>0.219122</td>\n",
       "    </tr>\n",
       "    <tr>\n",
       "      <th>6</th>\n",
       "      <td>miss</td>\n",
       "      <td>words</td>\n",
       "      <td>3.209476</td>\n",
       "      <td>0.218143</td>\n",
       "    </tr>\n",
       "  </tbody>\n",
       "</table>\n",
       "</div>"
      ],
      "text/plain": [
       "  memory material  exponent_mean  exponent_std\n",
       "0    hit    faces       3.117225      0.200370\n",
       "2    hit    words       3.172193      0.196184\n",
       "4   miss    faces       3.122777      0.219122\n",
       "6   miss    words       3.209476      0.218143"
      ]
     },
     "execution_count": 17,
     "metadata": {},
     "output_type": "execute_result"
    }
   ],
   "source": [
    "# print post-stim results\n",
    "temp = df[df['epoch']=='post'].drop(columns=['epoch'])\n",
    "temp"
   ]
  },
  {
   "cell_type": "code",
   "execution_count": 18,
   "id": "b95ca22e",
   "metadata": {},
   "outputs": [
    {
     "data": {
      "text/html": [
       "<div>\n",
       "<style scoped>\n",
       "    .dataframe tbody tr th:only-of-type {\n",
       "        vertical-align: middle;\n",
       "    }\n",
       "\n",
       "    .dataframe tbody tr th {\n",
       "        vertical-align: top;\n",
       "    }\n",
       "\n",
       "    .dataframe thead th {\n",
       "        text-align: right;\n",
       "    }\n",
       "</style>\n",
       "<table border=\"1\" class=\"dataframe\">\n",
       "  <thead>\n",
       "    <tr style=\"text-align: right;\">\n",
       "      <th></th>\n",
       "      <th>memory</th>\n",
       "      <th>material</th>\n",
       "      <th>exponent_mean</th>\n",
       "      <th>exponent_std</th>\n",
       "    </tr>\n",
       "  </thead>\n",
       "  <tbody>\n",
       "    <tr>\n",
       "      <th>1</th>\n",
       "      <td>hit</td>\n",
       "      <td>faces</td>\n",
       "      <td>3.389568</td>\n",
       "      <td>0.159718</td>\n",
       "    </tr>\n",
       "    <tr>\n",
       "      <th>3</th>\n",
       "      <td>hit</td>\n",
       "      <td>words</td>\n",
       "      <td>3.409859</td>\n",
       "      <td>0.145633</td>\n",
       "    </tr>\n",
       "    <tr>\n",
       "      <th>5</th>\n",
       "      <td>miss</td>\n",
       "      <td>faces</td>\n",
       "      <td>3.414354</td>\n",
       "      <td>0.159243</td>\n",
       "    </tr>\n",
       "    <tr>\n",
       "      <th>7</th>\n",
       "      <td>miss</td>\n",
       "      <td>words</td>\n",
       "      <td>3.450900</td>\n",
       "      <td>0.180553</td>\n",
       "    </tr>\n",
       "  </tbody>\n",
       "</table>\n",
       "</div>"
      ],
      "text/plain": [
       "  memory material  exponent_mean  exponent_std\n",
       "1    hit    faces       3.389568      0.159718\n",
       "3    hit    words       3.409859      0.145633\n",
       "5   miss    faces       3.414354      0.159243\n",
       "7   miss    words       3.450900      0.180553"
      ]
     },
     "execution_count": 18,
     "metadata": {},
     "output_type": "execute_result"
    }
   ],
   "source": [
    "# print pre-stim results\n",
    "temp = df[df['epoch']=='pre'].drop(columns=['epoch'])\n",
    "temp\n"
   ]
  },
  {
   "attachments": {},
   "cell_type": "markdown",
   "id": "4733e223",
   "metadata": {},
   "source": [
    "#### contrast variance of exponent between memory conditions (all channels)"
   ]
  },
  {
   "cell_type": "code",
   "execution_count": 64,
   "id": "a21f1b7c",
   "metadata": {},
   "outputs": [
    {
     "name": "stdout",
     "output_type": "stream",
     "text": [
      "Ttest_relResult(statistic=-4.49462187518464, pvalue=1.0095494130391304e-05)\n"
     ]
    }
   ],
   "source": [
    "# run paired t-test - across all channels\n",
    "df = df_all.copy()\n",
    "df = df.loc[df['epoch']=='post']\n",
    "data_a = df.loc[df['memory']=='hit', 'exponent_std'].values\n",
    "data_b = df.loc[df['memory']=='miss', 'exponent_std'].values\n",
    "results = ttest_rel(data_a, data_b)\n",
    "print(results)"
   ]
  },
  {
   "cell_type": "code",
   "execution_count": 65,
   "id": "947ea330",
   "metadata": {},
   "outputs": [
    {
     "data": {
      "image/png": "[encoded data removed]",
      "text/plain": [
       "<Figure size 432x288 with 1 Axes>"
      ]
     },
     "metadata": {
      "needs_background": "light"
     },
     "output_type": "display_data"
    }
   ],
   "source": [
    "# plot histogram\n",
    "\n",
    "bins = np.arange(0, 0.8, 0.05)\n",
    "plt.hist(data_a, alpha=0.5, label='hit', bins=bins)\n",
    "plt.hist(data_b, alpha=0.5, label='miss', bins=bins)\n",
    "plt.title(\"Exponent Std - all channels\")\n",
    "plt.legend()\n",
    "plt.show()"
   ]
  },
  {
   "cell_type": "code",
   "execution_count": 67,
   "id": "14773e3a",
   "metadata": {},
   "outputs": [
    {
     "data": {
      "image/png": "[encoded data removed]",
      "text/plain": [
       "<Figure size 432x288 with 1 Axes>"
      ]
     },
     "metadata": {
      "needs_background": "light"
     },
     "output_type": "display_data"
    }
   ],
   "source": [
    "# plot swarm plot\n",
    "\n",
    "# plot scatter \n",
    "fig, ax = plt.subplots(1,1, figsize=[6,4])\n",
    "ax.scatter([0]*len(data_a), data_a, color='k', alpha=0.5)\n",
    "ax.scatter([1]*len(data_b), data_b, color='k', alpha=0.5)\n",
    "\n",
    "# connect data points for each subject\n",
    "for i_sub in range(len(data_a)):\n",
    "    ax.plot([0, 1], [data_a[i_sub], data_b[i_sub]], 'k-', alpha=0.5)\n",
    "\n",
    "# label\n",
    "ax.set_xticks([0, 1])\n",
    "ax.set_xticklabels(['hit', 'miss'])\n",
    "ax.set(xlabel=\"memory condition\", ylabel=\"exponent std\")\n",
    "ax.set_title(\"Exponent Std - average channels within subject\")\n",
    "ax.set_xlim([-0.5, 1.5])\n",
    "\n",
    "plt.show()"
   ]
  },
  {
   "attachments": {},
   "cell_type": "markdown",
   "id": "3aa3b783",
   "metadata": {},
   "source": [
    "#### contrast variance of exponent between memory conditions (average channels within subjects)"
   ]
  },
  {
   "cell_type": "code",
   "execution_count": 40,
   "id": "d02ed928",
   "metadata": {},
   "outputs": [
    {
     "name": "stdout",
     "output_type": "stream",
     "text": [
      "Ttest_relResult(statistic=-3.7328194982178076, pvalue=0.0010895982199113504)\n"
     ]
    }
   ],
   "source": [
    "# run paired ttest (average channels within subject)\n",
    "\n",
    "df = df_all.copy()\n",
    "df = df.loc[df['epoch']=='post']\n",
    "df = df.groupby(['patient','material','memory']).mean()\n",
    "data_a = df.xs('hit', level=2)['exponent_std']\n",
    "data_b = df.xs('miss', level=2)['exponent_std'] \n",
    "results = ttest_rel(data_a, data_b)\n",
    "print(results)"
   ]
  },
  {
   "cell_type": "code",
   "execution_count": 50,
   "id": "a2aa7d69",
   "metadata": {},
   "outputs": [
    {
     "data": {
      "image/png": "[encoded data removed]",
      "text/plain": [
       "<Figure size 432x288 with 1 Axes>"
      ]
     },
     "metadata": {
      "needs_background": "light"
     },
     "output_type": "display_data"
    }
   ],
   "source": [
    "# plot histogram\n",
    "\n",
    "bins = np.arange(0, 0.4, 0.06)\n",
    "plt.hist(data_a, alpha=0.5, label='hit', bins=bins)\n",
    "plt.hist(data_b, alpha=0.5, label='miss', bins=bins)\n",
    "plt.title(\"Exponent Std - average channels within subject\")\n",
    "plt.legend()\n",
    "plt.show()\n"
   ]
  },
  {
   "cell_type": "code",
   "execution_count": 53,
   "id": "096c1eee",
   "metadata": {},
   "outputs": [
    {
     "data": {
      "image/png": "[encoded data removed]",
      "text/plain": [
       "<Figure size 432x288 with 1 Axes>"
      ]
     },
     "metadata": {
      "needs_background": "light"
     },
     "output_type": "display_data"
    }
   ],
   "source": [
    "# plot swarm plot\n",
    "\n",
    "# plot scatter\n",
    "fig, ax = plt.subplots(1,1, figsize=[6,4])\n",
    "ax.scatter([0]*len(data_a), data_a, color='k', alpha=0.5)\n",
    "ax.scatter([1]*len(data_b), data_b, color='k', alpha=0.5)\n",
    "\n",
    "# connect data points for each subject\n",
    "for i_sub in range(len(data_a)):\n",
    "    ax.plot([0, 1], [data_a[i_sub], data_b[i_sub]], 'k-')\n",
    "\n",
    "# label\n",
    "ax.set_xticks([0, 1])\n",
    "ax.set_xticklabels(['hit', 'miss'])\n",
    "ax.set(xlabel=\"memory condition\", ylabel=\"exponent std\")\n",
    "ax.set_title(\"Exponent Std - average channels within subject\")\n",
    "ax.set_xlim([-0.5, 1.5])\n",
    "ax.set_title(\"\")\n",
    "\n",
    "plt.show()"
   ]
  },
  {
   "attachments": {},
   "cell_type": "markdown",
   "id": "793cfa39",
   "metadata": {},
   "source": [
    "#### contrast mean of exponent between memory conditions"
   ]
  },
  {
   "cell_type": "code",
   "execution_count": 37,
   "id": "44fc4880",
   "metadata": {},
   "outputs": [
    {
     "name": "stdout",
     "output_type": "stream",
     "text": [
      "\n",
      "pre-stimulus exponent mean\n",
      "Ttest_relResult(statistic=-2.786504981906403, pvalue=0.010490043074257887)\n",
      "\n",
      "pre-stimulus exponent std\n",
      "Ttest_relResult(statistic=-2.424092925351262, pvalue=0.02361463976424265)\n",
      "\n",
      "post-stimulus exponent mean\n",
      "Ttest_relResult(statistic=-2.5873466098303837, pvalue=0.016469439124711643)\n",
      "\n",
      "post-stimulus exponent std\n",
      "Ttest_relResult(statistic=-3.7328194982178076, pvalue=0.0010895982199113504)\n"
     ]
    }
   ],
   "source": [
    "# run paired ttest - across all subjects (average channels within subject)\n",
    "\n",
    "for epoch in ['pre','post']:\n",
    "    for var in ['mean','std']:\n",
    "        df = df_all.copy()\n",
    "        df = df.loc[df['epoch']==epoch]\n",
    "        df = df.groupby(['patient','material','memory']).mean()\n",
    "        data_a = df.xs('hit', level=2)[f'exponent_{var}']\n",
    "        data_b = df.xs('miss', level=2)[f'exponent_{var}'] \n",
    "        results = ttest_rel(data_a, data_b)\n",
    "        print(f\"\\n{epoch}-stimulus exponent {var}\")\n",
    "        print(results)"
   ]
  }
 ],
 "metadata": {
  "kernelspec": {
   "display_name": "tilt_vs_fingerprint",
   "language": "python",
   "name": "tilt_vs_fingerprint"
  },
  "language_info": {
   "codemirror_mode": {
    "name": "ipython",
    "version": 3
   },
   "file_extension": ".py",
   "mimetype": "text/x-python",
   "name": "python",
   "nbconvert_exporter": "python",
   "pygments_lexer": "ipython3",
   "version": "3.9.12"
  }
 },
 "nbformat": 4,
 "nbformat_minor": 5
}
