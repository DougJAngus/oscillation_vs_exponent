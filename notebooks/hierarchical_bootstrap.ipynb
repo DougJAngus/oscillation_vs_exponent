{
 "cells": [
  {
   "attachments": {},
   "cell_type": "markdown",
   "id": "50e6baec",
   "metadata": {},
   "source": [
    "### Set path"
   ]
  },
  {
   "cell_type": "code",
   "execution_count": 2,
   "id": "8f321197",
   "metadata": {},
   "outputs": [],
   "source": [
    "PROJECT_PATH = 'C:/Users/micha/projects/oscillation_vs_exponent/'"
   ]
  },
  {
   "attachments": {},
   "cell_type": "markdown",
   "id": "cb35a6c8",
   "metadata": {},
   "source": [
    "## Set-up"
   ]
  },
  {
   "attachments": {},
   "cell_type": "markdown",
   "id": "bd8c029b",
   "metadata": {},
   "source": [
    "### Imports"
   ]
  },
  {
   "cell_type": "code",
   "execution_count": 3,
   "id": "f4ff781d",
   "metadata": {},
   "outputs": [],
   "source": [
    "import os\n",
    "import numpy as np\n",
    "import pandas as pd\n",
    "import matplotlib.pyplot as plt\n",
    "from time import time"
   ]
  },
  {
   "attachments": {},
   "cell_type": "markdown",
   "id": "8beac22f",
   "metadata": {},
   "source": [
    "### Settings"
   ]
  },
  {
   "cell_type": "code",
   "execution_count": 4,
   "id": "26882fd1",
   "metadata": {},
   "outputs": [],
   "source": [
    "N_ITERATIONS = 1000 # number of iterations for bootstrapping\n",
    "VAR = 'exponent' # variable to analyze"
   ]
  },
  {
   "cell_type": "markdown",
   "id": "1e3b65e5",
   "metadata": {},
   "source": [
    "### functions"
   ]
  },
  {
   "cell_type": "code",
   "execution_count": 5,
   "id": "b3d5467c",
   "metadata": {},
   "outputs": [],
   "source": [
    "# hierarchical bootstrap function\n",
    "\n",
    "def run_hierarchical_bootstrap(df, variable, condition, level_1, level_2, iterations=100,\n",
    "                               verbose=True, plot=True):    \n",
    "    \"\"\"\n",
    "    Perform hierarchical bootstrap on data. \n",
    "    \n",
    "    Parameters\n",
    "    ----------\n",
    "    df : pandas.DataFrame\n",
    "        Dataframe containing data to resample.\n",
    "    variable : str\n",
    "        Variable to resample.\n",
    "    condition : str\n",
    "        Experimental condition of interest.\n",
    "    level_1 : str\n",
    "        First level of hierarchy to resample.\n",
    "    level_2 : str\n",
    "        Second level of hierarchy to resample.\n",
    "    iterations : int\n",
    "        Number of iterations for resampling.\n",
    "    verbose : bool\n",
    "        Whether to print p-value.\n",
    "    plot : bool\n",
    "        Whether to plot results.\n",
    "\n",
    "    Returns\n",
    "    -------\n",
    "    p_value : float\n",
    "        p-value for difference between conditions.\n",
    "    distribution_0 : numpy.ndarray\n",
    "        Resampled distribution for condition 0.\n",
    "    distribution_1 : numpy.ndarray\n",
    "        Resampled distribution for condition 1.\n",
    "    \"\"\"\n",
    "\n",
    "    # split groups\n",
    "    df_0, df_1 = split_experimental_conditions(df, condition)\n",
    "\n",
    "    # run bootstrap\n",
    "    distribution_0 = hierarchical_bootstrap(df_0, variable, level_1, level_2, iterations)\n",
    "    distribution_1 = hierarchical_bootstrap(df_1, variable, level_1, level_2, iterations)\n",
    "\n",
    "    # compute p-value\n",
    "    diff = distribution_1 - distribution_0\n",
    "    p_value = min(np.sum(diff > 0), np.sum(diff < 0)) / len(diff)\n",
    "\n",
    "    # compute p-boot \n",
    "    p_boot, joint_prob, bin_edges = compute_p_boot(distribution_0, distribution_1)\n",
    "\n",
    "    # print/plot results    \n",
    "    if verbose:\n",
    "        print(f\"p-value: {p_value}\")\n",
    "        print(f\"p-boot: {p_boot}\")\n",
    "    if plot:\n",
    "        plot_bootstrap_results(df, variable, condition, distribution_0, distribution_1,\n",
    "                               joint_prob, bin_edges)\n",
    "\n",
    "    # return p_value, distribution_0, distribution_1\n",
    "    return p_value, p_boot, joint_prob, bin_edges, distribution_0, distribution_1\n",
    "\n",
    "\n",
    "def split_experimental_conditions(df, condition):\n",
    "    \"\"\"\n",
    "    Split dataframe into two groups based on experimental condition.\n",
    "    \"\"\"\n",
    "\n",
    "    # check that there are only two experimental conditions\n",
    "    conditions = df[condition].unique()\n",
    "    if len(conditions) != 2:\n",
    "        raise ValueError(\"More than two experimental conditions detected.\")\n",
    "        \n",
    "\n",
    "    # split dataframe by experimental condition\n",
    "    df_0 = df.loc[df[condition]==conditions[0]]\n",
    "    df_1 = df.loc[df[condition]==conditions[1]]\n",
    "\n",
    "    return df_0, df_1\n",
    "\n",
    "\n",
    "def hierarchical_bootstrap(df, variable, level_1, level_2, iterations):\n",
    "    \"\"\"\n",
    "    Perform hierarchical bootstrap on data. \n",
    "    \n",
    "    Parameters\n",
    "    ----------\n",
    "    df : pandas.DataFrame\n",
    "        Dataframe containing data to resample.\n",
    "    variable : str\n",
    "        Variable to resample.\n",
    "    level_1 : str\n",
    "        First level of hierarchy to resample.\n",
    "    level_2 : str\n",
    "        Second level of hierarchy to resample.\n",
    "    iterations : int\n",
    "        Number of iterations for resampling.\n",
    "\n",
    "    Returns\n",
    "    -------\n",
    "    distribution : numpy.ndarray\n",
    "        Resampled distribution.\n",
    "\n",
    "    \"\"\"\n",
    "\n",
    "    # get cluster info\n",
    "    clusters = df[level_1].unique()\n",
    "    n_clusters = len(clusters)\n",
    "\n",
    "    # count number of instances per cluster\n",
    "    instances_per_cluster = np.zeros(n_clusters)\n",
    "    for i_cluster, cluster_i in enumerate(clusters):\n",
    "        instances_per_cluster[i_cluster] = len(df.loc[df[level_1]==cluster_i, level_2].unique())\n",
    "    n_instances = int(np.nanmean(instances_per_cluster)) # use average number of instances per cluster\n",
    "\n",
    "    # loop through iterations\n",
    "    distribution = np.zeros(iterations)\n",
    "    for i_iteration in range(iterations):\n",
    "        # Resample level 2 \n",
    "        clusters_resampled = np.random.choice(clusters, size=n_clusters)\n",
    "\n",
    "        # resample level 3 and get data for each cluster\n",
    "        values = []\n",
    "        for i_cluster, cluster_i in enumerate(clusters_resampled):\n",
    "            # resample level 3\n",
    "            instances = df.loc[df[level_1]==cluster_i, level_2].unique()\n",
    "            instances_resampled = np.random.choice(instances, size=n_instances)\n",
    "\n",
    "            # get data for each instance within cluster and average\n",
    "            for i_instance, instance_i in enumerate(instances_resampled):\n",
    "                value = df.loc[(df[level_1]==cluster_i) & (df[level_2]==instance_i), variable].values[0]\n",
    "                values.append(value)\n",
    "\n",
    "        # compute average for iteration\n",
    "        distribution[i_iteration] = np.nanmean(values)\n",
    "\n",
    "    return distribution\n",
    "\n",
    "def compute_p_boot(distribution_0, distribution_1, n_bins=30):    \n",
    "    '''\n",
    "    Compute p-value for difference between two distributions.\n",
    "    This function is based on Saravanan et al. 2020.\n",
    "    Source: https://github.com/soberlab/Hierarchical-Bootstrap-Paper/blob/master/Bootstrap%20Paper%20Simulation%20Figure%20Codes.ipynb\n",
    "    '''\n",
    "    # calculate probabilities for each distribution\n",
    "    all_values = np.concatenate([distribution_0, distribution_1])\n",
    "    bin_edges = np.linspace(np.min(all_values), np.max(all_values), n_bins)\n",
    "    bin_width = bin_edges[1] - bin_edges[0]\n",
    "    bin_edges = np.append(bin_edges, bin_edges[-1] + bin_width) - (bin_width/2) # add last bin edge and shift by half bin width\n",
    "    prob_0 = np.histogram(distribution_0, bins=bin_edges)[0] / len(distribution_0)\n",
    "    prob_1 = np.histogram(distribution_1, bins=bin_edges)[0] / len(distribution_1)\n",
    "\n",
    "    # compute joint probability\n",
    "    joint_prob = np.outer(prob_0, prob_1)\n",
    "    joint_prob = joint_prob / np.sum(joint_prob) # normalize\n",
    "\n",
    "    # compute p-value\n",
    "    p_value = np.sum(np.triu(joint_prob))\n",
    "\n",
    "    return p_value, joint_prob, bin_edges\n",
    "\n",
    "def plot_bootstrap_results(df, variable, condition, distribution_0, distribution_1,\n",
    "                           joint_prob, bin_edges):\n",
    "    \"\"\"\n",
    "    Plot bootstrap results. PLotting function for run_hierarchical_bootstrap().\n",
    "    \"\"\"\n",
    "    # get experimental condition names for plot labels\n",
    "    conditions = df[condition].unique()\n",
    "\n",
    "    # create figure\n",
    "    fig, (ax0, ax1, ax2) = plt.subplots(1,3, figsize=(18,4))\n",
    "\n",
    "    # ax0: plot orignal distributions\n",
    "    ax0.hist(df.loc[df[condition]==conditions[0], variable], bins=bin_edges, color='k', alpha=0.5, label=conditions[0])\n",
    "    ax0.hist(df.loc[df[condition]==conditions[1], variable], bins=bin_edges, color='b', alpha=0.5, label=conditions[1])\n",
    "    ax0.set_xlabel(variable)\n",
    "    ax0.set_ylabel('count')\n",
    "    ax0.set_title('Original dataset')\n",
    "\n",
    "    # ax1: plot resampled distributions\n",
    "    ax1.hist(distribution_0, bins=bin_edges, color='k', alpha=0.5, label=conditions[0])\n",
    "    ax1.hist(distribution_1, bins=bin_edges, color='b', alpha=0.5, label=conditions[1])\n",
    "    ax1.set_xlabel(variable)\n",
    "    ax1.set_ylabel('count')\n",
    "    ax1.set_title('Bootstrap distributions')\n",
    "    ax1.legend()\n",
    "\n",
    "    # ax2: plot joint probability\n",
    "    im = ax2.pcolormesh(bin_edges, bin_edges, joint_prob, cmap='hot')\n",
    "    ax2.set_xlabel(conditions[0])\n",
    "    ax2.set_ylabel(conditions[1])\n",
    "    ax2.set_title('Joint probability')\n",
    "    fig.colorbar(im, ax=ax2)\n",
    "    plt.show()\n",
    "\n"
   ]
  },
  {
   "cell_type": "markdown",
   "id": "cb5020cc",
   "metadata": {},
   "source": [
    "## demo hierarchical bootstrap function on simulted data"
   ]
  },
  {
   "cell_type": "code",
   "execution_count": 6,
   "id": "862ff8d6",
   "metadata": {},
   "outputs": [
    {
     "name": "stdout",
     "output_type": "stream",
     "text": [
      "=====================================\n",
      "Shift: 0\n"
     ]
    },
    {
     "ename": "KeyboardInterrupt",
     "evalue": "",
     "output_type": "error",
     "traceback": [
      "\u001b[1;31m---------------------------------------------------------------------------\u001b[0m",
      "\u001b[1;31mKeyboardInterrupt\u001b[0m                         Traceback (most recent call last)",
      "Input \u001b[1;32mIn [6]\u001b[0m, in \u001b[0;36m<cell line: 8>\u001b[1;34m()\u001b[0m\n\u001b[0;32m     18\u001b[0m         df_i[\u001b[38;5;124m'\u001b[39m\u001b[38;5;124minstance\u001b[39m\u001b[38;5;124m'\u001b[39m] \u001b[38;5;241m=\u001b[39m i_instance\n\u001b[0;32m     19\u001b[0m         df_i[\u001b[38;5;124m'\u001b[39m\u001b[38;5;124mvalue\u001b[39m\u001b[38;5;124m'\u001b[39m] \u001b[38;5;241m=\u001b[39m np\u001b[38;5;241m.\u001b[39mrandom\u001b[38;5;241m.\u001b[39mrandn()\n\u001b[1;32m---> 20\u001b[0m         df \u001b[38;5;241m=\u001b[39m \u001b[43mpd\u001b[49m\u001b[38;5;241;43m.\u001b[39;49m\u001b[43mconcat\u001b[49m\u001b[43m(\u001b[49m\u001b[43m[\u001b[49m\u001b[43mdf\u001b[49m\u001b[43m,\u001b[49m\u001b[43m \u001b[49m\u001b[43mdf_i\u001b[49m\u001b[43m]\u001b[49m\u001b[43m,\u001b[49m\u001b[43m \u001b[49m\u001b[43mignore_index\u001b[49m\u001b[38;5;241;43m=\u001b[39;49m\u001b[38;5;28;43;01mTrue\u001b[39;49;00m\u001b[43m)\u001b[49m\n\u001b[0;32m     22\u001b[0m \u001b[38;5;66;03m# shift values for condition 1\u001b[39;00m\n\u001b[0;32m     23\u001b[0m df\u001b[38;5;241m.\u001b[39mloc[df[\u001b[38;5;124m'\u001b[39m\u001b[38;5;124mcondition\u001b[39m\u001b[38;5;124m'\u001b[39m]\u001b[38;5;241m==\u001b[39m\u001b[38;5;241m1\u001b[39m, \u001b[38;5;124m'\u001b[39m\u001b[38;5;124mvalue\u001b[39m\u001b[38;5;124m'\u001b[39m] \u001b[38;5;241m+\u001b[39m\u001b[38;5;241m=\u001b[39m shift\n",
      "File \u001b[1;32mc:\\Users\\micha\\anaconda3\\envs\\tilt_vs_fingerprint\\lib\\site-packages\\pandas\\util\\_decorators.py:311\u001b[0m, in \u001b[0;36mdeprecate_nonkeyword_arguments.<locals>.decorate.<locals>.wrapper\u001b[1;34m(*args, **kwargs)\u001b[0m\n\u001b[0;32m    305\u001b[0m \u001b[38;5;28;01mif\u001b[39;00m \u001b[38;5;28mlen\u001b[39m(args) \u001b[38;5;241m>\u001b[39m num_allow_args:\n\u001b[0;32m    306\u001b[0m     warnings\u001b[38;5;241m.\u001b[39mwarn(\n\u001b[0;32m    307\u001b[0m         msg\u001b[38;5;241m.\u001b[39mformat(arguments\u001b[38;5;241m=\u001b[39marguments),\n\u001b[0;32m    308\u001b[0m         \u001b[38;5;167;01mFutureWarning\u001b[39;00m,\n\u001b[0;32m    309\u001b[0m         stacklevel\u001b[38;5;241m=\u001b[39mstacklevel,\n\u001b[0;32m    310\u001b[0m     )\n\u001b[1;32m--> 311\u001b[0m \u001b[38;5;28;01mreturn\u001b[39;00m func(\u001b[38;5;241m*\u001b[39margs, \u001b[38;5;241m*\u001b[39m\u001b[38;5;241m*\u001b[39mkwargs)\n",
      "File \u001b[1;32mc:\\Users\\micha\\anaconda3\\envs\\tilt_vs_fingerprint\\lib\\site-packages\\pandas\\core\\reshape\\concat.py:360\u001b[0m, in \u001b[0;36mconcat\u001b[1;34m(objs, axis, join, ignore_index, keys, levels, names, verify_integrity, sort, copy)\u001b[0m\n\u001b[0;32m    156\u001b[0m \u001b[38;5;124;03m\"\"\"\u001b[39;00m\n\u001b[0;32m    157\u001b[0m \u001b[38;5;124;03mConcatenate pandas objects along a particular axis with optional set logic\u001b[39;00m\n\u001b[0;32m    158\u001b[0m \u001b[38;5;124;03malong the other axes.\u001b[39;00m\n\u001b[1;32m   (...)\u001b[0m\n\u001b[0;32m    345\u001b[0m \u001b[38;5;124;03mValueError: Indexes have overlapping values: ['a']\u001b[39;00m\n\u001b[0;32m    346\u001b[0m \u001b[38;5;124;03m\"\"\"\u001b[39;00m\n\u001b[0;32m    347\u001b[0m op \u001b[38;5;241m=\u001b[39m _Concatenator(\n\u001b[0;32m    348\u001b[0m     objs,\n\u001b[0;32m    349\u001b[0m     axis\u001b[38;5;241m=\u001b[39maxis,\n\u001b[1;32m   (...)\u001b[0m\n\u001b[0;32m    357\u001b[0m     sort\u001b[38;5;241m=\u001b[39msort,\n\u001b[0;32m    358\u001b[0m )\n\u001b[1;32m--> 360\u001b[0m \u001b[38;5;28;01mreturn\u001b[39;00m \u001b[43mop\u001b[49m\u001b[38;5;241;43m.\u001b[39;49m\u001b[43mget_result\u001b[49m\u001b[43m(\u001b[49m\u001b[43m)\u001b[49m\n",
      "File \u001b[1;32mc:\\Users\\micha\\anaconda3\\envs\\tilt_vs_fingerprint\\lib\\site-packages\\pandas\\core\\reshape\\concat.py:595\u001b[0m, in \u001b[0;36m_Concatenator.get_result\u001b[1;34m(self)\u001b[0m\n\u001b[0;32m    591\u001b[0m             indexers[ax] \u001b[38;5;241m=\u001b[39m obj_labels\u001b[38;5;241m.\u001b[39mget_indexer(new_labels)\n\u001b[0;32m    593\u001b[0m     mgrs_indexers\u001b[38;5;241m.\u001b[39mappend((obj\u001b[38;5;241m.\u001b[39m_mgr, indexers))\n\u001b[1;32m--> 595\u001b[0m new_data \u001b[38;5;241m=\u001b[39m \u001b[43mconcatenate_managers\u001b[49m\u001b[43m(\u001b[49m\n\u001b[0;32m    596\u001b[0m \u001b[43m    \u001b[49m\u001b[43mmgrs_indexers\u001b[49m\u001b[43m,\u001b[49m\u001b[43m \u001b[49m\u001b[38;5;28;43mself\u001b[39;49m\u001b[38;5;241;43m.\u001b[39;49m\u001b[43mnew_axes\u001b[49m\u001b[43m,\u001b[49m\u001b[43m \u001b[49m\u001b[43mconcat_axis\u001b[49m\u001b[38;5;241;43m=\u001b[39;49m\u001b[38;5;28;43mself\u001b[39;49m\u001b[38;5;241;43m.\u001b[39;49m\u001b[43mbm_axis\u001b[49m\u001b[43m,\u001b[49m\u001b[43m \u001b[49m\u001b[43mcopy\u001b[49m\u001b[38;5;241;43m=\u001b[39;49m\u001b[38;5;28;43mself\u001b[39;49m\u001b[38;5;241;43m.\u001b[39;49m\u001b[43mcopy\u001b[49m\n\u001b[0;32m    597\u001b[0m \u001b[43m\u001b[49m\u001b[43m)\u001b[49m\n\u001b[0;32m    598\u001b[0m \u001b[38;5;28;01mif\u001b[39;00m \u001b[38;5;129;01mnot\u001b[39;00m \u001b[38;5;28mself\u001b[39m\u001b[38;5;241m.\u001b[39mcopy:\n\u001b[0;32m    599\u001b[0m     new_data\u001b[38;5;241m.\u001b[39m_consolidate_inplace()\n",
      "File \u001b[1;32mc:\\Users\\micha\\anaconda3\\envs\\tilt_vs_fingerprint\\lib\\site-packages\\pandas\\core\\internals\\concat.py:241\u001b[0m, in \u001b[0;36mconcatenate_managers\u001b[1;34m(mgrs_indexers, axes, concat_axis, copy)\u001b[0m\n\u001b[0;32m    239\u001b[0m     fastpath \u001b[38;5;241m=\u001b[39m blk\u001b[38;5;241m.\u001b[39mvalues\u001b[38;5;241m.\u001b[39mdtype \u001b[38;5;241m==\u001b[39m values\u001b[38;5;241m.\u001b[39mdtype\n\u001b[0;32m    240\u001b[0m \u001b[38;5;28;01melse\u001b[39;00m:\n\u001b[1;32m--> 241\u001b[0m     values \u001b[38;5;241m=\u001b[39m \u001b[43m_concatenate_join_units\u001b[49m\u001b[43m(\u001b[49m\u001b[43mjoin_units\u001b[49m\u001b[43m,\u001b[49m\u001b[43m \u001b[49m\u001b[43mcopy\u001b[49m\u001b[38;5;241;43m=\u001b[39;49m\u001b[43mcopy\u001b[49m\u001b[43m)\u001b[49m\n\u001b[0;32m    242\u001b[0m     fastpath \u001b[38;5;241m=\u001b[39m \u001b[38;5;28;01mFalse\u001b[39;00m\n\u001b[0;32m    244\u001b[0m \u001b[38;5;28;01mif\u001b[39;00m fastpath:\n",
      "File \u001b[1;32mc:\\Users\\micha\\anaconda3\\envs\\tilt_vs_fingerprint\\lib\\site-packages\\pandas\\core\\internals\\concat.py:495\u001b[0m, in \u001b[0;36m_concatenate_join_units\u001b[1;34m(join_units, copy)\u001b[0m\n\u001b[0;32m    492\u001b[0m     concat_values \u001b[38;5;241m=\u001b[39m ensure_block_shape(concat_values, \u001b[38;5;241m2\u001b[39m)\n\u001b[0;32m    494\u001b[0m \u001b[38;5;28;01melse\u001b[39;00m:\n\u001b[1;32m--> 495\u001b[0m     concat_values \u001b[38;5;241m=\u001b[39m \u001b[43mconcat_compat\u001b[49m\u001b[43m(\u001b[49m\u001b[43mto_concat\u001b[49m\u001b[43m,\u001b[49m\u001b[43m \u001b[49m\u001b[43maxis\u001b[49m\u001b[38;5;241;43m=\u001b[39;49m\u001b[38;5;241;43m1\u001b[39;49m\u001b[43m)\u001b[49m\n\u001b[0;32m    497\u001b[0m \u001b[38;5;28;01mreturn\u001b[39;00m concat_values\n",
      "File \u001b[1;32mc:\\Users\\micha\\anaconda3\\envs\\tilt_vs_fingerprint\\lib\\site-packages\\pandas\\core\\dtypes\\concat.py:151\u001b[0m, in \u001b[0;36mconcat_compat\u001b[1;34m(to_concat, axis, ea_compat_axis)\u001b[0m\n\u001b[0;32m    148\u001b[0m             to_concat \u001b[38;5;241m=\u001b[39m [x\u001b[38;5;241m.\u001b[39mastype(\u001b[38;5;124m\"\u001b[39m\u001b[38;5;124mobject\u001b[39m\u001b[38;5;124m\"\u001b[39m) \u001b[38;5;28;01mfor\u001b[39;00m x \u001b[38;5;129;01min\u001b[39;00m to_concat]\n\u001b[0;32m    149\u001b[0m             kinds \u001b[38;5;241m=\u001b[39m {\u001b[38;5;124m\"\u001b[39m\u001b[38;5;124mo\u001b[39m\u001b[38;5;124m\"\u001b[39m}\n\u001b[1;32m--> 151\u001b[0m result \u001b[38;5;241m=\u001b[39m \u001b[43mnp\u001b[49m\u001b[38;5;241;43m.\u001b[39;49m\u001b[43mconcatenate\u001b[49m\u001b[43m(\u001b[49m\u001b[43mto_concat\u001b[49m\u001b[43m,\u001b[49m\u001b[43m \u001b[49m\u001b[43maxis\u001b[49m\u001b[38;5;241;43m=\u001b[39;49m\u001b[43maxis\u001b[49m\u001b[43m)\u001b[49m\n\u001b[0;32m    152\u001b[0m \u001b[38;5;28;01mif\u001b[39;00m \u001b[38;5;124m\"\u001b[39m\u001b[38;5;124mb\u001b[39m\u001b[38;5;124m\"\u001b[39m \u001b[38;5;129;01min\u001b[39;00m kinds \u001b[38;5;129;01mand\u001b[39;00m result\u001b[38;5;241m.\u001b[39mdtype\u001b[38;5;241m.\u001b[39mkind \u001b[38;5;129;01min\u001b[39;00m [\u001b[38;5;124m\"\u001b[39m\u001b[38;5;124mi\u001b[39m\u001b[38;5;124m\"\u001b[39m, \u001b[38;5;124m\"\u001b[39m\u001b[38;5;124mu\u001b[39m\u001b[38;5;124m\"\u001b[39m, \u001b[38;5;124m\"\u001b[39m\u001b[38;5;124mf\u001b[39m\u001b[38;5;124m\"\u001b[39m]:\n\u001b[0;32m    153\u001b[0m     \u001b[38;5;66;03m# GH#39817\u001b[39;00m\n\u001b[0;32m    154\u001b[0m     warnings\u001b[38;5;241m.\u001b[39mwarn(\n\u001b[0;32m    155\u001b[0m         \u001b[38;5;124m\"\u001b[39m\u001b[38;5;124mBehavior when concatenating bool-dtype and numeric-dtype arrays is \u001b[39m\u001b[38;5;124m\"\u001b[39m\n\u001b[0;32m    156\u001b[0m         \u001b[38;5;124m\"\u001b[39m\u001b[38;5;124mdeprecated; in a future version these will cast to object dtype \u001b[39m\u001b[38;5;124m\"\u001b[39m\n\u001b[1;32m   (...)\u001b[0m\n\u001b[0;32m    160\u001b[0m         stacklevel\u001b[38;5;241m=\u001b[39mfind_stack_level(),\n\u001b[0;32m    161\u001b[0m     )\n",
      "File \u001b[1;32m<__array_function__ internals>:5\u001b[0m, in \u001b[0;36mconcatenate\u001b[1;34m(*args, **kwargs)\u001b[0m\n",
      "\u001b[1;31mKeyboardInterrupt\u001b[0m: "
     ]
    }
   ],
   "source": [
    "# test hierarchical bootstrap function on simulted data\n",
    "\n",
    "# create simulated data\n",
    "n_clusters = 10\n",
    "n_instances = 64\n",
    "\n",
    "# \n",
    "for shift in [0, 0.25, 0.75]:\n",
    "    print(\"=====================================\")\n",
    "    print(f\"Shift: {shift}\")\n",
    "    # create dataframe\n",
    "    df = pd.DataFrame(columns=['condition','cluster','instance','value'])\n",
    "    for i_cluster in range(n_clusters):\n",
    "        for i_instance in range(n_instances):\n",
    "            df_i = pd.DataFrame(columns=['condition','cluster','instance','value'])\n",
    "            df_i['condition'] = np.random.choice([0,1], size=1)\n",
    "            df_i['cluster'] = i_cluster\n",
    "            df_i['instance'] = i_instance\n",
    "            df_i['value'] = np.random.randn()\n",
    "            df = pd.concat([df, df_i], ignore_index=True)\n",
    "\n",
    "    # shift values for condition 1\n",
    "    df.loc[df['condition']==1, 'value'] += shift\n",
    "    df['value'] = df['value'].astype(float) # convert to float\n",
    "\n",
    "    # apply hierarchical bootstrap\n",
    "    # p_value, distribution_0, distribution_1 = run_hierarchical_bootstrap(df, 'value', 'condition', 'cluster', 'instance', 100)\n",
    "    p_value, p_boot, joint_prob, bin_edges, distribution_0, distribution_1 = run_hierarchical_bootstrap(df, 'value', 'condition', 'cluster', 'instance', 100)"
   ]
  },
  {
   "attachments": {},
   "cell_type": "markdown",
   "id": "45e8f7c2",
   "metadata": {},
   "source": [
    "## Main"
   ]
  },
  {
   "cell_type": "markdown",
   "id": "2fe41d9e",
   "metadata": {},
   "source": [
    "### load specparam results"
   ]
  },
  {
   "cell_type": "code",
   "execution_count": 7,
   "id": "7d14605e",
   "metadata": {},
   "outputs": [
    {
     "name": "stdout",
     "output_type": "stream",
     "text": [
      "(5560, 19)\n",
      "695.0\n"
     ]
    },
    {
     "data": {
      "text/html": [
       "<div>\n",
       "<style scoped>\n",
       "    .dataframe tbody tr th:only-of-type {\n",
       "        vertical-align: middle;\n",
       "    }\n",
       "\n",
       "    .dataframe tbody tr th {\n",
       "        vertical-align: top;\n",
       "    }\n",
       "\n",
       "    .dataframe thead th {\n",
       "        text-align: right;\n",
       "    }\n",
       "</style>\n",
       "<table border=\"1\" class=\"dataframe\">\n",
       "  <thead>\n",
       "    <tr style=\"text-align: right;\">\n",
       "      <th></th>\n",
       "      <th>patient</th>\n",
       "      <th>chan_idx</th>\n",
       "      <th>label</th>\n",
       "      <th>pos_y</th>\n",
       "      <th>pos_x</th>\n",
       "      <th>pos_z</th>\n",
       "      <th>unique_id</th>\n",
       "      <th>material</th>\n",
       "      <th>memory</th>\n",
       "      <th>epoch</th>\n",
       "      <th>offset</th>\n",
       "      <th>knee</th>\n",
       "      <th>exponent</th>\n",
       "      <th>f_rotation</th>\n",
       "      <th>alpha_cf</th>\n",
       "      <th>alpha_pw</th>\n",
       "      <th>alpha_bw</th>\n",
       "      <th>alpha_bp</th>\n",
       "      <th>alpha_adj</th>\n",
       "    </tr>\n",
       "  </thead>\n",
       "  <tbody>\n",
       "    <tr>\n",
       "      <th>0</th>\n",
       "      <td>pat02</td>\n",
       "      <td>0</td>\n",
       "      <td>A01-A02</td>\n",
       "      <td>-65.43100</td>\n",
       "      <td>61.94490</td>\n",
       "      <td>3.55955</td>\n",
       "      <td>pat02_0</td>\n",
       "      <td>words</td>\n",
       "      <td>hit</td>\n",
       "      <td>prestim</td>\n",
       "      <td>8.451107</td>\n",
       "      <td>12.903272</td>\n",
       "      <td>3.542673</td>\n",
       "      <td>10.978558</td>\n",
       "      <td>NaN</td>\n",
       "      <td>NaN</td>\n",
       "      <td>NaN</td>\n",
       "      <td>27777.899824</td>\n",
       "      <td>5664.172994</td>\n",
       "    </tr>\n",
       "    <tr>\n",
       "      <th>1</th>\n",
       "      <td>pat02</td>\n",
       "      <td>1</td>\n",
       "      <td>A02-A03</td>\n",
       "      <td>-70.93895</td>\n",
       "      <td>57.17765</td>\n",
       "      <td>12.15540</td>\n",
       "      <td>pat02_1</td>\n",
       "      <td>words</td>\n",
       "      <td>hit</td>\n",
       "      <td>prestim</td>\n",
       "      <td>7.595982</td>\n",
       "      <td>12.332651</td>\n",
       "      <td>3.052480</td>\n",
       "      <td>83.836257</td>\n",
       "      <td>10.839096</td>\n",
       "      <td>0.210785</td>\n",
       "      <td>2.000000</td>\n",
       "      <td>14445.161672</td>\n",
       "      <td>2948.320508</td>\n",
       "    </tr>\n",
       "    <tr>\n",
       "      <th>2</th>\n",
       "      <td>pat02</td>\n",
       "      <td>2</td>\n",
       "      <td>A03-A04</td>\n",
       "      <td>-75.39550</td>\n",
       "      <td>51.39440</td>\n",
       "      <td>20.94335</td>\n",
       "      <td>pat02_2</td>\n",
       "      <td>words</td>\n",
       "      <td>hit</td>\n",
       "      <td>prestim</td>\n",
       "      <td>7.056773</td>\n",
       "      <td>8.787521</td>\n",
       "      <td>2.774045</td>\n",
       "      <td>89.824561</td>\n",
       "      <td>12.850783</td>\n",
       "      <td>0.276397</td>\n",
       "      <td>2.000000</td>\n",
       "      <td>15085.969728</td>\n",
       "      <td>4269.780182</td>\n",
       "    </tr>\n",
       "    <tr>\n",
       "      <th>3</th>\n",
       "      <td>pat02</td>\n",
       "      <td>3</td>\n",
       "      <td>A04-A05</td>\n",
       "      <td>-78.91950</td>\n",
       "      <td>43.90980</td>\n",
       "      <td>30.13485</td>\n",
       "      <td>pat02_3</td>\n",
       "      <td>words</td>\n",
       "      <td>hit</td>\n",
       "      <td>prestim</td>\n",
       "      <td>7.595080</td>\n",
       "      <td>10.177476</td>\n",
       "      <td>2.940543</td>\n",
       "      <td>59.883041</td>\n",
       "      <td>NaN</td>\n",
       "      <td>NaN</td>\n",
       "      <td>NaN</td>\n",
       "      <td>23672.502537</td>\n",
       "      <td>2726.078761</td>\n",
       "    </tr>\n",
       "    <tr>\n",
       "      <th>4</th>\n",
       "      <td>pat02</td>\n",
       "      <td>4</td>\n",
       "      <td>A05-A06</td>\n",
       "      <td>-80.96735</td>\n",
       "      <td>35.21485</td>\n",
       "      <td>38.13475</td>\n",
       "      <td>pat02_4</td>\n",
       "      <td>words</td>\n",
       "      <td>hit</td>\n",
       "      <td>prestim</td>\n",
       "      <td>7.399935</td>\n",
       "      <td>9.126477</td>\n",
       "      <td>2.872949</td>\n",
       "      <td>65.871345</td>\n",
       "      <td>11.565201</td>\n",
       "      <td>0.227912</td>\n",
       "      <td>2.671217</td>\n",
       "      <td>21742.063343</td>\n",
       "      <td>3556.630628</td>\n",
       "    </tr>\n",
       "  </tbody>\n",
       "</table>\n",
       "</div>"
      ],
      "text/plain": [
       "  patient  chan_idx    label     pos_y     pos_x     pos_z unique_id material  \\\n",
       "0   pat02         0  A01-A02 -65.43100  61.94490   3.55955   pat02_0    words   \n",
       "1   pat02         1  A02-A03 -70.93895  57.17765  12.15540   pat02_1    words   \n",
       "2   pat02         2  A03-A04 -75.39550  51.39440  20.94335   pat02_2    words   \n",
       "3   pat02         3  A04-A05 -78.91950  43.90980  30.13485   pat02_3    words   \n",
       "4   pat02         4  A05-A06 -80.96735  35.21485  38.13475   pat02_4    words   \n",
       "\n",
       "  memory    epoch    offset       knee  exponent  f_rotation   alpha_cf  \\\n",
       "0    hit  prestim  8.451107  12.903272  3.542673   10.978558        NaN   \n",
       "1    hit  prestim  7.595982  12.332651  3.052480   83.836257  10.839096   \n",
       "2    hit  prestim  7.056773   8.787521  2.774045   89.824561  12.850783   \n",
       "3    hit  prestim  7.595080  10.177476  2.940543   59.883041        NaN   \n",
       "4    hit  prestim  7.399935   9.126477  2.872949   65.871345  11.565201   \n",
       "\n",
       "   alpha_pw  alpha_bw      alpha_bp    alpha_adj  \n",
       "0       NaN       NaN  27777.899824  5664.172994  \n",
       "1  0.210785  2.000000  14445.161672  2948.320508  \n",
       "2  0.276397  2.000000  15085.969728  4269.780182  \n",
       "3       NaN       NaN  23672.502537  2726.078761  \n",
       "4  0.227912  2.671217  21742.063343  3556.630628  "
      ]
     },
     "execution_count": 7,
     "metadata": {},
     "output_type": "execute_result"
    }
   ],
   "source": [
    "# load spectral parameterization results\n",
    "results = pd.read_csv(f\"{PROJECT_PATH}/data/results/spectral_parameters.csv\", index_col=0)\n",
    "\n",
    "# show\n",
    "print(results.shape)\n",
    "print(len(results)/8)\n",
    "results.head()"
   ]
  },
  {
   "cell_type": "code",
   "execution_count": 8,
   "id": "eb8f7258",
   "metadata": {},
   "outputs": [
    {
     "data": {
      "text/html": [
       "<div>\n",
       "<style scoped>\n",
       "    .dataframe tbody tr th:only-of-type {\n",
       "        vertical-align: middle;\n",
       "    }\n",
       "\n",
       "    .dataframe tbody tr th {\n",
       "        vertical-align: top;\n",
       "    }\n",
       "\n",
       "    .dataframe thead th {\n",
       "        text-align: right;\n",
       "    }\n",
       "</style>\n",
       "<table border=\"1\" class=\"dataframe\">\n",
       "  <thead>\n",
       "    <tr style=\"text-align: right;\">\n",
       "      <th></th>\n",
       "      <th>patient</th>\n",
       "      <th>chan_idx</th>\n",
       "      <th>label</th>\n",
       "      <th>pos_y</th>\n",
       "      <th>pos_x</th>\n",
       "      <th>pos_z</th>\n",
       "      <th>unique_id</th>\n",
       "      <th>material</th>\n",
       "      <th>memory</th>\n",
       "      <th>epoch</th>\n",
       "      <th>...</th>\n",
       "      <th>f_rotation</th>\n",
       "      <th>alpha_cf</th>\n",
       "      <th>alpha_pw</th>\n",
       "      <th>alpha_bw</th>\n",
       "      <th>alpha_bp</th>\n",
       "      <th>alpha_adj</th>\n",
       "      <th>p_val</th>\n",
       "      <th>sign</th>\n",
       "      <th>sig_tm</th>\n",
       "      <th>sig</th>\n",
       "    </tr>\n",
       "  </thead>\n",
       "  <tbody>\n",
       "    <tr>\n",
       "      <th>2</th>\n",
       "      <td>pat02</td>\n",
       "      <td>1</td>\n",
       "      <td>A02-A03</td>\n",
       "      <td>-70.93895</td>\n",
       "      <td>57.17765</td>\n",
       "      <td>12.15540</td>\n",
       "      <td>pat02_1</td>\n",
       "      <td>words</td>\n",
       "      <td>hit</td>\n",
       "      <td>prestim</td>\n",
       "      <td>...</td>\n",
       "      <td>83.836257</td>\n",
       "      <td>10.839096</td>\n",
       "      <td>0.210785</td>\n",
       "      <td>2.000000</td>\n",
       "      <td>14445.161672</td>\n",
       "      <td>2948.320508</td>\n",
       "      <td>0.0460</td>\n",
       "      <td>-1</td>\n",
       "      <td>True</td>\n",
       "      <td>True</td>\n",
       "    </tr>\n",
       "    <tr>\n",
       "      <th>3</th>\n",
       "      <td>pat02</td>\n",
       "      <td>1</td>\n",
       "      <td>A02-A03</td>\n",
       "      <td>-70.93895</td>\n",
       "      <td>57.17765</td>\n",
       "      <td>12.15540</td>\n",
       "      <td>pat02_1</td>\n",
       "      <td>words</td>\n",
       "      <td>hit</td>\n",
       "      <td>poststim</td>\n",
       "      <td>...</td>\n",
       "      <td>83.836257</td>\n",
       "      <td>NaN</td>\n",
       "      <td>NaN</td>\n",
       "      <td>NaN</td>\n",
       "      <td>17070.159190</td>\n",
       "      <td>1877.064258</td>\n",
       "      <td>0.0460</td>\n",
       "      <td>-1</td>\n",
       "      <td>True</td>\n",
       "      <td>True</td>\n",
       "    </tr>\n",
       "    <tr>\n",
       "      <th>8</th>\n",
       "      <td>pat02</td>\n",
       "      <td>4</td>\n",
       "      <td>A05-A06</td>\n",
       "      <td>-80.96735</td>\n",
       "      <td>35.21485</td>\n",
       "      <td>38.13475</td>\n",
       "      <td>pat02_4</td>\n",
       "      <td>words</td>\n",
       "      <td>hit</td>\n",
       "      <td>prestim</td>\n",
       "      <td>...</td>\n",
       "      <td>65.871345</td>\n",
       "      <td>11.565201</td>\n",
       "      <td>0.227912</td>\n",
       "      <td>2.671217</td>\n",
       "      <td>21742.063343</td>\n",
       "      <td>3556.630628</td>\n",
       "      <td>0.0000</td>\n",
       "      <td>1</td>\n",
       "      <td>True</td>\n",
       "      <td>True</td>\n",
       "    </tr>\n",
       "    <tr>\n",
       "      <th>9</th>\n",
       "      <td>pat02</td>\n",
       "      <td>4</td>\n",
       "      <td>A05-A06</td>\n",
       "      <td>-80.96735</td>\n",
       "      <td>35.21485</td>\n",
       "      <td>38.13475</td>\n",
       "      <td>pat02_4</td>\n",
       "      <td>words</td>\n",
       "      <td>hit</td>\n",
       "      <td>poststim</td>\n",
       "      <td>...</td>\n",
       "      <td>65.871345</td>\n",
       "      <td>NaN</td>\n",
       "      <td>NaN</td>\n",
       "      <td>NaN</td>\n",
       "      <td>13166.935700</td>\n",
       "      <td>-647.224520</td>\n",
       "      <td>0.0000</td>\n",
       "      <td>1</td>\n",
       "      <td>True</td>\n",
       "      <td>True</td>\n",
       "    </tr>\n",
       "    <tr>\n",
       "      <th>18</th>\n",
       "      <td>pat04</td>\n",
       "      <td>0</td>\n",
       "      <td>A01-A09</td>\n",
       "      <td>-58.30120</td>\n",
       "      <td>52.43075</td>\n",
       "      <td>-26.23685</td>\n",
       "      <td>pat04_0</td>\n",
       "      <td>words</td>\n",
       "      <td>hit</td>\n",
       "      <td>prestim</td>\n",
       "      <td>...</td>\n",
       "      <td>36.927875</td>\n",
       "      <td>9.468345</td>\n",
       "      <td>0.655227</td>\n",
       "      <td>2.200840</td>\n",
       "      <td>147381.091963</td>\n",
       "      <td>92616.547726</td>\n",
       "      <td>0.0012</td>\n",
       "      <td>1</td>\n",
       "      <td>True</td>\n",
       "      <td>True</td>\n",
       "    </tr>\n",
       "    <tr>\n",
       "      <th>...</th>\n",
       "      <td>...</td>\n",
       "      <td>...</td>\n",
       "      <td>...</td>\n",
       "      <td>...</td>\n",
       "      <td>...</td>\n",
       "      <td>...</td>\n",
       "      <td>...</td>\n",
       "      <td>...</td>\n",
       "      <td>...</td>\n",
       "      <td>...</td>\n",
       "      <td>...</td>\n",
       "      <td>...</td>\n",
       "      <td>...</td>\n",
       "      <td>...</td>\n",
       "      <td>...</td>\n",
       "      <td>...</td>\n",
       "      <td>...</td>\n",
       "      <td>...</td>\n",
       "      <td>...</td>\n",
       "      <td>...</td>\n",
       "      <td>...</td>\n",
       "    </tr>\n",
       "    <tr>\n",
       "      <th>5317</th>\n",
       "      <td>pat22</td>\n",
       "      <td>25</td>\n",
       "      <td>PI_05-PI_06</td>\n",
       "      <td>-10.50000</td>\n",
       "      <td>-40.00000</td>\n",
       "      <td>32.50000</td>\n",
       "      <td>pat22_25</td>\n",
       "      <td>faces</td>\n",
       "      <td>miss</td>\n",
       "      <td>poststim</td>\n",
       "      <td>...</td>\n",
       "      <td>NaN</td>\n",
       "      <td>7.303599</td>\n",
       "      <td>0.441313</td>\n",
       "      <td>2.000000</td>\n",
       "      <td>2353.031222</td>\n",
       "      <td>218.392527</td>\n",
       "      <td>0.0286</td>\n",
       "      <td>-1</td>\n",
       "      <td>True</td>\n",
       "      <td>True</td>\n",
       "    </tr>\n",
       "    <tr>\n",
       "      <th>5324</th>\n",
       "      <td>pat22</td>\n",
       "      <td>29</td>\n",
       "      <td>PI_09-PI_10</td>\n",
       "      <td>-11.50000</td>\n",
       "      <td>-41.00000</td>\n",
       "      <td>60.50000</td>\n",
       "      <td>pat22_29</td>\n",
       "      <td>faces</td>\n",
       "      <td>miss</td>\n",
       "      <td>prestim</td>\n",
       "      <td>...</td>\n",
       "      <td>55.890838</td>\n",
       "      <td>NaN</td>\n",
       "      <td>NaN</td>\n",
       "      <td>NaN</td>\n",
       "      <td>20708.678733</td>\n",
       "      <td>1308.590509</td>\n",
       "      <td>0.3236</td>\n",
       "      <td>-1</td>\n",
       "      <td>False</td>\n",
       "      <td>True</td>\n",
       "    </tr>\n",
       "    <tr>\n",
       "      <th>5325</th>\n",
       "      <td>pat22</td>\n",
       "      <td>29</td>\n",
       "      <td>PI_09-PI_10</td>\n",
       "      <td>-11.50000</td>\n",
       "      <td>-41.00000</td>\n",
       "      <td>60.50000</td>\n",
       "      <td>pat22_29</td>\n",
       "      <td>faces</td>\n",
       "      <td>miss</td>\n",
       "      <td>poststim</td>\n",
       "      <td>...</td>\n",
       "      <td>55.890838</td>\n",
       "      <td>NaN</td>\n",
       "      <td>NaN</td>\n",
       "      <td>NaN</td>\n",
       "      <td>24299.172337</td>\n",
       "      <td>-7349.650002</td>\n",
       "      <td>0.3236</td>\n",
       "      <td>-1</td>\n",
       "      <td>False</td>\n",
       "      <td>True</td>\n",
       "    </tr>\n",
       "    <tr>\n",
       "      <th>5368</th>\n",
       "      <td>pat22</td>\n",
       "      <td>51</td>\n",
       "      <td>MOF_08-MOF_09</td>\n",
       "      <td>48.00000</td>\n",
       "      <td>-14.00000</td>\n",
       "      <td>23.50000</td>\n",
       "      <td>pat22_51</td>\n",
       "      <td>faces</td>\n",
       "      <td>miss</td>\n",
       "      <td>prestim</td>\n",
       "      <td>...</td>\n",
       "      <td>43.914230</td>\n",
       "      <td>NaN</td>\n",
       "      <td>NaN</td>\n",
       "      <td>NaN</td>\n",
       "      <td>3829.861430</td>\n",
       "      <td>-176.791341</td>\n",
       "      <td>0.0006</td>\n",
       "      <td>-1</td>\n",
       "      <td>True</td>\n",
       "      <td>True</td>\n",
       "    </tr>\n",
       "    <tr>\n",
       "      <th>5369</th>\n",
       "      <td>pat22</td>\n",
       "      <td>51</td>\n",
       "      <td>MOF_08-MOF_09</td>\n",
       "      <td>48.00000</td>\n",
       "      <td>-14.00000</td>\n",
       "      <td>23.50000</td>\n",
       "      <td>pat22_51</td>\n",
       "      <td>faces</td>\n",
       "      <td>miss</td>\n",
       "      <td>poststim</td>\n",
       "      <td>...</td>\n",
       "      <td>43.914230</td>\n",
       "      <td>NaN</td>\n",
       "      <td>NaN</td>\n",
       "      <td>NaN</td>\n",
       "      <td>6701.218565</td>\n",
       "      <td>-123.642327</td>\n",
       "      <td>0.0006</td>\n",
       "      <td>-1</td>\n",
       "      <td>True</td>\n",
       "      <td>True</td>\n",
       "    </tr>\n",
       "  </tbody>\n",
       "</table>\n",
       "<p>860 rows × 23 columns</p>\n",
       "</div>"
      ],
      "text/plain": [
       "     patient  chan_idx          label     pos_y     pos_x     pos_z unique_id  \\\n",
       "2      pat02         1        A02-A03 -70.93895  57.17765  12.15540   pat02_1   \n",
       "3      pat02         1        A02-A03 -70.93895  57.17765  12.15540   pat02_1   \n",
       "8      pat02         4        A05-A06 -80.96735  35.21485  38.13475   pat02_4   \n",
       "9      pat02         4        A05-A06 -80.96735  35.21485  38.13475   pat02_4   \n",
       "18     pat04         0        A01-A09 -58.30120  52.43075 -26.23685   pat04_0   \n",
       "...      ...       ...            ...       ...       ...       ...       ...   \n",
       "5317   pat22        25    PI_05-PI_06 -10.50000 -40.00000  32.50000  pat22_25   \n",
       "5324   pat22        29    PI_09-PI_10 -11.50000 -41.00000  60.50000  pat22_29   \n",
       "5325   pat22        29    PI_09-PI_10 -11.50000 -41.00000  60.50000  pat22_29   \n",
       "5368   pat22        51  MOF_08-MOF_09  48.00000 -14.00000  23.50000  pat22_51   \n",
       "5369   pat22        51  MOF_08-MOF_09  48.00000 -14.00000  23.50000  pat22_51   \n",
       "\n",
       "     material memory     epoch  ...  f_rotation   alpha_cf  alpha_pw  \\\n",
       "2       words    hit   prestim  ...   83.836257  10.839096  0.210785   \n",
       "3       words    hit  poststim  ...   83.836257        NaN       NaN   \n",
       "8       words    hit   prestim  ...   65.871345  11.565201  0.227912   \n",
       "9       words    hit  poststim  ...   65.871345        NaN       NaN   \n",
       "18      words    hit   prestim  ...   36.927875   9.468345  0.655227   \n",
       "...       ...    ...       ...  ...         ...        ...       ...   \n",
       "5317    faces   miss  poststim  ...         NaN   7.303599  0.441313   \n",
       "5324    faces   miss   prestim  ...   55.890838        NaN       NaN   \n",
       "5325    faces   miss  poststim  ...   55.890838        NaN       NaN   \n",
       "5368    faces   miss   prestim  ...   43.914230        NaN       NaN   \n",
       "5369    faces   miss  poststim  ...   43.914230        NaN       NaN   \n",
       "\n",
       "      alpha_bw       alpha_bp     alpha_adj   p_val  sign  sig_tm   sig  \n",
       "2     2.000000   14445.161672   2948.320508  0.0460    -1    True  True  \n",
       "3          NaN   17070.159190   1877.064258  0.0460    -1    True  True  \n",
       "8     2.671217   21742.063343   3556.630628  0.0000     1    True  True  \n",
       "9          NaN   13166.935700   -647.224520  0.0000     1    True  True  \n",
       "18    2.200840  147381.091963  92616.547726  0.0012     1    True  True  \n",
       "...        ...            ...           ...     ...   ...     ...   ...  \n",
       "5317  2.000000    2353.031222    218.392527  0.0286    -1    True  True  \n",
       "5324       NaN   20708.678733   1308.590509  0.3236    -1   False  True  \n",
       "5325       NaN   24299.172337  -7349.650002  0.3236    -1   False  True  \n",
       "5368       NaN    3829.861430   -176.791341  0.0006    -1    True  True  \n",
       "5369       NaN    6701.218565   -123.642327  0.0006    -1    True  True  \n",
       "\n",
       "[860 rows x 23 columns]"
      ]
     },
     "execution_count": 8,
     "metadata": {},
     "output_type": "execute_result"
    }
   ],
   "source": [
    "# get results for task-modulated channels only\n",
    "\n",
    "# load task-modulated channel info\n",
    "task_modulated_channels = pd.read_csv(f\"{PROJECT_PATH}/data/results/ieeg_modulated_channels.csv\", index_col=0)\n",
    "\n",
    "# join info with results\n",
    "df_merge = pd.merge(results, task_modulated_channels, on=['patient','chan_idx','material','memory'])\n",
    "\n",
    "# get task-modulated channel results only\n",
    "results = df_merge.loc[df_merge['sig']]\n",
    "results"
   ]
  },
  {
   "cell_type": "code",
   "execution_count": 9,
   "id": "87eafb65",
   "metadata": {},
   "outputs": [],
   "source": [
    "# split results by trial type (words/faces) and take successful trials only (memory==hit)\n",
    "df_w = results.loc[((results['memory']=='hit')&(results['material']=='words'))]\n",
    "df_f = results.loc[((results['memory']=='hit')&(results['material']=='faces'))]\n",
    "\n",
    "# start with one trial type\n",
    "df = df_w.copy()\n"
   ]
  },
  {
   "cell_type": "markdown",
   "id": "91296cd1",
   "metadata": {},
   "source": [
    "### perform hierarchical bootsrap\n",
    "level 1: epoch (experimental condition)  \n",
    "level 2: patient  \n",
    "level 3: channel"
   ]
  },
  {
   "cell_type": "code",
   "execution_count": 12,
   "id": "df15d062",
   "metadata": {},
   "outputs": [
    {
     "name": "stdout",
     "output_type": "stream",
     "text": [
      "#############################################\n",
      "word-encoding\n",
      "#############################################\n",
      "\n",
      "Variable: exponent\n"
     ]
    },
    {
     "name": "stderr",
     "output_type": "stream",
     "text": [
      "c:\\Users\\micha\\anaconda3\\envs\\tilt_vs_fingerprint\\lib\\site-packages\\pandas\\core\\arraylike.py:397: RuntimeWarning: invalid value encountered in log10\n",
      "  result = getattr(ufunc, method)(*inputs, **kwargs)\n"
     ]
    },
    {
     "name": "stdout",
     "output_type": "stream",
     "text": [
      "p-value: 0.13\n",
      "p-boot: 0.1596\n"
     ]
    },
    {
     "data": {
      "image/png": "[encoded data removed]",
      "text/plain": [
       "<Figure size 864x288 with 3 Axes>"
      ]
     },
     "metadata": {
      "needs_background": "light"
     },
     "output_type": "display_data"
    },
    {
     "name": "stdout",
     "output_type": "stream",
     "text": [
      "\n",
      "Variable: alpha_bp\n",
      "p-value: 0.35\n",
      "p-boot: 0.395\n"
     ]
    },
    {
     "data": {
      "image/png": "[encoded data removed]",
      "text/plain": [
       "<Figure size 864x288 with 3 Axes>"
      ]
     },
     "metadata": {
      "needs_background": "light"
     },
     "output_type": "display_data"
    },
    {
     "name": "stdout",
     "output_type": "stream",
     "text": [
      "\n",
      "Variable: alpha_adj\n",
      "p-value: 0.44\n",
      "p-boot: 0.48650000000000004\n"
     ]
    },
    {
     "data": {
      "image/png": "[encoded data removed]",
      "text/plain": [
       "<Figure size 864x288 with 3 Axes>"
      ]
     },
     "metadata": {
      "needs_background": "light"
     },
     "output_type": "display_data"
    },
    {
     "name": "stdout",
     "output_type": "stream",
     "text": [
      "#############################################\n",
      "face-encoding\n",
      "#############################################\n",
      "\n",
      "Variable: exponent\n",
      "p-value: 0.26\n",
      "p-boot: 0.262\n"
     ]
    },
    {
     "data": {
      "image/png": "[encoded data removed]",
      "text/plain": [
       "<Figure size 864x288 with 3 Axes>"
      ]
     },
     "metadata": {
      "needs_background": "light"
     },
     "output_type": "display_data"
    },
    {
     "name": "stdout",
     "output_type": "stream",
     "text": [
      "\n",
      "Variable: alpha_bp\n",
      "p-value: 0.32\n",
      "p-boot: 0.38850000000000007\n"
     ]
    },
    {
     "data": {
      "image/png": "[encoded data removed]",
      "text/plain": [
       "<Figure size 864x288 with 3 Axes>"
      ]
     },
     "metadata": {
      "needs_background": "light"
     },
     "output_type": "display_data"
    },
    {
     "name": "stdout",
     "output_type": "stream",
     "text": [
      "\n",
      "Variable: alpha_adj\n",
      "p-value: 0.37\n",
      "p-boot: 0.43389999999999995\n"
     ]
    },
    {
     "data": {
      "image/png": "[encoded data removed]",
      "text/plain": [
       "<Figure size 864x288 with 3 Axes>"
      ]
     },
     "metadata": {
      "needs_background": "light"
     },
     "output_type": "display_data"
    }
   ],
   "source": [
    "# apply hierarchical bootstrap for each trial type and variable OF interest\n",
    "for df, material in zip([df_w, df_f],['word-encoding','face-encoding']):\n",
    "    # display progress\n",
    "    print(\"#############################################\")\n",
    "    print(material)\n",
    "    print(\"#############################################\")\n",
    "\n",
    "    # log transform alpha power\n",
    "    df_r = df.copy()\n",
    "    df_r['alpha_bp'] = np.log10(df_r['alpha_bp'])\n",
    "    df_r['alpha_adj'] = np.log10(df_r['alpha_adj'])\n",
    "    \n",
    "    for variable in ['exponent', 'alpha_bp','alpha_adj']:\n",
    "        # display progress\n",
    "        print(f\"\\nVariable: {variable}\")\n",
    "\n",
    "        # apply hierarchical bootstrap\n",
    "        p_value, p_boot, joint_prob, bin_edges, distribution_0, distribution_1 = run_hierarchical_bootstrap(df_r, variable, 'epoch', 'patient', 'chan_idx', 100)"
   ]
  },
  {
   "cell_type": "markdown",
   "id": "8bde63bf",
   "metadata": {},
   "source": [
    "### Permutation statistics\n",
    "Here we shuffle the labels for the condition of interest (baseline v. encoding), ignoring the hierarchical structure of the data."
   ]
  },
  {
   "cell_type": "code",
   "execution_count": 11,
   "id": "a15959a1",
   "metadata": {},
   "outputs": [],
   "source": [
    "def run_permutation_test(df, variable, condition, n_iterations=1000, verbose=True, plot=True):\n",
    "\n",
    "    # get distribution of surrogate differences between groups\n",
    "    distribution = np.zeros(n_iterations)\n",
    "    for i_iter in range(n_iterations):\n",
    "        # resample condition\n",
    "        df_copy = df.copy()\n",
    "        df_copy[f\"{condition}_resampled\"] = np.random.permutation(df[condition].values)\n",
    "\n",
    "        # compute difference between surrogate groups\n",
    "        distribution[i_iter] = np.diff(df_copy.groupby(f\"{condition}_resampled\").mean()['exponent'].values)\n",
    "\n",
    "    # compute true difference\n",
    "    diff = np.diff(df.groupby(condition).mean()['exponent'].values)[0]\n",
    "\n",
    "    # compute p-value\n",
    "    p_value = min(np.sum(distribution > diff), np.sum(distribution < diff)) / len(distribution)\n",
    "\n",
    "    # print results\n",
    "    if verbose:\n",
    "        print(f\"true difference: {diff}\")\n",
    "        print(f\"p-value: {p_value}\")\n",
    "\n",
    "    # plot results\n",
    "    if plot:\n",
    "        fig, ax = plt.subplots(figsize=(6,4))\n",
    "        ax.hist(distribution, bins=20, color='k', alpha=0.5, label='surrogate difference')\n",
    "        ax.axvline(diff, color='r', label='true difference')\n",
    "        ax.set_xlabel(f'difference')\n",
    "        ax.set_ylabel('count')\n",
    "        ax.set_title('Permutation results')\n",
    "        ax.legend()\n",
    "        plt.show()\n",
    "\n",
    "    return p_value, diff, distribution"
   ]
  },
  {
   "cell_type": "code",
   "execution_count": 9,
   "id": "73f9749b",
   "metadata": {},
   "outputs": [
    {
     "name": "stdout",
     "output_type": "stream",
     "text": [
      "true difference: 0.17596797002602615\n",
      "p-value: 0.02\n"
     ]
    },
    {
     "data": {
      "image/png": "[encoded data removed]",
      "text/plain": [
       "<Figure size 432x288 with 1 Axes>"
      ]
     },
     "metadata": {
      "needs_background": "light"
     },
     "output_type": "display_data"
    }
   ],
   "source": [
    "# run permutation test\n",
    "p_value, diff, distribution = run_permutation_test(df_w, variable='exponent', condition='epoch', n_iterations=1000)\n"
   ]
  },
  {
   "cell_type": "code",
   "execution_count": 12,
   "id": "47e4adb3",
   "metadata": {},
   "outputs": [
    {
     "name": "stdout",
     "output_type": "stream",
     "text": [
      "true difference: 0.17072371662398345\n",
      "p-value: 0.026\n"
     ]
    },
    {
     "data": {
      "image/png": "[encoded data removed]",
      "text/plain": [
       "<Figure size 432x288 with 1 Axes>"
      ]
     },
     "metadata": {
      "needs_background": "light"
     },
     "output_type": "display_data"
    }
   ],
   "source": [
    "# run permutation test\n",
    "p_value, diff, distribution = run_permutation_test(df_f, variable='exponent', condition='epoch', n_iterations=1000)\n"
   ]
  },
  {
   "cell_type": "code",
   "execution_count": 13,
   "id": "90ff265e",
   "metadata": {},
   "outputs": [
    {
     "name": "stdout",
     "output_type": "stream",
     "text": [
      "true difference: 0.17596797002602615\n",
      "p-value: 0.01\n"
     ]
    },
    {
     "data": {
      "image/png": "[encoded data removed]",
      "text/plain": [
       "<Figure size 432x288 with 1 Axes>"
      ]
     },
     "metadata": {
      "needs_background": "light"
     },
     "output_type": "display_data"
    },
    {
     "name": "stdout",
     "output_type": "stream",
     "text": [
      "true difference: 0.17072371662398345\n",
      "p-value: 0.033\n"
     ]
    },
    {
     "data": {
      "image/png": "[encoded data removed]",
      "text/plain": [
       "<Figure size 432x288 with 1 Axes>"
      ]
     },
     "metadata": {
      "needs_background": "light"
     },
     "output_type": "display_data"
    }
   ],
   "source": [
    "# run permutation test\n",
    "p_value, diff, distribution = run_permutation_test(df_w, variable='adj', condition='epoch', n_iterations=1000)\n",
    "p_value, diff, distribution = run_permutation_test(df_f, variable='adj', condition='epoch', n_iterations=1000)\n"
   ]
  }
 ],
 "metadata": {
  "kernelspec": {
   "display_name": "Python 3",
   "language": "python",
   "name": "python3"
  },
  "language_info": {
   "codemirror_mode": {
    "name": "ipython",
    "version": 3
   },
   "file_extension": ".py",
   "mimetype": "text/x-python",
   "name": "python",
   "nbconvert_exporter": "python",
   "pygments_lexer": "ipython3",
   "version": "3.9.12"
  }
 },
 "nbformat": 4,
 "nbformat_minor": 5
}
