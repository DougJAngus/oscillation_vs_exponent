{
 "cells": [
  {
   "attachments": {},
   "cell_type": "markdown",
   "id": "ce4c183d",
   "metadata": {},
   "source": [
    "# Assess model fits\n",
    "Reviewer comment: \"To substantiate the core claim, the authors need to provide considerably more details on the spectral fits, such as\n",
    "1. plots of multiple example spectra with fits superimposed\n",
    "2. distributions of fit r^2 statistics across electrodes, separately for baseline and encoding periods\n",
    "3. distributions of number-of-peaks detected (which, I understand, is a free parameter), etc.\"\n",
    "4. Additional r-squared plots for time-resolved and single-trial parameterization"
   ]
  },
  {
   "attachments": {},
   "cell_type": "markdown",
   "id": "cf65b7c2",
   "metadata": {},
   "source": [
    "## Set-up"
   ]
  },
  {
   "attachments": {},
   "cell_type": "markdown",
   "id": "bd8c029b",
   "metadata": {},
   "source": [
    "### Imports"
   ]
  },
  {
   "cell_type": "code",
   "execution_count": 1,
   "id": "f4ff781d",
   "metadata": {},
   "outputs": [],
   "source": [
    "# general\n",
    "import os\n",
    "import numpy as np\n",
    "import pandas as pd\n",
    "import matplotlib.pyplot as plt\n",
    "from matplotlib import rcParams\n",
    "from specparam import SpectralGroupModel"
   ]
  },
  {
   "cell_type": "code",
   "execution_count": 2,
   "id": "466d6f04",
   "metadata": {},
   "outputs": [],
   "source": [
    "# custom\n",
    "import sys\n",
    "sys.path.append(\"../code\")\n",
    "from paths import PROJECT_PATH\n",
    "from settings import COLORS\n",
    "from specparam_utils import compute_adj_r2\n"
   ]
  },
  {
   "attachments": {},
   "cell_type": "markdown",
   "id": "8beac22f",
   "metadata": {},
   "source": [
    "### Settings"
   ]
  },
  {
   "cell_type": "code",
   "execution_count": 30,
   "id": "6bed159b",
   "metadata": {},
   "outputs": [],
   "source": [
    "# set plotting style\n",
    "plt.style.use('../mplstyle/default.mplstyle')\n",
    "\n",
    "# set/create output path\n",
    "dir_output = f\"{PROJECT_PATH}/figures/reviewer_responses/model_fit\"\n",
    "if not os.path.exists(dir_output):\n",
    "    os.makedirs(dir_output)\n",
    "\n",
    "# set figure size\n",
    "FIG_SIZE = [3, 2]\n"
   ]
  },
  {
   "attachments": {},
   "cell_type": "markdown",
   "id": "45e8f7c2",
   "metadata": {},
   "source": [
    "## Main"
   ]
  },
  {
   "attachments": {},
   "cell_type": "markdown",
   "id": "7335cddc",
   "metadata": {},
   "source": [
    "### Import results\n",
    "r-squared values and number-of-peaks detected for each condition"
   ]
  },
  {
   "cell_type": "code",
   "execution_count": 4,
   "id": "7d14605e",
   "metadata": {},
   "outputs": [
    {
     "name": "stderr",
     "output_type": "stream",
     "text": [
      "C:\\Users\\micha\\AppData\\Local\\Temp\\ipykernel_11920\\3843572273.py:19: FutureWarning: The behavior of DataFrame concatenation with empty or all-NA entries is deprecated. In a future version, this will no longer exclude empty or all-NA columns when determining the result dtypes. To retain the old behavior, exclude the relevant entries before the concat operation.\n",
      "  df = pd.concat([df, row], ignore_index=True)\n"
     ]
    },
    {
     "data": {
      "text/html": [
       "<div>\n",
       "<style scoped>\n",
       "    .dataframe tbody tr th:only-of-type {\n",
       "        vertical-align: middle;\n",
       "    }\n",
       "\n",
       "    .dataframe tbody tr th {\n",
       "        vertical-align: top;\n",
       "    }\n",
       "\n",
       "    .dataframe thead th {\n",
       "        text-align: right;\n",
       "    }\n",
       "</style>\n",
       "<table border=\"1\" class=\"dataframe\">\n",
       "  <thead>\n",
       "    <tr style=\"text-align: right;\">\n",
       "      <th></th>\n",
       "      <th>material</th>\n",
       "      <th>memory</th>\n",
       "      <th>window</th>\n",
       "      <th>chan_idx</th>\n",
       "      <th>r_squared</th>\n",
       "      <th>n_peaks</th>\n",
       "    </tr>\n",
       "  </thead>\n",
       "  <tbody>\n",
       "    <tr>\n",
       "      <th>0</th>\n",
       "      <td>words</td>\n",
       "      <td>hit</td>\n",
       "      <td>pre</td>\n",
       "      <td>0</td>\n",
       "      <td>0.992538</td>\n",
       "      <td>1</td>\n",
       "    </tr>\n",
       "    <tr>\n",
       "      <th>1</th>\n",
       "      <td>words</td>\n",
       "      <td>hit</td>\n",
       "      <td>pre</td>\n",
       "      <td>1</td>\n",
       "      <td>0.991252</td>\n",
       "      <td>1</td>\n",
       "    </tr>\n",
       "    <tr>\n",
       "      <th>2</th>\n",
       "      <td>words</td>\n",
       "      <td>hit</td>\n",
       "      <td>pre</td>\n",
       "      <td>2</td>\n",
       "      <td>0.992428</td>\n",
       "      <td>2</td>\n",
       "    </tr>\n",
       "    <tr>\n",
       "      <th>3</th>\n",
       "      <td>words</td>\n",
       "      <td>hit</td>\n",
       "      <td>pre</td>\n",
       "      <td>3</td>\n",
       "      <td>0.991923</td>\n",
       "      <td>1</td>\n",
       "    </tr>\n",
       "    <tr>\n",
       "      <th>4</th>\n",
       "      <td>words</td>\n",
       "      <td>hit</td>\n",
       "      <td>pre</td>\n",
       "      <td>4</td>\n",
       "      <td>0.989169</td>\n",
       "      <td>0</td>\n",
       "    </tr>\n",
       "    <tr>\n",
       "      <th>...</th>\n",
       "      <td>...</td>\n",
       "      <td>...</td>\n",
       "      <td>...</td>\n",
       "      <td>...</td>\n",
       "      <td>...</td>\n",
       "      <td>...</td>\n",
       "    </tr>\n",
       "    <tr>\n",
       "      <th>5555</th>\n",
       "      <td>faces</td>\n",
       "      <td>miss</td>\n",
       "      <td>post</td>\n",
       "      <td>690</td>\n",
       "      <td>0.979073</td>\n",
       "      <td>0</td>\n",
       "    </tr>\n",
       "    <tr>\n",
       "      <th>5556</th>\n",
       "      <td>faces</td>\n",
       "      <td>miss</td>\n",
       "      <td>post</td>\n",
       "      <td>691</td>\n",
       "      <td>0.984815</td>\n",
       "      <td>0</td>\n",
       "    </tr>\n",
       "    <tr>\n",
       "      <th>5557</th>\n",
       "      <td>faces</td>\n",
       "      <td>miss</td>\n",
       "      <td>post</td>\n",
       "      <td>692</td>\n",
       "      <td>0.981885</td>\n",
       "      <td>2</td>\n",
       "    </tr>\n",
       "    <tr>\n",
       "      <th>5558</th>\n",
       "      <td>faces</td>\n",
       "      <td>miss</td>\n",
       "      <td>post</td>\n",
       "      <td>693</td>\n",
       "      <td>0.984669</td>\n",
       "      <td>1</td>\n",
       "    </tr>\n",
       "    <tr>\n",
       "      <th>5559</th>\n",
       "      <td>faces</td>\n",
       "      <td>miss</td>\n",
       "      <td>post</td>\n",
       "      <td>694</td>\n",
       "      <td>0.978638</td>\n",
       "      <td>1</td>\n",
       "    </tr>\n",
       "  </tbody>\n",
       "</table>\n",
       "<p>5560 rows × 6 columns</p>\n",
       "</div>"
      ],
      "text/plain": [
       "     material memory window chan_idx  r_squared  n_peaks\n",
       "0       words    hit    pre        0   0.992538        1\n",
       "1       words    hit    pre        1   0.991252        1\n",
       "2       words    hit    pre        2   0.992428        2\n",
       "3       words    hit    pre        3   0.991923        1\n",
       "4       words    hit    pre        4   0.989169        0\n",
       "...       ...    ...    ...      ...        ...      ...\n",
       "5555    faces   miss   post      690   0.979073        0\n",
       "5556    faces   miss   post      691   0.984815        0\n",
       "5557    faces   miss   post      692   0.981885        2\n",
       "5558    faces   miss   post      693   0.984669        1\n",
       "5559    faces   miss   post      694   0.978638        1\n",
       "\n",
       "[5560 rows x 6 columns]"
      ]
     },
     "execution_count": 4,
     "metadata": {},
     "output_type": "execute_result"
    }
   ],
   "source": [
    "# Import r-squared values for each aperiodic model across all conditions\n",
    "\n",
    "# init\n",
    "df = pd.DataFrame(columns=['material','memory','window','chan_idx','r_squared','n_peaks'])\n",
    "\n",
    "# loop through all conditions\n",
    "for material in ['words','faces']:\n",
    "    for memory in ['hit','miss']:\n",
    "        for window in ['pre', 'post']:\n",
    "\n",
    "                # load spectral parameters for condition and add to df\n",
    "                params = SpectralGroupModel()\n",
    "                params.load(f'{PROJECT_PATH}/data/ieeg_psd_param/psd_{material}_{memory}_{window}stim_params_knee')\n",
    "                r_squared = compute_adj_r2(params)\n",
    "                n_peaks = params.n_peaks_\n",
    "                for chan_idx in range(len(params)):\n",
    "                    row = pd.DataFrame([[material, memory, window, chan_idx, r_squared[chan_idx], n_peaks[chan_idx]]], \n",
    "                        columns=['material','memory','window','chan_idx','r_squared','n_peaks'])\n",
    "                    df = pd.concat([df, row], ignore_index=True)\n",
    "df[['r_squared','n_peaks']] = df[['r_squared','n_peaks']].apply(pd.to_numeric)\n",
    "df"
   ]
  },
  {
   "attachments": {},
   "cell_type": "markdown",
   "id": "9cfc62f1",
   "metadata": {},
   "source": [
    "### 1. Example spectral fits\n",
    "plots of multiple example spectra with fits superimposed\n"
   ]
  },
  {
   "attachments": {},
   "cell_type": "markdown",
   "id": "b9bb9483",
   "metadata": {},
   "source": [
    "Response: here we plot an example spectum with the fit superimposed for each experimental condition: memory condition (hit v. miss), material condition (words v. faces), and trial window (pre-stimulus v. post-stimulus)."
   ]
  },
  {
   "cell_type": "code",
   "execution_count": 5,
   "id": "e58303bb",
   "metadata": {},
   "outputs": [
    {
     "data": {
      "image/png": "[encoded data removed]",
      "text/plain": [
       "<Figure size 650x400 with 8 Axes>"
      ]
     },
     "metadata": {},
     "output_type": "display_data"
    }
   ],
   "source": [
    "# plot spectral model fit for a random channel for eah condition\n",
    "\n",
    "\n",
    "# create figure\n",
    "fig, axes = plt.subplots(2,4, figsize=[6.5, 4], constrained_layout=True)\n",
    "ii = 0\n",
    "\n",
    "# loop through all conditions \n",
    "for material in ['words','faces']:\n",
    "    for memory in ['hit','miss']:\n",
    "        for window in ['pre', 'post']:\n",
    "\n",
    "                # load spectral parameters for condition\n",
    "                params = SpectralGroupModel()\n",
    "                params.load(f'{PROJECT_PATH}/data/ieeg_psd_param/psd_{material}_{memory}_{window}stim_params_knee')\n",
    "\n",
    "                # get model for random condition and compute adjusted r-squared\n",
    "                while True:\n",
    "                    chan_idx = np.random.randint(len(params))\n",
    "                    try:\n",
    "                        model = params.get_model(chan_idx)\n",
    "                        break\n",
    "                    except:\n",
    "                        continue\n",
    "                     \n",
    "                r_squared = compute_adj_r2(params)[chan_idx]\n",
    "\n",
    "                # plot model fit\n",
    "                ax = np.ravel(axes)[ii]\n",
    "                model.plot(plt_log=True, ax=ax)\n",
    "\n",
    "                # label\n",
    "                ax.set_title(f\"{material}, {memory}, {window}\\n $R^2={r_squared:.3f}$\")\n",
    "                ax.get_legend().remove()\n",
    "                if ii not in [0,4]:\n",
    "                    ax.set_ylabel('')\n",
    "                if ii < 4:\n",
    "                    ax.set_xlabel('')\n",
    "\n",
    "                ii += 1\n",
    "\n",
    "# save\n",
    "plt.savefig(f\"{dir_output}/example_fits.png\")"
   ]
  },
  {
   "attachments": {},
   "cell_type": "markdown",
   "id": "fce85a86",
   "metadata": {},
   "source": [
    "### 2. Distribution of r-squared \n",
    "distributions of fit r^2 statistics across electrodes, separately for baseline and encoding periods\n"
   ]
  },
  {
   "attachments": {},
   "cell_type": "markdown",
   "id": "cb6fd777",
   "metadata": {},
   "source": [
    "Response: The mean r-squared value across all spectra fit was 0.976. R-squared values were similar across all conditions."
   ]
  },
  {
   "cell_type": "code",
   "execution_count": 34,
   "id": "ba4f4e49",
   "metadata": {},
   "outputs": [],
   "source": [
    "# bin edge for r-squared histograms\n",
    "bin_edges = np.linspace(0, 1, 81)"
   ]
  },
  {
   "cell_type": "markdown",
   "id": "c22ffe66",
   "metadata": {},
   "source": [
    "#### trial-average spectra"
   ]
  },
  {
   "cell_type": "code",
   "execution_count": 36,
   "id": "80c485ea",
   "metadata": {},
   "outputs": [
    {
     "data": {
      "image/png": "[encoded data removed]",
      "text/plain": [
       "<Figure size 300x200 with 1 Axes>"
      ]
     },
     "metadata": {},
     "output_type": "display_data"
    },
    {
     "name": "stdout",
     "output_type": "stream",
     "text": [
      "Mean R-squared: \t0.9758981866793482\n"
     ]
    }
   ],
   "source": [
    "# plot histogram of r-squared values (all conditions combined)\n",
    "fig, ax = plt.subplots(1,1, figsize=FIG_SIZE)\n",
    "ax.hist(df['r_squared'], bins=bin_edges, color=COLORS['blue'])\n",
    "ax.set(xlabel=\"R-squared\", ylabel=\"count\")\n",
    "ax.set_title(\"$R^2$: all conditions\")\n",
    "ax.set_xlim([np.min(df['r_squared'])-0.05, 1.05])\n",
    "plt.savefig(f\"{dir_output}/r2_all_channels.png\")\n",
    "plt.show()\n",
    "\n",
    "print(f\"Mean R-squared: \\t{np.nanmean(df['r_squared'])}\")"
   ]
  },
  {
   "cell_type": "code",
   "execution_count": 37,
   "id": "0d1881bd",
   "metadata": {},
   "outputs": [
    {
     "name": "stdout",
     "output_type": "stream",
     "text": [
      "Mean R-squared baseline: \t0.9761643030831847\n",
      "Mean R-squared encoding: \t0.9756319708670685\n"
     ]
    },
    {
     "data": {
      "image/png": "[encoded data removed]",
      "text/plain": [
       "<Figure size 300x200 with 1 Axes>"
      ]
     },
     "metadata": {},
     "output_type": "display_data"
    }
   ],
   "source": [
    "# plot histogram of r-squared values (baseline v. encoding)\n",
    "\n",
    "# compute mean for each condition\n",
    "r2_0 = df.loc[df['window']=='pre', 'r_squared'].values\n",
    "r2_1 = df.loc[df['window']=='post', 'r_squared'].values\n",
    "print(f\"Mean R-squared baseline: \\t{np.nanmean(r2_0)}\")\n",
    "print(f\"Mean R-squared encoding: \\t{np.nanmean(r2_1)}\")\n",
    "\n",
    "# plot histogram\n",
    "fig, ax = plt.subplots(1,1, figsize=FIG_SIZE)\n",
    "# ax.hist(r2_0, bins=bin_edges, alpha=0.5, color=COLORS['blue'], label=f'baseline: mean={np.nanmean(r2_0):.4f}')\n",
    "# ax.hist(r2_1, bins=bin_edges, alpha=0.5, color=COLORS['brown'], label=f'encoding: mean={np.nanmean(r2_1):.4f}')\n",
    "ax.hist(r2_0, bins=bin_edges, alpha=0.5, color=COLORS['blue'], label='baseline')\n",
    "ax.hist(r2_1, bins=bin_edges, alpha=0.5, color=COLORS['brown'], label='encoding')\n",
    "ax.set(xlabel=\"R-squared\", ylabel=\"count\")\n",
    "ax.set_title(\"$R^2$ by trial period\")\n",
    "ax.set_xlim([np.min(df['r_squared'])-0.05, 1.05])\n",
    "ax.legend(fontsize=8)\n",
    "\n",
    "# save/show\n",
    "plt.savefig(f\"{dir_output}/r2_pre_v_post.png\")\n",
    "plt.show()"
   ]
  },
  {
   "cell_type": "code",
   "execution_count": 38,
   "id": "a7ea121e",
   "metadata": {},
   "outputs": [
    {
     "data": {
      "image/png": "[encoded data removed]",
      "text/plain": [
       "<Figure size 300x200 with 1 Axes>"
      ]
     },
     "metadata": {},
     "output_type": "display_data"
    }
   ],
   "source": [
    "# plot histogram of r-squared values (word v. face)\n",
    "\n",
    "# compute mean for each condition\n",
    "r2_0 = df.loc[df['material']=='words', 'r_squared'].values\n",
    "r2_1 = df.loc[df['material']=='faces', 'r_squared'].values\n",
    "\n",
    "# plot histogram\n",
    "fig, ax = plt.subplots(1,1, figsize=FIG_SIZE)\n",
    "ax.hist(r2_0, bins=bin_edges, alpha=0.5, color=COLORS['blue'], label=f'word block: mean={np.nanmean(r2_0):.3f}')\n",
    "ax.hist(r2_1, bins=bin_edges, alpha=0.5, color=COLORS['brown'], label=f'face block: mean={np.nanmean(r2_1):.3f}')\n",
    "ax.set(xlabel=\"R-squared\", ylabel=\"count\")\n",
    "ax.set_title(\"$R^2$ by material condition\")\n",
    "ax.set_xlim([np.min(df['r_squared'])-0.05, 1.05])\n",
    "ax.legend(fontsize=8)\n",
    "plt.show()"
   ]
  },
  {
   "cell_type": "code",
   "execution_count": 39,
   "id": "922c9874",
   "metadata": {},
   "outputs": [
    {
     "data": {
      "image/png": "[encoded data removed]",
      "text/plain": [
       "<Figure size 300x200 with 1 Axes>"
      ]
     },
     "metadata": {},
     "output_type": "display_data"
    }
   ],
   "source": [
    "# plot histogram of r-squared values (hit v. miss)\n",
    "\n",
    "# compute mean for each condition\n",
    "r2_0 = df.loc[df['memory']=='hit', 'r_squared'].values\n",
    "r2_1 = df.loc[df['memory']=='miss', 'r_squared'].values\n",
    "\n",
    "# plot histogram\n",
    "fig, ax = plt.subplots(1,1, figsize=FIG_SIZE)\n",
    "ax.hist(r2_0, bins=bin_edges, alpha=0.5, color=COLORS['blue'], \n",
    "        label=f'hit trials: mean={np.nanmean(r2_0):.3f}')\n",
    "ax.hist(r2_1, bins=bin_edges, alpha=0.5, color=COLORS['brown'], \n",
    "        label=f'miss trials: mean={np.nanmean(r2_1):.3f}')\n",
    "ax.set(xlabel=\"R-squared\", ylabel=\"count\")\n",
    "ax.set_title(\"$R^2$ by memory condition\")\n",
    "ax.set_xlim([np.min(df['r_squared'])-0.05, 1.05])\n",
    "ax.legend(fontsize=8)\n",
    "plt.show()"
   ]
  },
  {
   "attachments": {},
   "cell_type": "markdown",
   "id": "818fc3da",
   "metadata": {},
   "source": [
    "### 3. Distribution of number-of-peaks detected\n",
    "distributions of number-of-peaks detected (which, I understand, is a free parameter), etc. "
   ]
  },
  {
   "attachments": {},
   "cell_type": "markdown",
   "id": "7457d027",
   "metadata": {},
   "source": [
    "Response: The maximum number of peaks in the model is a free parameter of the spectral parameterization method. For all analyses in this manuscript, the 'max_n_peaks' argument was set to 4. If the number of peaks is not limited, the fitting algorithm may overfit the data (reducing error in the model by fitting Gaussians to noise in the spectrum). In this dataset, given the other parameters (peak threshold = 3 standard deviations), the maximum (4 peaks) was only detected for 1.4% of spectra fit. Most commonly (43%) a single peak was detected, and often (22%) no peaks met the threshold criteria."
   ]
  },
  {
   "cell_type": "code",
   "execution_count": 26,
   "id": "bede3ee7",
   "metadata": {},
   "outputs": [
    {
     "data": {
      "image/png": "[encoded data removed]",
      "text/plain": [
       "<Figure size 300x200 with 1 Axes>"
      ]
     },
     "metadata": {},
     "output_type": "display_data"
    },
    {
     "name": "stdout",
     "output_type": "stream",
     "text": [
      "1 peaks: 2320 (41.73%)\n",
      "0 peaks: 1401 (25.20%)\n",
      "2 peaks: 1333 (23.97%)\n",
      "3 peaks: 434 (7.81%)\n",
      "4 peaks: 72 (1.29%)\n"
     ]
    }
   ],
   "source": [
    "# plot histogram of r-squared values (all conditions combined)\n",
    "\n",
    "# plot\n",
    "fig, ax = plt.subplots(1,1, figsize=FIG_SIZE)\n",
    "bin_edges_ = np.linspace(0,5,6)-0.5\n",
    "ax.hist(df['n_peaks'], bins=bin_edges_, color=COLORS['blue'])\n",
    "ax.set(xlabel=\"# of peaks\", ylabel=\"count\")\n",
    "ax.set_title(\"Peaks detected\")\n",
    "ax.set_xticks(bin_edges_[:-1]+0.5)\n",
    "\n",
    "# save/show\n",
    "plt.savefig(f\"{dir_output}/n_peaks_detected.png\")\n",
    "plt.show()\n",
    "\n",
    "# print counts / percentage\n",
    "percentages = df['n_peaks'].value_counts()/len(df)*100\n",
    "for n_peaks, count in df['n_peaks'].value_counts().items():\n",
    "    print(f\"{n_peaks} peaks: {count} ({percentages[n_peaks]:.2f}%)\")"
   ]
  },
  {
   "cell_type": "markdown",
   "id": "295a37a4",
   "metadata": {},
   "source": [
    "### 4. Additional r-squared plots for time-resolved and single-trial parameterization"
   ]
  },
  {
   "cell_type": "markdown",
   "id": "243513f1",
   "metadata": {},
   "source": [
    "#### time-resolved spectral parameterization"
   ]
  },
  {
   "cell_type": "code",
   "execution_count": 11,
   "id": "5c82d9f8",
   "metadata": {},
   "outputs": [
    {
     "data": {
      "text/html": [
       "<div>\n",
       "<style scoped>\n",
       "    .dataframe tbody tr th:only-of-type {\n",
       "        vertical-align: middle;\n",
       "    }\n",
       "\n",
       "    .dataframe tbody tr th {\n",
       "        vertical-align: top;\n",
       "    }\n",
       "\n",
       "    .dataframe thead th {\n",
       "        text-align: right;\n",
       "    }\n",
       "</style>\n",
       "<table border=\"1\" class=\"dataframe\">\n",
       "  <thead>\n",
       "    <tr style=\"text-align: right;\">\n",
       "      <th></th>\n",
       "      <th>index</th>\n",
       "      <th>patient</th>\n",
       "      <th>chan_idx</th>\n",
       "      <th>label</th>\n",
       "      <th>pos_y</th>\n",
       "      <th>pos_x</th>\n",
       "      <th>pos_z</th>\n",
       "    </tr>\n",
       "  </thead>\n",
       "  <tbody>\n",
       "    <tr>\n",
       "      <th>0</th>\n",
       "      <td>100</td>\n",
       "      <td>pat04</td>\n",
       "      <td>0</td>\n",
       "      <td>A01-A09</td>\n",
       "      <td>-58.30120</td>\n",
       "      <td>52.43075</td>\n",
       "      <td>-26.23685</td>\n",
       "    </tr>\n",
       "    <tr>\n",
       "      <th>1</th>\n",
       "      <td>105</td>\n",
       "      <td>pat04</td>\n",
       "      <td>5</td>\n",
       "      <td>A10-A18</td>\n",
       "      <td>-48.67445</td>\n",
       "      <td>61.57940</td>\n",
       "      <td>-21.63940</td>\n",
       "    </tr>\n",
       "    <tr>\n",
       "      <th>2</th>\n",
       "      <td>106</td>\n",
       "      <td>pat04</td>\n",
       "      <td>6</td>\n",
       "      <td>A11-A19</td>\n",
       "      <td>-45.27960</td>\n",
       "      <td>64.12270</td>\n",
       "      <td>-9.09570</td>\n",
       "    </tr>\n",
       "    <tr>\n",
       "      <th>3</th>\n",
       "      <td>109</td>\n",
       "      <td>pat04</td>\n",
       "      <td>9</td>\n",
       "      <td>A18-A26</td>\n",
       "      <td>-37.41585</td>\n",
       "      <td>63.49935</td>\n",
       "      <td>-23.07515</td>\n",
       "    </tr>\n",
       "    <tr>\n",
       "      <th>4</th>\n",
       "      <td>110</td>\n",
       "      <td>pat04</td>\n",
       "      <td>10</td>\n",
       "      <td>A19-A27</td>\n",
       "      <td>-34.53655</td>\n",
       "      <td>66.37405</td>\n",
       "      <td>-11.72635</td>\n",
       "    </tr>\n",
       "    <tr>\n",
       "      <th>...</th>\n",
       "      <td>...</td>\n",
       "      <td>...</td>\n",
       "      <td>...</td>\n",
       "      <td>...</td>\n",
       "      <td>...</td>\n",
       "      <td>...</td>\n",
       "      <td>...</td>\n",
       "    </tr>\n",
       "    <tr>\n",
       "      <th>56</th>\n",
       "      <td>1346</td>\n",
       "      <td>pat22</td>\n",
       "      <td>9</td>\n",
       "      <td>IFG_05-IFG_06</td>\n",
       "      <td>23.00000</td>\n",
       "      <td>-51.00000</td>\n",
       "      <td>6.00000</td>\n",
       "    </tr>\n",
       "    <tr>\n",
       "      <th>57</th>\n",
       "      <td>1347</td>\n",
       "      <td>pat22</td>\n",
       "      <td>10</td>\n",
       "      <td>IFG_06-IFG_07</td>\n",
       "      <td>24.00000</td>\n",
       "      <td>-55.00000</td>\n",
       "      <td>5.50000</td>\n",
       "    </tr>\n",
       "    <tr>\n",
       "      <th>58</th>\n",
       "      <td>1348</td>\n",
       "      <td>pat22</td>\n",
       "      <td>11</td>\n",
       "      <td>IFG_07-IFG_08</td>\n",
       "      <td>25.00000</td>\n",
       "      <td>-58.00000</td>\n",
       "      <td>4.50000</td>\n",
       "    </tr>\n",
       "    <tr>\n",
       "      <th>59</th>\n",
       "      <td>1361</td>\n",
       "      <td>pat22</td>\n",
       "      <td>24</td>\n",
       "      <td>PI_04-PI_05</td>\n",
       "      <td>-10.00000</td>\n",
       "      <td>-40.00000</td>\n",
       "      <td>25.50000</td>\n",
       "    </tr>\n",
       "    <tr>\n",
       "      <th>60</th>\n",
       "      <td>1381</td>\n",
       "      <td>pat22</td>\n",
       "      <td>44</td>\n",
       "      <td>LOF_08-LOF_09</td>\n",
       "      <td>47.00000</td>\n",
       "      <td>-25.00000</td>\n",
       "      <td>24.00000</td>\n",
       "    </tr>\n",
       "  </tbody>\n",
       "</table>\n",
       "<p>61 rows × 7 columns</p>\n",
       "</div>"
      ],
      "text/plain": [
       "    index patient  chan_idx          label     pos_y     pos_x     pos_z\n",
       "0     100   pat04         0        A01-A09 -58.30120  52.43075 -26.23685\n",
       "1     105   pat04         5        A10-A18 -48.67445  61.57940 -21.63940\n",
       "2     106   pat04         6        A11-A19 -45.27960  64.12270  -9.09570\n",
       "3     109   pat04         9        A18-A26 -37.41585  63.49935 -23.07515\n",
       "4     110   pat04        10        A19-A27 -34.53655  66.37405 -11.72635\n",
       "..    ...     ...       ...            ...       ...       ...       ...\n",
       "56   1346   pat22         9  IFG_05-IFG_06  23.00000 -51.00000   6.00000\n",
       "57   1347   pat22        10  IFG_06-IFG_07  24.00000 -55.00000   5.50000\n",
       "58   1348   pat22        11  IFG_07-IFG_08  25.00000 -58.00000   4.50000\n",
       "59   1361   pat22        24    PI_04-PI_05 -10.00000 -40.00000  25.50000\n",
       "60   1381   pat22        44  LOF_08-LOF_09  47.00000 -25.00000  24.00000\n",
       "\n",
       "[61 rows x 7 columns]"
      ]
     },
     "execution_count": 11,
     "metadata": {},
     "output_type": "execute_result"
    }
   ],
   "source": [
    "# get channel info for task-modulated channels\n",
    "\n",
    "# load channel info\n",
    "chan_info = pd.read_csv(f\"{PROJECT_PATH}/data/ieeg_metadata/ieeg_channel_info.csv\", index_col=0)\n",
    "\n",
    "# load task-modulation results\n",
    "results = pd.read_csv(f\"{PROJECT_PATH}/data/results/ieeg_modulated_channels.csv\", index_col=0)\n",
    "df_tr = chan_info.loc[results['sig_all']].reset_index(drop=True)\n",
    "df_tr"
   ]
  },
  {
   "cell_type": "code",
   "execution_count": 12,
   "id": "24f18812",
   "metadata": {},
   "outputs": [
    {
     "name": "stdout",
     "output_type": "stream",
     "text": [
      "(55632,)\n"
     ]
    }
   ],
   "source": [
    "# load specparam results for each channel and compute adjusted r-squared\n",
    "\n",
    "path_in = f\"{PROJECT_PATH}/data/ieeg_tfr_param\"\n",
    "r2_list = []\n",
    "for material in ['words', 'faces']:\n",
    "    for memory in ['hit', 'miss']:\n",
    "        for i_row, row in df_tr.iterrows():\n",
    "            fname = f\"{row['patient']}_{material}_{memory}_chan{row['chan_idx']}_tfr_param_knee\"\n",
    "            sgm = SpectralGroupModel()\n",
    "            sgm.load(f\"{path_in}/{fname}\")\n",
    "            r2 = compute_adj_r2(sgm)\n",
    "            r2_list.append(r2)\n",
    "\n",
    "# combine results\n",
    "r_squared = np.concatenate(r2_list)\n",
    "print(r_squared.shape)\n"
   ]
  },
  {
   "cell_type": "code",
   "execution_count": 40,
   "id": "eaa47ae0",
   "metadata": {},
   "outputs": [
    {
     "data": {
      "image/png": "[encoded data removed]",
      "text/plain": [
       "<Figure size 300x200 with 1 Axes>"
      ]
     },
     "metadata": {},
     "output_type": "display_data"
    },
    {
     "name": "stdout",
     "output_type": "stream",
     "text": [
      "Mean R-squared: \t0.9815709726228944\n"
     ]
    }
   ],
   "source": [
    "# plot histogram of r-squared values\n",
    "fig, ax = plt.subplots(1,1, figsize=FIG_SIZE)\n",
    "ax.hist(r_squared, bins=bin_edges, color=COLORS['blue'])\n",
    "ax.set(xlabel=\"R-squared\", ylabel=\"count\")\n",
    "ax.set_title(\"$R^2$: time-resolved\")\n",
    "ax.set_xlim([np.nanmin(r_squared)-0.05, 1.05])\n",
    "# ax.ticklabel_format(axis='y', style='sci', scilimits=(0,0))\n",
    "\n",
    "# save/show\n",
    "plt.savefig(f\"{dir_output}/r2_time_resolved.png\")\n",
    "plt.show()\n",
    "\n",
    "# print mean r-squared\n",
    "print(f\"Mean R-squared: \\t{np.nanmean(r_squared)}\")"
   ]
  },
  {
   "cell_type": "markdown",
   "id": "f788f595",
   "metadata": {},
   "source": [
    "#### single-trial spectra"
   ]
  },
  {
   "cell_type": "code",
   "execution_count": null,
   "id": "bbc21966",
   "metadata": {},
   "outputs": [],
   "source": [
    "# bin edge for r-squared histograms\n",
    "bin_edges = np.linspace(0, 1, 41)"
   ]
  },
  {
   "cell_type": "code",
   "execution_count": 14,
   "id": "25d1bb85",
   "metadata": {},
   "outputs": [
    {
     "data": {
      "text/html": [
       "<div>\n",
       "<style scoped>\n",
       "    .dataframe tbody tr th:only-of-type {\n",
       "        vertical-align: middle;\n",
       "    }\n",
       "\n",
       "    .dataframe tbody tr th {\n",
       "        vertical-align: top;\n",
       "    }\n",
       "\n",
       "    .dataframe thead th {\n",
       "        text-align: right;\n",
       "    }\n",
       "</style>\n",
       "<table border=\"1\" class=\"dataframe\">\n",
       "  <thead>\n",
       "    <tr style=\"text-align: right;\">\n",
       "      <th></th>\n",
       "      <th>patient</th>\n",
       "      <th>trial</th>\n",
       "      <th>chan_idx</th>\n",
       "      <th>material</th>\n",
       "      <th>memory</th>\n",
       "      <th>epoch</th>\n",
       "      <th>ap_mode</th>\n",
       "      <th>offset</th>\n",
       "      <th>exponent</th>\n",
       "      <th>error</th>\n",
       "      <th>r_squared</th>\n",
       "      <th>r2_adj</th>\n",
       "      <th>alpha</th>\n",
       "      <th>alpha_adj</th>\n",
       "      <th>gamma</th>\n",
       "      <th>gamma_adj</th>\n",
       "      <th>knee</th>\n",
       "    </tr>\n",
       "  </thead>\n",
       "  <tbody>\n",
       "    <tr>\n",
       "      <th>0</th>\n",
       "      <td>pat02</td>\n",
       "      <td>0</td>\n",
       "      <td>0</td>\n",
       "      <td>faces</td>\n",
       "      <td>hit</td>\n",
       "      <td>post</td>\n",
       "      <td>fixed</td>\n",
       "      <td>6.675666</td>\n",
       "      <td>2.521925</td>\n",
       "      <td>0.408902</td>\n",
       "      <td>0.701993</td>\n",
       "      <td>0.685437</td>\n",
       "      <td>3.784398</td>\n",
       "      <td>4.416340</td>\n",
       "      <td>2.128099</td>\n",
       "      <td>1.854503</td>\n",
       "      <td>NaN</td>\n",
       "    </tr>\n",
       "    <tr>\n",
       "      <th>1</th>\n",
       "      <td>pat02</td>\n",
       "      <td>0</td>\n",
       "      <td>1</td>\n",
       "      <td>faces</td>\n",
       "      <td>hit</td>\n",
       "      <td>post</td>\n",
       "      <td>fixed</td>\n",
       "      <td>5.855543</td>\n",
       "      <td>2.131122</td>\n",
       "      <td>0.407990</td>\n",
       "      <td>0.637631</td>\n",
       "      <td>0.629838</td>\n",
       "      <td>3.458305</td>\n",
       "      <td>3.782459</td>\n",
       "      <td>1.916144</td>\n",
       "      <td>1.746649</td>\n",
       "      <td>NaN</td>\n",
       "    </tr>\n",
       "    <tr>\n",
       "      <th>2</th>\n",
       "      <td>pat02</td>\n",
       "      <td>0</td>\n",
       "      <td>2</td>\n",
       "      <td>faces</td>\n",
       "      <td>hit</td>\n",
       "      <td>post</td>\n",
       "      <td>fixed</td>\n",
       "      <td>5.872600</td>\n",
       "      <td>1.971668</td>\n",
       "      <td>0.416719</td>\n",
       "      <td>0.581182</td>\n",
       "      <td>0.572175</td>\n",
       "      <td>3.711390</td>\n",
       "      <td>3.955754</td>\n",
       "      <td>2.276487</td>\n",
       "      <td>2.178522</td>\n",
       "      <td>NaN</td>\n",
       "    </tr>\n",
       "    <tr>\n",
       "      <th>3</th>\n",
       "      <td>pat02</td>\n",
       "      <td>0</td>\n",
       "      <td>3</td>\n",
       "      <td>faces</td>\n",
       "      <td>hit</td>\n",
       "      <td>post</td>\n",
       "      <td>fixed</td>\n",
       "      <td>5.810196</td>\n",
       "      <td>1.824834</td>\n",
       "      <td>0.392473</td>\n",
       "      <td>0.550786</td>\n",
       "      <td>0.541125</td>\n",
       "      <td>3.712280</td>\n",
       "      <td>4.576300</td>\n",
       "      <td>2.486117</td>\n",
       "      <td>2.324858</td>\n",
       "      <td>NaN</td>\n",
       "    </tr>\n",
       "    <tr>\n",
       "      <th>4</th>\n",
       "      <td>pat02</td>\n",
       "      <td>0</td>\n",
       "      <td>4</td>\n",
       "      <td>faces</td>\n",
       "      <td>hit</td>\n",
       "      <td>post</td>\n",
       "      <td>fixed</td>\n",
       "      <td>6.205565</td>\n",
       "      <td>2.189813</td>\n",
       "      <td>0.407078</td>\n",
       "      <td>0.655923</td>\n",
       "      <td>0.648524</td>\n",
       "      <td>4.055515</td>\n",
       "      <td>3.903695</td>\n",
       "      <td>2.186920</td>\n",
       "      <td>2.265435</td>\n",
       "      <td>NaN</td>\n",
       "    </tr>\n",
       "    <tr>\n",
       "      <th>...</th>\n",
       "      <td>...</td>\n",
       "      <td>...</td>\n",
       "      <td>...</td>\n",
       "      <td>...</td>\n",
       "      <td>...</td>\n",
       "      <td>...</td>\n",
       "      <td>...</td>\n",
       "      <td>...</td>\n",
       "      <td>...</td>\n",
       "      <td>...</td>\n",
       "      <td>...</td>\n",
       "      <td>...</td>\n",
       "      <td>...</td>\n",
       "      <td>...</td>\n",
       "      <td>...</td>\n",
       "      <td>...</td>\n",
       "      <td>...</td>\n",
       "    </tr>\n",
       "    <tr>\n",
       "      <th>551603</th>\n",
       "      <td>pat22</td>\n",
       "      <td>41</td>\n",
       "      <td>48</td>\n",
       "      <td>words</td>\n",
       "      <td>miss</td>\n",
       "      <td>pre</td>\n",
       "      <td>knee</td>\n",
       "      <td>5.063870</td>\n",
       "      <td>2.798752</td>\n",
       "      <td>0.446397</td>\n",
       "      <td>0.677268</td>\n",
       "      <td>0.666744</td>\n",
       "      <td>2.317263</td>\n",
       "      <td>2.633392</td>\n",
       "      <td>-0.084054</td>\n",
       "      <td>-0.082436</td>\n",
       "      <td>97.676670</td>\n",
       "    </tr>\n",
       "    <tr>\n",
       "      <th>551604</th>\n",
       "      <td>pat22</td>\n",
       "      <td>41</td>\n",
       "      <td>49</td>\n",
       "      <td>words</td>\n",
       "      <td>miss</td>\n",
       "      <td>pre</td>\n",
       "      <td>knee</td>\n",
       "      <td>6.681917</td>\n",
       "      <td>3.230717</td>\n",
       "      <td>0.429152</td>\n",
       "      <td>0.764901</td>\n",
       "      <td>0.757235</td>\n",
       "      <td>3.439539</td>\n",
       "      <td>3.100281</td>\n",
       "      <td>0.789845</td>\n",
       "      <td>0.865534</td>\n",
       "      <td>1158.789174</td>\n",
       "    </tr>\n",
       "    <tr>\n",
       "      <th>551605</th>\n",
       "      <td>pat22</td>\n",
       "      <td>41</td>\n",
       "      <td>50</td>\n",
       "      <td>words</td>\n",
       "      <td>miss</td>\n",
       "      <td>pre</td>\n",
       "      <td>knee</td>\n",
       "      <td>7.805069</td>\n",
       "      <td>3.868256</td>\n",
       "      <td>0.473975</td>\n",
       "      <td>0.698820</td>\n",
       "      <td>0.688999</td>\n",
       "      <td>3.240394</td>\n",
       "      <td>3.556844</td>\n",
       "      <td>0.712896</td>\n",
       "      <td>0.721468</td>\n",
       "      <td>38526.782843</td>\n",
       "    </tr>\n",
       "    <tr>\n",
       "      <th>551606</th>\n",
       "      <td>pat22</td>\n",
       "      <td>41</td>\n",
       "      <td>51</td>\n",
       "      <td>words</td>\n",
       "      <td>miss</td>\n",
       "      <td>pre</td>\n",
       "      <td>knee</td>\n",
       "      <td>7.148680</td>\n",
       "      <td>3.062980</td>\n",
       "      <td>0.375531</td>\n",
       "      <td>0.802541</td>\n",
       "      <td>0.796103</td>\n",
       "      <td>4.221706</td>\n",
       "      <td>3.953806</td>\n",
       "      <td>1.654864</td>\n",
       "      <td>1.541866</td>\n",
       "      <td>127.824841</td>\n",
       "    </tr>\n",
       "    <tr>\n",
       "      <th>551607</th>\n",
       "      <td>pat22</td>\n",
       "      <td>41</td>\n",
       "      <td>52</td>\n",
       "      <td>words</td>\n",
       "      <td>miss</td>\n",
       "      <td>pre</td>\n",
       "      <td>knee</td>\n",
       "      <td>6.604616</td>\n",
       "      <td>2.855469</td>\n",
       "      <td>0.505624</td>\n",
       "      <td>0.642451</td>\n",
       "      <td>0.630792</td>\n",
       "      <td>3.845541</td>\n",
       "      <td>3.450523</td>\n",
       "      <td>1.452781</td>\n",
       "      <td>1.660090</td>\n",
       "      <td>175.730579</td>\n",
       "    </tr>\n",
       "  </tbody>\n",
       "</table>\n",
       "<p>551608 rows × 17 columns</p>\n",
       "</div>"
      ],
      "text/plain": [
       "       patient  trial  chan_idx material memory epoch ap_mode    offset  \\\n",
       "0        pat02      0         0    faces    hit  post   fixed  6.675666   \n",
       "1        pat02      0         1    faces    hit  post   fixed  5.855543   \n",
       "2        pat02      0         2    faces    hit  post   fixed  5.872600   \n",
       "3        pat02      0         3    faces    hit  post   fixed  5.810196   \n",
       "4        pat02      0         4    faces    hit  post   fixed  6.205565   \n",
       "...        ...    ...       ...      ...    ...   ...     ...       ...   \n",
       "551603   pat22     41        48    words   miss   pre    knee  5.063870   \n",
       "551604   pat22     41        49    words   miss   pre    knee  6.681917   \n",
       "551605   pat22     41        50    words   miss   pre    knee  7.805069   \n",
       "551606   pat22     41        51    words   miss   pre    knee  7.148680   \n",
       "551607   pat22     41        52    words   miss   pre    knee  6.604616   \n",
       "\n",
       "        exponent     error  r_squared    r2_adj     alpha  alpha_adj  \\\n",
       "0       2.521925  0.408902   0.701993  0.685437  3.784398   4.416340   \n",
       "1       2.131122  0.407990   0.637631  0.629838  3.458305   3.782459   \n",
       "2       1.971668  0.416719   0.581182  0.572175  3.711390   3.955754   \n",
       "3       1.824834  0.392473   0.550786  0.541125  3.712280   4.576300   \n",
       "4       2.189813  0.407078   0.655923  0.648524  4.055515   3.903695   \n",
       "...          ...       ...        ...       ...       ...        ...   \n",
       "551603  2.798752  0.446397   0.677268  0.666744  2.317263   2.633392   \n",
       "551604  3.230717  0.429152   0.764901  0.757235  3.439539   3.100281   \n",
       "551605  3.868256  0.473975   0.698820  0.688999  3.240394   3.556844   \n",
       "551606  3.062980  0.375531   0.802541  0.796103  4.221706   3.953806   \n",
       "551607  2.855469  0.505624   0.642451  0.630792  3.845541   3.450523   \n",
       "\n",
       "           gamma  gamma_adj          knee  \n",
       "0       2.128099   1.854503           NaN  \n",
       "1       1.916144   1.746649           NaN  \n",
       "2       2.276487   2.178522           NaN  \n",
       "3       2.486117   2.324858           NaN  \n",
       "4       2.186920   2.265435           NaN  \n",
       "...          ...        ...           ...  \n",
       "551603 -0.084054  -0.082436     97.676670  \n",
       "551604  0.789845   0.865534   1158.789174  \n",
       "551605  0.712896   0.721468  38526.782843  \n",
       "551606  1.654864   1.541866    127.824841  \n",
       "551607  1.452781   1.660090    175.730579  \n",
       "\n",
       "[551608 rows x 17 columns]"
      ]
     },
     "execution_count": 14,
     "metadata": {},
     "output_type": "execute_result"
    }
   ],
   "source": [
    "# load params\n",
    "df_st = pd.read_csv(f\"{PROJECT_PATH}/data/results/psd_trial_params.csv\")\n",
    "df_st"
   ]
  },
  {
   "cell_type": "code",
   "execution_count": 28,
   "id": "c282a6ff",
   "metadata": {},
   "outputs": [
    {
     "name": "stdout",
     "output_type": "stream",
     "text": [
      "Mean R-squared fixed: \t0.646157922078337\n",
      "Mean R-squared knee: \t0.6654328361260057\n"
     ]
    },
    {
     "data": {
      "image/png": "[encoded data removed]",
      "text/plain": [
       "<Figure size 300x200 with 1 Axes>"
      ]
     },
     "metadata": {},
     "output_type": "display_data"
    }
   ],
   "source": [
    "# plot hist of r-squared values for both ap_modes\n",
    "\n",
    "# get mean r-squared values for each mode\n",
    "mean_fixed = df_st.loc[df_st['ap_mode']=='fixed', 'r2_adj'].mean()\n",
    "mean_knee = df_st.loc[df_st['ap_mode']=='knee', 'r2_adj'].mean()\n",
    "print(f\"Mean R-squared fixed: \\t{mean_fixed}\")\n",
    "print(f\"Mean R-squared knee: \\t{mean_knee}\")\n",
    "\n",
    "# plot\n",
    "fig, ax = plt.subplots(1,1, figsize=FIG_SIZE)\n",
    "ax.hist(df_st.loc[df_st['ap_mode']=='fixed', 'r2_adj'], bin_edges, alpha=0.5, \n",
    "    label='fixed', color=COLORS['blue'])\n",
    "ax.hist(df_st.loc[df_st['ap_mode']=='knee', 'r2_adj'], bin_edges, alpha=0.5,\n",
    "    label='knee', color=COLORS['brown'])\n",
    "ax.set(xlabel=\"R-squared\", ylabel=\"count\")\n",
    "ax.set_title(\"$R^2$: single trial\")\n",
    "ax.legend(fontsize=8)\n",
    "ax.ticklabel_format(axis='y', style='sci', scilimits=(0,0))\n",
    "plt.show()\n",
    "\n"
   ]
  },
  {
   "cell_type": "code",
   "execution_count": 29,
   "id": "11c6f7f2",
   "metadata": {},
   "outputs": [
    {
     "name": "stdout",
     "output_type": "stream",
     "text": [
      "Mean R-squared pre: \t0.6583911887462727\n",
      "Mean R-squared post: \t0.653199145182143\n"
     ]
    },
    {
     "data": {
      "image/png": "[encoded data removed]",
      "text/plain": [
       "<Figure size 300x200 with 1 Axes>"
      ]
     },
     "metadata": {},
     "output_type": "display_data"
    }
   ],
   "source": [
    "# plot hist of r-squared values for pre and post\n",
    "\n",
    "# get mean r-squared values for each epoch\n",
    "mean_pre = np.nanmean(df_st.loc[df_st[\"epoch\"]==\"pre\", \"r2_adj\"])\n",
    "mean_post = np.nanmean(df_st.loc[df_st[\"epoch\"]==\"post\", \"r2_adj\"])\n",
    "print(f\"Mean R-squared pre: \\t{mean_pre}\")\n",
    "print(f\"Mean R-squared post: \\t{mean_post}\")\n",
    "\n",
    "# plot\n",
    "fig, ax = plt.subplots(1,1, figsize=FIG_SIZE)\n",
    "ax.hist(df_st.loc[df_st['epoch']=='pre', 'r2_adj'], bin_edges, alpha=0.5, \n",
    "        color=COLORS['blue'], label='baseline')\n",
    "ax.hist(df_st.loc[df_st['epoch']=='post', 'r2_adj'], bin_edges, alpha=0.5, \n",
    "        color=COLORS['brown'], label='encoding')\n",
    "ax.set(xlabel=\"R-squared\", ylabel=\"count\")\n",
    "ax.set_title(\"$R^2$: single-trial\")\n",
    "ax.legend(fontsize=8)\n",
    "\n",
    "# save/show\n",
    "plt.savefig(f\"{dir_output}/r2_single_trial.png\")\n",
    "plt.show()"
   ]
  },
  {
   "cell_type": "code",
   "execution_count": 17,
   "id": "e2c6a7c0",
   "metadata": {},
   "outputs": [
    {
     "name": "stdout",
     "output_type": "stream",
     "text": [
      "Mean adjusted R-squared (fixed): 0.646\n",
      "Mean adjusted R-squared (knee): 0.665\n",
      "\n",
      "Mean adjusted R-squared (pre): 0.658\n",
      "Mean adjusted R-squared (post): 0.653\n"
     ]
    }
   ],
   "source": [
    "# print mean r-squared\n",
    "print(f\"Mean adjusted R-squared (fixed): {df_st.loc[df_st['ap_mode']=='fixed', 'r2_adj'].mean():.3f}\")\n",
    "print(f\"Mean adjusted R-squared (knee): {df_st.loc[df_st['ap_mode']=='knee', 'r2_adj'].mean():.3f}\")\n",
    "print(f\"\\nMean adjusted R-squared (pre): {df_st.loc[df_st['epoch']=='pre', 'r2_adj'].mean():.3f}\")\n",
    "print(f\"Mean adjusted R-squared (post): {df_st.loc[df_st['epoch']=='post', 'r2_adj'].mean():.3f}\")"
   ]
  },
  {
   "cell_type": "markdown",
   "id": "5da5a5c9",
   "metadata": {},
   "source": [
    "As expected, r-squared values are lower for the single spectra than trial-average spectra; however, the model still captures most of the variance in the data. Crucially, the r-squared values are comparaed between the baseline and encoding periods."
   ]
  }
 ],
 "metadata": {
  "kernelspec": {
   "display_name": "Python 3",
   "language": "python",
   "name": "python3"
  },
  "language_info": {
   "codemirror_mode": {
    "name": "ipython",
    "version": 3
   },
   "file_extension": ".py",
   "mimetype": "text/x-python",
   "name": "python",
   "nbconvert_exporter": "python",
   "pygments_lexer": "ipython3",
   "version": "3.11.5"
  }
 },
 "nbformat": 4,
 "nbformat_minor": 5
}
