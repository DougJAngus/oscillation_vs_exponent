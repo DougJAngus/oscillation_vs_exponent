{
 "cells": [
  {
   "cell_type": "markdown",
   "id": "ce4c183d",
   "metadata": {},
   "source": [
    "# Hierarchical bootsrap"
   ]
  },
  {
   "attachments": {},
   "cell_type": "markdown",
   "id": "50e6baec",
   "metadata": {},
   "source": [
    "### Set path"
   ]
  },
  {
   "cell_type": "code",
   "execution_count": 1,
   "id": "8f321197",
   "metadata": {},
   "outputs": [],
   "source": [
    "PROJECT_PATH = 'C:/Users/micha/projects/oscillation_vs_exponent/'"
   ]
  },
  {
   "attachments": {},
   "cell_type": "markdown",
   "id": "cb35a6c8",
   "metadata": {},
   "source": [
    "## Set-up"
   ]
  },
  {
   "attachments": {},
   "cell_type": "markdown",
   "id": "bd8c029b",
   "metadata": {},
   "source": [
    "### Imports"
   ]
  },
  {
   "cell_type": "code",
   "execution_count": 2,
   "id": "f4ff781d",
   "metadata": {},
   "outputs": [],
   "source": [
    "import os\n",
    "import numpy as np\n",
    "import pandas as pd\n",
    "import matplotlib.pyplot as plt\n",
    "from time import time"
   ]
  },
  {
   "attachments": {},
   "cell_type": "markdown",
   "id": "8beac22f",
   "metadata": {},
   "source": [
    "### Settings"
   ]
  },
  {
   "cell_type": "code",
   "execution_count": 3,
   "id": "26882fd1",
   "metadata": {},
   "outputs": [],
   "source": [
    "N_ITERATIONS = 1000 # number of iterations for bootstrapping\n",
    "VAR = 'exponent' # variable to analyze"
   ]
  },
  {
   "attachments": {},
   "cell_type": "markdown",
   "id": "45e8f7c2",
   "metadata": {},
   "source": [
    "## Main"
   ]
  },
  {
   "cell_type": "markdown",
   "id": "2fe41d9e",
   "metadata": {},
   "source": [
    "### load specparam results"
   ]
  },
  {
   "cell_type": "code",
   "execution_count": null,
   "id": "7d14605e",
   "metadata": {},
   "outputs": [],
   "source": [
    "# load spectral parameterization results\n",
    "results = pd.read_csv(f\"{PROJECT_PATH}/data/results/spectral_parameters.csv\", index_col=0)\n",
    "\n",
    "# show\n",
    "print(results.shape)\n",
    "print(len(results)/8)\n",
    "results.head()"
   ]
  },
  {
   "cell_type": "markdown",
   "id": "91296cd1",
   "metadata": {},
   "source": [
    "### perform hierarchical bootsrap\n",
    "level 1: epoch (experimental condition)  \n",
    "level 2: patient  \n",
    "level 3: channel"
   ]
  },
  {
   "cell_type": "code",
   "execution_count": null,
   "id": "87eafb65",
   "metadata": {},
   "outputs": [],
   "source": [
    "# split results by trial type (words/faces) and take successful trials only (memory==hit)\n",
    "df_w = results.loc[((results['memory']=='hit')&(results['material']=='words'))]\n",
    "df_f = results.loc[((results['memory']=='hit')&(results['material']=='faces'))]\n",
    "\n",
    "# start with one trial type\n",
    "df = df_w.copy()\n"
   ]
  },
  {
   "cell_type": "code",
   "execution_count": null,
   "id": "fbf7fc35",
   "metadata": {},
   "outputs": [],
   "source": [
    "# count number of channels for each patient\n",
    "patients = results['patient'].unique()\n",
    "temp = results[(results['memory']=='hit') & (results['material']=='words') & (results['epoch']=='prestim')]\n",
    "n_channels = dict()\n",
    "for patient in patients:\n",
    "    n_channels[patient] = len(temp.loc[temp['patient']==patient])\n",
    "n_channels"
   ]
  },
  {
   "cell_type": "code",
   "execution_count": null,
   "id": "637c481a",
   "metadata": {},
   "outputs": [],
   "source": [
    "# perform hierarchical bootstrap on exponent values\n",
    "\n",
    "# time it \n",
    "t_start = time()\n",
    "\n",
    "# successful trials only\n",
    "df = results[results['memory']=='hit']\n",
    "n_samples = len(df)\n",
    "\n",
    "# get levels\n",
    "epochs = df['epoch'].unique()\n",
    "materials = df['material'].unique()\n",
    "# patients = df['patient'].unique()\n",
    "\n",
    "# loop through iterations\n",
    "diff = np.zeros(N_ITERATIONS)\n",
    "for i_iteration in range(N_ITERATIONS):\n",
    "    # display progress\n",
    "    print(f\"Iteration {i_iteration+1}/{N_ITERATIONS}\")\n",
    "\n",
    "    # resample level 1: epoch\n",
    "    epochs = np.random.choice(epochs, size=n_samples)\n",
    "    # resample level 2: patient\n",
    "    patients = np.random.choice(patients, size=n_samples)\n",
    "\n",
    "    # resample level 3: channel, and get data\n",
    "    value = np.zeros(n_samples)\n",
    "    for i_sample, (epoch, patient) in enumerate(zip(epochs, patients)):\n",
    "        # resample level 4: channel\n",
    "        channel = np.random.choice(n_channels[patient], size=1)[0]\n",
    "\n",
    "        # get data\n",
    "        value[i_sample] = df.loc[(df['epoch']==epoch) & (df['patient']==patient) & (df['chan_idx']==channel), VAR].values[0]\n",
    "\n",
    "    # compute difference between resampled experimental conditions\n",
    "    diff[i_iteration] = np.nanmean(value[len(value)//2:]) - np.nanmean(value[:len(value)//2])\n",
    "    # print(diff[i_iteration])\n",
    "\n",
    "# compute true difference between experimental conditions \n",
    "true_diff = np.nanmean(df.loc[df['epoch']=='poststim', VAR]) - \\\n",
    "    np.nanmean(df.loc[df['epoch']=='prestim', VAR])\n",
    "print(f\"True difference: {true_diff :0.3f}\")\n",
    "\n",
    "# plot\n",
    "fig, ax = plt.subplots(figsize=(6,4))\n",
    "ax.hist(diff, bins=20, color='k')\n",
    "ax.axvline(true_diff, color='k', linestyle='--')\n",
    "ax.set_xlabel('exponent difference')\n",
    "ax.set_ylabel('count')\n",
    "ax.set_title('Resampled exponent')\n",
    "plt.show()\n",
    "\n",
    "# print time\n",
    "print(f\"Resampling completed in {time() - t_start :0.1f} s\")"
   ]
  },
  {
   "cell_type": "code",
   "execution_count": null,
   "id": "9107beee",
   "metadata": {},
   "outputs": [],
   "source": [
    "diff_w = diff.copy()\n",
    "true_diff_w = true_diff.copy()"
   ]
  },
  {
   "cell_type": "code",
   "execution_count": null,
   "id": "2f56424a",
   "metadata": {},
   "outputs": [],
   "source": [
    "# perform hierarchical bootstrap on exponent values\n",
    "\n",
    "# now the other trial type\n",
    "df = df_f.copy()\n",
    "\n",
    "# time it \n",
    "t_start = time()\n",
    "\n",
    "# successful trials only\n",
    "df = results[results['memory']=='hit']\n",
    "n_samples = len(df)\n",
    "\n",
    "# get levels\n",
    "epochs = df['epoch'].unique()\n",
    "materials = df['material'].unique()\n",
    "# patients = df['patient'].unique()\n",
    "\n",
    "# loop through iterations\n",
    "diff = np.zeros(N_ITERATIONS)\n",
    "for i_iteration in range(N_ITERATIONS):\n",
    "    # display progress\n",
    "    print(f\"Iteration {i_iteration+1}/{N_ITERATIONS}\")\n",
    "\n",
    "    # resample level 1: epoch\n",
    "    epochs = np.random.choice(epochs, size=n_samples)\n",
    "    # resample level 2: patient\n",
    "    patients = np.random.choice(patients, size=n_samples)\n",
    "\n",
    "    # resample level 3: channel, and get data\n",
    "    value = np.zeros(n_samples)\n",
    "    for i_sample, (epoch, patient) in enumerate(zip(epochs, patients)):\n",
    "        # resample level 4: channel\n",
    "        channel = np.random.choice(n_channels[patient], size=1)[0]\n",
    "\n",
    "        # get data\n",
    "        value[i_sample] = df.loc[(df['epoch']==epoch) & (df['patient']==patient) & (df['chan_idx']==channel), VAR].values[0]\n",
    "\n",
    "    # compute difference between resampled experimental conditions\n",
    "    diff[i_iteration] = np.nanmean(value[len(value)//2:]) - np.nanmean(value[:len(value)//2])\n",
    "    # print(diff[i_iteration])\n",
    "\n",
    "# compute true difference between experimental conditions \n",
    "true_diff = np.nanmean(df.loc[df['epoch']=='poststim', VAR]) - \\\n",
    "    np.nanmean(df.loc[df['epoch']=='prestim', VAR])\n",
    "print(f\"True difference: {true_diff :0.3f}\")\n",
    "\n",
    "# plot\n",
    "fig, ax = plt.subplots(figsize=(6,4))\n",
    "ax.hist(diff, bins=20, color='k')\n",
    "ax.axvline(true_diff, color='k', linestyle='--')\n",
    "ax.set_xlabel('\\u0394 exponent')\n",
    "ax.set_ylabel('count')\n",
    "plt.show()\n",
    "\n",
    "# print time\n",
    "print(f\"Resampling completed in {time() - t_start :0.1f} s\")"
   ]
  },
  {
   "cell_type": "code",
   "execution_count": null,
   "id": "fb616374",
   "metadata": {},
   "outputs": [],
   "source": [
    "diff_f = diff.copy()\n",
    "true_diff_f = true_diff.copy()"
   ]
  },
  {
   "cell_type": "markdown",
   "id": "023107b2",
   "metadata": {},
   "source": [
    "### save/load results"
   ]
  },
  {
   "cell_type": "code",
   "execution_count": 4,
   "id": "1dac2061",
   "metadata": {},
   "outputs": [],
   "source": [
    "# save results\n",
    "# np.savez(f\"{PROJECT_PATH}/data/results/hierarchical_bootstrap\", diff_f=diff_f, diff_w=diff_w, true_diff_f=true_diff_f, true_diff_w=true_diff_w)\n",
    "\n",
    "# load results\n",
    "fname_in = f\"{PROJECT_PATH}/data/results/hierarchical_bootstrap.npz\"\n",
    "data_in = np.load(fname_in)\n",
    "diff_f = data_in['diff_f']\n",
    "diff_w = data_in['diff_w']\n",
    "true_diff_f = data_in['true_diff_f']\n",
    "true_diff_w = data_in['true_diff_w']\n"
   ]
  },
  {
   "cell_type": "markdown",
   "id": "32c7438c",
   "metadata": {},
   "source": [
    "### plot results"
   ]
  },
  {
   "cell_type": "code",
   "execution_count": 5,
   "id": "792c6945",
   "metadata": {},
   "outputs": [
    {
     "data": {
      "image/png": "[encoded data removed]",
      "text/plain": [
       "<Figure size 864x288 with 2 Axes>"
      ]
     },
     "metadata": {
      "needs_background": "light"
     },
     "output_type": "display_data"
    },
    {
     "name": "stdout",
     "output_type": "stream",
     "text": [
      "word-encoding: -0.10503906089771942\n",
      "face-encoding: -0.07911433805996237\n"
     ]
    }
   ],
   "source": [
    "# plot results for both trial types\n",
    "\n",
    "# plot\n",
    "fig, (ax1, ax2) = plt.subplots(1,2, figsize=(12,4))\n",
    "\n",
    "ax1.hist(diff_w, bins=20, color='k')\n",
    "ax1.axvline(true_diff_w, color='k', linestyle='--')\n",
    "ax1.set_title('word-encoding')\n",
    "\n",
    "ax2.hist(diff_f, bins=20, color='k')\n",
    "ax2.axvline(true_diff_f, color='k', linestyle='--')\n",
    "ax2.set_title('face-encoding')\n",
    "\n",
    "for ax in [ax1, ax2]:\n",
    "    ax.set_xlabel('\\u0394 exponent')\n",
    "    ax.set_ylabel('count')\n",
    "plt.show()\n",
    "\n",
    "print(f\"word-encoding: {true_diff_w}\")\n",
    "print(f\"face-encoding: {true_diff_f}\")\n"
   ]
  },
  {
   "cell_type": "markdown",
   "id": "d0552691",
   "metadata": {},
   "source": [
    "### include material as additional level"
   ]
  },
  {
   "cell_type": "code",
   "execution_count": null,
   "id": "a1e6204c",
   "metadata": {},
   "outputs": [],
   "source": [
    "# # perform hierarchical bootstrap - include material as additional level\n",
    "\n",
    "# # time it \n",
    "# t_start = time()\n",
    "\n",
    "# # successful trials only\n",
    "# df = results[results['memory']=='hit']\n",
    "# n_samples = len(df)\n",
    "\n",
    "# # get levels\n",
    "# epochs = df['epoch'].unique()\n",
    "# materials = df['material'].unique()\n",
    "\n",
    "# # loop through iterations\n",
    "# diff = np.zeros(n_iterations)\n",
    "# for ii in range(n_iterations):\n",
    "#     # display progress\n",
    "#     print(f\"Iteration {ii+1}/{n_iterations}\")\n",
    "\n",
    "#     # resample level 1: epoch\n",
    "#     epochs = np.random.choice(epochs, size=n_samples)\n",
    "#     # resample level 2: material\n",
    "#     materials = np.random.choice(materials, size=n_samples)\n",
    "#     # resample level 3: patient\n",
    "#     patients = np.random.choice(patients, size=n_samples)\n",
    "\n",
    "#     # resample level 4: channel, and get data\n",
    "#     value = np.zeros(n_samples)\n",
    "#     for i_sample, (epoch, material, patient) in enumerate(zip(epochs, materials, patients)):\n",
    "#         # resample level 4: channel\n",
    "#         channel = np.random.choice(n_channels[patient], size=1)[0]\n",
    "\n",
    "#         # get data\n",
    "#         value[i_sample] = df.loc[(df['epoch']==epoch) & (df['material']==material) \\\n",
    "#             & (df['patient']==patient) & (df['chan_idx']==channel), var].values[0]\n",
    "\n",
    "#     # compute difference between resampled experimental conditions\n",
    "#     diff[i_iteration] = np.nanmean(value[len(value)//2:]) - np.nanmean(value[:len(value)//2])\n",
    "#     print(diff[i_iteration])\n",
    "\n",
    "# # plot\n",
    "# fig, ax = plt.subplots(figsize=(6,4))\n",
    "# ax.hist(diff, bins=20, color='k')\n",
    "# ax.axvline(true_diff, color='k', linestyle='--')\n",
    "# ax.set_xlabel('exponent difference')\n",
    "# ax.set_ylabel('count')\n",
    "# ax.set_title('Resampled exponent')\n",
    "# plt.show()\n",
    "\n",
    "# # print time\n",
    "# print(f\"Resampling completed in {time() - t_start :0.1f} s\")"
   ]
  }
 ],
 "metadata": {
  "kernelspec": {
   "display_name": "Python 3",
   "language": "python",
   "name": "python3"
  },
  "language_info": {
   "codemirror_mode": {
    "name": "ipython",
    "version": 3
   },
   "file_extension": ".py",
   "mimetype": "text/x-python",
   "name": "python",
   "nbconvert_exporter": "python",
   "pygments_lexer": "ipython3",
   "version": "3.9.12"
  }
 },
 "nbformat": 4,
 "nbformat_minor": 5
}
