{
 "cells": [
  {
   "cell_type": "markdown",
   "id": "ce4c183d",
   "metadata": {},
   "source": [
    "# Hierarchical bootsrap"
   ]
  },
  {
   "attachments": {},
   "cell_type": "markdown",
   "id": "50e6baec",
   "metadata": {},
   "source": [
    "### Set path"
   ]
  },
  {
   "cell_type": "code",
   "execution_count": 1,
   "id": "8f321197",
   "metadata": {},
   "outputs": [],
   "source": [
    "PROJECT_PATH = 'C:/Users/micha/projects/oscillation_vs_exponent/'"
   ]
  },
  {
   "attachments": {},
   "cell_type": "markdown",
   "id": "cb35a6c8",
   "metadata": {},
   "source": [
    "## Set-up"
   ]
  },
  {
   "attachments": {},
   "cell_type": "markdown",
   "id": "bd8c029b",
   "metadata": {},
   "source": [
    "### Imports"
   ]
  },
  {
   "cell_type": "code",
   "execution_count": 2,
   "id": "f4ff781d",
   "metadata": {},
   "outputs": [],
   "source": [
    "import os\n",
    "import numpy as np\n",
    "import pandas as pd\n",
    "import matplotlib.pyplot as plt\n",
    "from time import time"
   ]
  },
  {
   "attachments": {},
   "cell_type": "markdown",
   "id": "8beac22f",
   "metadata": {},
   "source": [
    "### Settings"
   ]
  },
  {
   "cell_type": "code",
   "execution_count": 3,
   "id": "26882fd1",
   "metadata": {},
   "outputs": [],
   "source": [
    "N_ITERATIONS = 1000 # number of iterations for bootstrapping\n",
    "VAR = 'exponent' # variable to analyze"
   ]
  },
  {
   "attachments": {},
   "cell_type": "markdown",
   "id": "45e8f7c2",
   "metadata": {},
   "source": [
    "## Main"
   ]
  },
  {
   "cell_type": "markdown",
   "id": "2fe41d9e",
   "metadata": {},
   "source": [
    "### load specparam results"
   ]
  },
  {
   "cell_type": "code",
   "execution_count": 4,
   "id": "7d14605e",
   "metadata": {},
   "outputs": [
    {
     "name": "stdout",
     "output_type": "stream",
     "text": [
      "(5560, 19)\n",
      "695.0\n"
     ]
    },
    {
     "data": {
      "text/html": [
       "<div>\n",
       "<style scoped>\n",
       "    .dataframe tbody tr th:only-of-type {\n",
       "        vertical-align: middle;\n",
       "    }\n",
       "\n",
       "    .dataframe tbody tr th {\n",
       "        vertical-align: top;\n",
       "    }\n",
       "\n",
       "    .dataframe thead th {\n",
       "        text-align: right;\n",
       "    }\n",
       "</style>\n",
       "<table border=\"1\" class=\"dataframe\">\n",
       "  <thead>\n",
       "    <tr style=\"text-align: right;\">\n",
       "      <th></th>\n",
       "      <th>patient</th>\n",
       "      <th>chan_idx</th>\n",
       "      <th>label</th>\n",
       "      <th>pos_y</th>\n",
       "      <th>pos_x</th>\n",
       "      <th>pos_z</th>\n",
       "      <th>unique_id</th>\n",
       "      <th>material</th>\n",
       "      <th>memory</th>\n",
       "      <th>epoch</th>\n",
       "      <th>offset</th>\n",
       "      <th>knee</th>\n",
       "      <th>exponent</th>\n",
       "      <th>f_rotation</th>\n",
       "      <th>alpha_cf</th>\n",
       "      <th>alpha_pw</th>\n",
       "      <th>alpha_bw</th>\n",
       "      <th>alpha_bp</th>\n",
       "      <th>alpha_adj</th>\n",
       "    </tr>\n",
       "  </thead>\n",
       "  <tbody>\n",
       "    <tr>\n",
       "      <th>0</th>\n",
       "      <td>pat02</td>\n",
       "      <td>0</td>\n",
       "      <td>A01-A02</td>\n",
       "      <td>-65.43100</td>\n",
       "      <td>61.94490</td>\n",
       "      <td>3.55955</td>\n",
       "      <td>pat02_0</td>\n",
       "      <td>words</td>\n",
       "      <td>hit</td>\n",
       "      <td>prestim</td>\n",
       "      <td>8.451107</td>\n",
       "      <td>12.903272</td>\n",
       "      <td>3.542673</td>\n",
       "      <td>10.978558</td>\n",
       "      <td>NaN</td>\n",
       "      <td>NaN</td>\n",
       "      <td>NaN</td>\n",
       "      <td>27777.899824</td>\n",
       "      <td>5664.172994</td>\n",
       "    </tr>\n",
       "    <tr>\n",
       "      <th>1</th>\n",
       "      <td>pat02</td>\n",
       "      <td>1</td>\n",
       "      <td>A02-A03</td>\n",
       "      <td>-70.93895</td>\n",
       "      <td>57.17765</td>\n",
       "      <td>12.15540</td>\n",
       "      <td>pat02_1</td>\n",
       "      <td>words</td>\n",
       "      <td>hit</td>\n",
       "      <td>prestim</td>\n",
       "      <td>7.595982</td>\n",
       "      <td>12.332651</td>\n",
       "      <td>3.052480</td>\n",
       "      <td>83.836257</td>\n",
       "      <td>10.839096</td>\n",
       "      <td>0.210785</td>\n",
       "      <td>2.000000</td>\n",
       "      <td>14445.161672</td>\n",
       "      <td>2948.320508</td>\n",
       "    </tr>\n",
       "    <tr>\n",
       "      <th>2</th>\n",
       "      <td>pat02</td>\n",
       "      <td>2</td>\n",
       "      <td>A03-A04</td>\n",
       "      <td>-75.39550</td>\n",
       "      <td>51.39440</td>\n",
       "      <td>20.94335</td>\n",
       "      <td>pat02_2</td>\n",
       "      <td>words</td>\n",
       "      <td>hit</td>\n",
       "      <td>prestim</td>\n",
       "      <td>7.056773</td>\n",
       "      <td>8.787521</td>\n",
       "      <td>2.774045</td>\n",
       "      <td>89.824561</td>\n",
       "      <td>12.850783</td>\n",
       "      <td>0.276397</td>\n",
       "      <td>2.000000</td>\n",
       "      <td>15085.969728</td>\n",
       "      <td>4269.780182</td>\n",
       "    </tr>\n",
       "    <tr>\n",
       "      <th>3</th>\n",
       "      <td>pat02</td>\n",
       "      <td>3</td>\n",
       "      <td>A04-A05</td>\n",
       "      <td>-78.91950</td>\n",
       "      <td>43.90980</td>\n",
       "      <td>30.13485</td>\n",
       "      <td>pat02_3</td>\n",
       "      <td>words</td>\n",
       "      <td>hit</td>\n",
       "      <td>prestim</td>\n",
       "      <td>7.595080</td>\n",
       "      <td>10.177476</td>\n",
       "      <td>2.940543</td>\n",
       "      <td>59.883041</td>\n",
       "      <td>NaN</td>\n",
       "      <td>NaN</td>\n",
       "      <td>NaN</td>\n",
       "      <td>23672.502537</td>\n",
       "      <td>2726.078761</td>\n",
       "    </tr>\n",
       "    <tr>\n",
       "      <th>4</th>\n",
       "      <td>pat02</td>\n",
       "      <td>4</td>\n",
       "      <td>A05-A06</td>\n",
       "      <td>-80.96735</td>\n",
       "      <td>35.21485</td>\n",
       "      <td>38.13475</td>\n",
       "      <td>pat02_4</td>\n",
       "      <td>words</td>\n",
       "      <td>hit</td>\n",
       "      <td>prestim</td>\n",
       "      <td>7.399935</td>\n",
       "      <td>9.126477</td>\n",
       "      <td>2.872949</td>\n",
       "      <td>65.871345</td>\n",
       "      <td>11.565201</td>\n",
       "      <td>0.227912</td>\n",
       "      <td>2.671217</td>\n",
       "      <td>21742.063343</td>\n",
       "      <td>3556.630628</td>\n",
       "    </tr>\n",
       "  </tbody>\n",
       "</table>\n",
       "</div>"
      ],
      "text/plain": [
       "  patient  chan_idx    label     pos_y     pos_x     pos_z unique_id material  \\\n",
       "0   pat02         0  A01-A02 -65.43100  61.94490   3.55955   pat02_0    words   \n",
       "1   pat02         1  A02-A03 -70.93895  57.17765  12.15540   pat02_1    words   \n",
       "2   pat02         2  A03-A04 -75.39550  51.39440  20.94335   pat02_2    words   \n",
       "3   pat02         3  A04-A05 -78.91950  43.90980  30.13485   pat02_3    words   \n",
       "4   pat02         4  A05-A06 -80.96735  35.21485  38.13475   pat02_4    words   \n",
       "\n",
       "  memory    epoch    offset       knee  exponent  f_rotation   alpha_cf  \\\n",
       "0    hit  prestim  8.451107  12.903272  3.542673   10.978558        NaN   \n",
       "1    hit  prestim  7.595982  12.332651  3.052480   83.836257  10.839096   \n",
       "2    hit  prestim  7.056773   8.787521  2.774045   89.824561  12.850783   \n",
       "3    hit  prestim  7.595080  10.177476  2.940543   59.883041        NaN   \n",
       "4    hit  prestim  7.399935   9.126477  2.872949   65.871345  11.565201   \n",
       "\n",
       "   alpha_pw  alpha_bw      alpha_bp    alpha_adj  \n",
       "0       NaN       NaN  27777.899824  5664.172994  \n",
       "1  0.210785  2.000000  14445.161672  2948.320508  \n",
       "2  0.276397  2.000000  15085.969728  4269.780182  \n",
       "3       NaN       NaN  23672.502537  2726.078761  \n",
       "4  0.227912  2.671217  21742.063343  3556.630628  "
      ]
     },
     "execution_count": 4,
     "metadata": {},
     "output_type": "execute_result"
    }
   ],
   "source": [
    "# load spectral parameterization results\n",
    "results = pd.read_csv(f\"{PROJECT_PATH}/data/results/spectral_parameters.csv\", index_col=0)\n",
    "\n",
    "# show\n",
    "print(results.shape)\n",
    "print(len(results)/8)\n",
    "results.head()"
   ]
  },
  {
   "cell_type": "markdown",
   "id": "91296cd1",
   "metadata": {},
   "source": [
    "### perform hierarchical bootsrap\n",
    "level 1: epoch (experimental condition)  \n",
    "level 2: patient  \n",
    "level 3: channel"
   ]
  },
  {
   "cell_type": "code",
   "execution_count": 5,
   "id": "87eafb65",
   "metadata": {},
   "outputs": [],
   "source": [
    "# split results by trial type (words/faces) and take successful trials only (memory==hit)\n",
    "df_w = results.loc[((results['memory']=='hit')&(results['material']=='words'))]\n",
    "df_f = results.loc[((results['memory']=='hit')&(results['material']=='faces'))]\n",
    "\n",
    "# start with one trial type\n",
    "df = df_w.copy()\n"
   ]
  },
  {
   "cell_type": "code",
   "execution_count": 6,
   "id": "3af7fd88",
   "metadata": {},
   "outputs": [
    {
     "name": "stdout",
     "output_type": "stream",
     "text": [
      "True difference: -0.105\n"
     ]
    }
   ],
   "source": [
    "# compute true difference between experimental conditions \n",
    "true_diff = np.nanmean(df.loc[df['epoch']=='poststim', VAR]) - \\\n",
    "    np.nanmean(df.loc[df['epoch']=='prestim', VAR])\n",
    "print(f\"True difference: {true_diff :0.3f}\")"
   ]
  },
  {
   "cell_type": "code",
   "execution_count": 7,
   "id": "fbf7fc35",
   "metadata": {},
   "outputs": [
    {
     "data": {
      "text/plain": [
       "{'pat02': 9,\n",
       " 'pat04': 82,\n",
       " 'pat05': 64,\n",
       " 'pat08': 76,\n",
       " 'pat10': 21,\n",
       " 'pat11': 68,\n",
       " 'pat15': 55,\n",
       " 'pat16': 13,\n",
       " 'pat17': 56,\n",
       " 'pat19': 88,\n",
       " 'pat20': 37,\n",
       " 'pat21': 73,\n",
       " 'pat22': 53}"
      ]
     },
     "execution_count": 7,
     "metadata": {},
     "output_type": "execute_result"
    }
   ],
   "source": [
    "# count number of channels for each patient\n",
    "patients = results['patient'].unique()\n",
    "temp = results[(results['memory']=='hit') & (results['material']=='words') & (results['epoch']=='prestim')]\n",
    "n_channels = dict()\n",
    "for patient in patients:\n",
    "    n_channels[patient] = len(temp.loc[temp['patient']==patient])\n",
    "n_channels"
   ]
  },
  {
   "cell_type": "code",
   "execution_count": 8,
   "id": "637c481a",
   "metadata": {},
   "outputs": [
    {
     "name": "stdout",
     "output_type": "stream",
     "text": [
      "Iteration 1/1000\n"
     ]
    },
    {
     "name": "stdout",
     "output_type": "stream",
     "text": [
      "Iteration 2/1000\n",
      "Iteration 3/1000\n",
      "Iteration 4/1000\n",
      "Iteration 5/1000\n",
      "Iteration 6/1000\n",
      "Iteration 7/1000\n",
      "Iteration 8/1000\n",
      "Iteration 9/1000\n",
      "Iteration 10/1000\n",
      "Iteration 11/1000\n",
      "Iteration 12/1000\n",
      "Iteration 13/1000\n",
      "Iteration 14/1000\n",
      "Iteration 15/1000\n",
      "Iteration 16/1000\n",
      "Iteration 17/1000\n",
      "Iteration 18/1000\n",
      "Iteration 19/1000\n"
     ]
    }
   ],
   "source": [
    "# perform hierarchical bootstrap on exponent values\n",
    "\n",
    "# time it \n",
    "t_start = time()\n",
    "\n",
    "# successful trials only\n",
    "df = results[results['memory']=='hit']\n",
    "n_samples = len(df)\n",
    "\n",
    "# get levels\n",
    "epochs = df['epoch'].unique()\n",
    "materials = df['material'].unique()\n",
    "# patients = df['patient'].unique()\n",
    "\n",
    "# loop through iterations\n",
    "diff = np.zeros(N_ITERATIONS)\n",
    "for i_iteration in range(N_ITERATIONS):\n",
    "    # display progress\n",
    "    print(f\"Iteration {i_iteration+1}/{N_ITERATIONS}\")\n",
    "\n",
    "    # resample level 1: epoch\n",
    "    epochs = np.random.choice(epochs, size=n_samples)\n",
    "    # resample level 2: patient\n",
    "    patients = np.random.choice(patients, size=n_samples)\n",
    "\n",
    "    # resample level 3: channel, and get data\n",
    "    value = np.zeros(n_samples)\n",
    "    for i_sample, (epoch, patient) in enumerate(zip(epochs, patients)):\n",
    "        # resample level 4: channel\n",
    "        channel = np.random.choice(n_channels[patient], size=1)[0]\n",
    "\n",
    "        # get data\n",
    "        value[i_sample] = df.loc[(df['epoch']==epoch) & (df['patient']==patient) & (df['chan_idx']==channel), VAR].values[0]\n",
    "\n",
    "    # compute difference between resampled experimental conditions\n",
    "    diff[i_iteration] = np.nanmean(value[len(value)//2:]) - np.nanmean(value[:len(value)//2])\n",
    "    # print(diff[i_iteration])\n",
    "\n",
    "# plot\n",
    "fig, ax = plt.subplots(figsize=(6,4))\n",
    "ax.hist(diff, bins=20, color='k')\n",
    "ax.axvline(true_diff, color='k', linestyle='--')\n",
    "ax.set_xlabel('exponent difference')\n",
    "ax.set_ylabel('count')\n",
    "ax.set_title('Resampled exponent')\n",
    "plt.show()\n",
    "\n",
    "# print time\n",
    "print(f\"Resampling completed in {time() - t_start :0.1f} s\")"
   ]
  },
  {
   "cell_type": "code",
   "execution_count": null,
   "id": "a1e6204c",
   "metadata": {},
   "outputs": [],
   "source": [
    "# # perform hierarchical bootstrap - include material as additional level\n",
    "\n",
    "# # time it \n",
    "# t_start = time()\n",
    "\n",
    "# # successful trials only\n",
    "# df = results[results['memory']=='hit']\n",
    "# n_samples = len(df)\n",
    "\n",
    "# # get levels\n",
    "# epochs = df['epoch'].unique()\n",
    "# materials = df['material'].unique()\n",
    "\n",
    "# # loop through iterations\n",
    "# diff = np.zeros(n_iterations)\n",
    "# for ii in range(n_iterations):\n",
    "#     # display progress\n",
    "#     print(f\"Iteration {ii+1}/{n_iterations}\")\n",
    "\n",
    "#     # resample level 1: epoch\n",
    "#     epochs = np.random.choice(epochs, size=n_samples)\n",
    "#     # resample level 2: material\n",
    "#     materials = np.random.choice(materials, size=n_samples)\n",
    "#     # resample level 3: patient\n",
    "#     patients = np.random.choice(patients, size=n_samples)\n",
    "\n",
    "#     # resample level 4: channel, and get data\n",
    "#     value = np.zeros(n_samples)\n",
    "#     for i_sample, (epoch, material, patient) in enumerate(zip(epochs, materials, patients)):\n",
    "#         # resample level 4: channel\n",
    "#         channel = np.random.choice(n_channels[patient], size=1)[0]\n",
    "\n",
    "#         # get data\n",
    "#         value[i_sample] = df.loc[(df['epoch']==epoch) & (df['material']==material) \\\n",
    "#             & (df['patient']==patient) & (df['chan_idx']==channel), var].values[0]\n",
    "\n",
    "#     # compute difference between resampled experimental conditions\n",
    "#     diff[i_iteration] = np.nanmean(value[len(value)//2:]) - np.nanmean(value[:len(value)//2])\n",
    "#     print(diff[i_iteration])\n",
    "\n",
    "# # plot\n",
    "# fig, ax = plt.subplots(figsize=(6,4))\n",
    "# ax.hist(diff, bins=20, color='k')\n",
    "# ax.axvline(true_diff, color='k', linestyle='--')\n",
    "# ax.set_xlabel('exponent difference')\n",
    "# ax.set_ylabel('count')\n",
    "# ax.set_title('Resampled exponent')\n",
    "# plt.show()\n",
    "\n",
    "# # print time\n",
    "# print(f\"Resampling completed in {time() - t_start :0.1f} s\")"
   ]
  }
 ],
 "metadata": {
  "kernelspec": {
   "display_name": "Python 3",
   "language": "python",
   "name": "python3"
  },
  "language_info": {
   "codemirror_mode": {
    "name": "ipython",
    "version": 3
   },
   "file_extension": ".py",
   "mimetype": "text/x-python",
   "name": "python",
   "nbconvert_exporter": "python",
   "pygments_lexer": "ipython3",
   "version": "3.9.12"
  }
 },
 "nbformat": 4,
 "nbformat_minor": 5
}
